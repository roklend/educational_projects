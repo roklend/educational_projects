{
 "cells": [
  {
   "cell_type": "markdown",
   "id": "05f5f5aa",
   "metadata": {
    "toc": true
   },
   "source": [
    "<h1>Table of Contents<span class=\"tocSkip\"></span></h1>\n",
    "<div class=\"toc\"><ul class=\"toc-item\"><li><span><a href=\"#Загрузка-и-подготовка-данных\" data-toc-modified-id=\"Загрузка-и-подготовка-данных-1\"><span class=\"toc-item-num\">1&nbsp;&nbsp;</span>Загрузка и подготовка данных</a></span><ul class=\"toc-item\"><li><span><a href=\"#Embedding-с-помощью-toxicBERT\" data-toc-modified-id=\"Embedding-с-помощью-toxicBERT-1.1\"><span class=\"toc-item-num\">1.1&nbsp;&nbsp;</span>Embedding с помощью toxicBERT</a></span></li><li><span><a href=\"#TF-IDF-признаки\" data-toc-modified-id=\"TF-IDF-признаки-1.2\"><span class=\"toc-item-num\">1.2&nbsp;&nbsp;</span><em>TF-IDF</em> признаки</a></span></li><li><span><a href=\"#Борьба-с-несбалансированностью-классов\" data-toc-modified-id=\"Борьба-с-несбалансированностью-классов-1.3\"><span class=\"toc-item-num\">1.3&nbsp;&nbsp;</span>Борьба с несбалансированностью классов</a></span></li></ul></li><li><span><a href=\"#Обучение-моделей\" data-toc-modified-id=\"Обучение-моделей-2\"><span class=\"toc-item-num\">2&nbsp;&nbsp;</span>Обучение моделей</a></span><ul class=\"toc-item\"><li><span><a href=\"#Обучение-да-признаках-BERT\" data-toc-modified-id=\"Обучение-да-признаках-BERT-2.1\"><span class=\"toc-item-num\">2.1&nbsp;&nbsp;</span>Обучение да признаках BERT</a></span><ul class=\"toc-item\"><li><span><a href=\"#LightGBM\" data-toc-modified-id=\"LightGBM-2.1.1\"><span class=\"toc-item-num\">2.1.1&nbsp;&nbsp;</span>LightGBM</a></span></li><li><span><a href=\"#RandomForestClassifier\" data-toc-modified-id=\"RandomForestClassifier-2.1.2\"><span class=\"toc-item-num\">2.1.2&nbsp;&nbsp;</span>RandomForestClassifier</a></span></li><li><span><a href=\"#LogisticRegression\" data-toc-modified-id=\"LogisticRegression-2.1.3\"><span class=\"toc-item-num\">2.1.3&nbsp;&nbsp;</span>LogisticRegression</a></span></li><li><span><a href=\"#CatBoost-Classifier\" data-toc-modified-id=\"CatBoost-Classifier-2.1.4\"><span class=\"toc-item-num\">2.1.4&nbsp;&nbsp;</span>CatBoost Classifier</a></span></li></ul></li><li><span><a href=\"#Обучение-на-признаках-TF-IDF\" data-toc-modified-id=\"Обучение-на-признаках-TF-IDF-2.2\"><span class=\"toc-item-num\">2.2&nbsp;&nbsp;</span>Обучение на признаках <em>TF-IDF</em></a></span><ul class=\"toc-item\"><li><span><a href=\"#LightGBM\" data-toc-modified-id=\"LightGBM-2.2.1\"><span class=\"toc-item-num\">2.2.1&nbsp;&nbsp;</span>LightGBM</a></span></li><li><span><a href=\"#RandomForestClassifier\" data-toc-modified-id=\"RandomForestClassifier-2.2.2\"><span class=\"toc-item-num\">2.2.2&nbsp;&nbsp;</span>RandomForestClassifier</a></span></li><li><span><a href=\"#LogisticRegression\" data-toc-modified-id=\"LogisticRegression-2.2.3\"><span class=\"toc-item-num\">2.2.3&nbsp;&nbsp;</span>LogisticRegression</a></span></li><li><span><a href=\"#CatBoost-Classifier\" data-toc-modified-id=\"CatBoost-Classifier-2.2.4\"><span class=\"toc-item-num\">2.2.4&nbsp;&nbsp;</span>CatBoost Classifier</a></span></li><li><span><a href=\"#BernoulliNB\" data-toc-modified-id=\"BernoulliNB-2.2.5\"><span class=\"toc-item-num\">2.2.5&nbsp;&nbsp;</span>BernoulliNB</a></span></li></ul></li><li><span><a href=\"#Сравнение-моделей\" data-toc-modified-id=\"Сравнение-моделей-2.3\"><span class=\"toc-item-num\">2.3&nbsp;&nbsp;</span>Сравнение моделей</a></span></li></ul></li><li><span><a href=\"#Тестирование\" data-toc-modified-id=\"Тестирование-3\"><span class=\"toc-item-num\">3&nbsp;&nbsp;</span>Тестирование</a></span></li><li><span><a href=\"#Вывод\" data-toc-modified-id=\"Вывод-4\"><span class=\"toc-item-num\">4&nbsp;&nbsp;</span>Вывод</a></span></li></ul></div>"
   ]
  },
  {
   "cell_type": "markdown",
   "id": "bad15382",
   "metadata": {},
   "source": [
    "# Антитоксичная модель"
   ]
  },
  {
   "cell_type": "markdown",
   "id": "b51d7ab0",
   "metadata": {},
   "source": [
    "Интернет-магазин «Викишоп» запускает новый сервис. Теперь пользователи могут редактировать и дополнять описания товаров, как в вики-сообществах. То есть клиенты предлагают свои правки и комментируют изменения других. Магазину нужен инструмент, который будет искать токсичные комментарии и отправлять их на модерацию. <br>\n",
    "\n",
    "Необходимо научить модель классифицировать комментарии на позитивные и негативные. В распоряжении имеется набор данных (тексты на английском языке) с разметкой о токсичности правок. <br>\n",
    "\n",
    "Значением метрики качества F1 должно быть не меньше 0.75."
   ]
  },
  {
   "cell_type": "code",
   "execution_count": 1,
   "id": "7b5658ea",
   "metadata": {},
   "outputs": [],
   "source": [
    "import numpy as np\n",
    "import pandas as pd\n",
    "import tensorflow\n",
    "import re\n",
    "import torch\n",
    "import matplotlib.pyplot as plt\n",
    "\n",
    "import transformers\n",
    "from transformers import DistilBertConfig, DistilBertModel, DistilBertTokenizer\n",
    "\n",
    "from tqdm import notebook\n",
    "\n",
    "from sklearn.linear_model import LogisticRegression\n",
    "from sklearn.metrics import f1_score, roc_curve, roc_auc_score\n",
    "from sklearn.tree import DecisionTreeClassifier\n",
    "from sklearn.ensemble import RandomForestClassifier\n",
    "from sklearn.utils import shuffle\n",
    "from sklearn.feature_extraction.text import TfidfVectorizer\n",
    "from sklearn.model_selection import (\n",
    "    train_test_split,\n",
    "    GridSearchCV,\n",
    "    RandomizedSearchCV\n",
    ")\n",
    "from sklearn.naive_bayes import BernoulliNB\n",
    "from sklearn.dummy import DummyClassifier\n",
    "\n",
    "from imblearn.over_sampling import SMOTE\n",
    "from imblearn.pipeline import make_pipeline\n",
    "\n",
    "import nltk\n",
    "from nltk.corpus import stopwords as nltk_stopwords\n",
    "from nltk import word_tokenize, pos_tag\n",
    "from nltk.stem import WordNetLemmatizer\n",
    "\n",
    "from lightgbm import LGBMClassifier\n",
    "\n",
    "from catboost import CatBoostClassifier"
   ]
  },
  {
   "cell_type": "code",
   "execution_count": 2,
   "id": "8ce04973",
   "metadata": {},
   "outputs": [],
   "source": [
    "STATE = np.random.RandomState(12345)"
   ]
  },
  {
   "cell_type": "markdown",
   "id": "aa081476",
   "metadata": {},
   "source": [
    "## Загрузка и подготовка данных"
   ]
  },
  {
   "cell_type": "markdown",
   "id": "b12545bd",
   "metadata": {},
   "source": [
    "Для начала загрузим и посмотрим на данные."
   ]
  },
  {
   "cell_type": "code",
   "execution_count": 3,
   "id": "52548e7b",
   "metadata": {},
   "outputs": [
    {
     "name": "stdout",
     "output_type": "stream",
     "text": [
      "(159292, 2)\n"
     ]
    },
    {
     "data": {
      "text/html": [
       "<div>\n",
       "<style scoped>\n",
       "    .dataframe tbody tr th:only-of-type {\n",
       "        vertical-align: middle;\n",
       "    }\n",
       "\n",
       "    .dataframe tbody tr th {\n",
       "        vertical-align: top;\n",
       "    }\n",
       "\n",
       "    .dataframe thead th {\n",
       "        text-align: right;\n",
       "    }\n",
       "</style>\n",
       "<table border=\"1\" class=\"dataframe\">\n",
       "  <thead>\n",
       "    <tr style=\"text-align: right;\">\n",
       "      <th></th>\n",
       "      <th>text</th>\n",
       "      <th>toxic</th>\n",
       "    </tr>\n",
       "  </thead>\n",
       "  <tbody>\n",
       "    <tr>\n",
       "      <th>0</th>\n",
       "      <td>Explanation\\nWhy the edits made under my usern...</td>\n",
       "      <td>0</td>\n",
       "    </tr>\n",
       "    <tr>\n",
       "      <th>1</th>\n",
       "      <td>D'aww! He matches this background colour I'm s...</td>\n",
       "      <td>0</td>\n",
       "    </tr>\n",
       "    <tr>\n",
       "      <th>2</th>\n",
       "      <td>Hey man, I'm really not trying to edit war. It...</td>\n",
       "      <td>0</td>\n",
       "    </tr>\n",
       "    <tr>\n",
       "      <th>3</th>\n",
       "      <td>\"\\nMore\\nI can't make any real suggestions on ...</td>\n",
       "      <td>0</td>\n",
       "    </tr>\n",
       "    <tr>\n",
       "      <th>4</th>\n",
       "      <td>You, sir, are my hero. Any chance you remember...</td>\n",
       "      <td>0</td>\n",
       "    </tr>\n",
       "  </tbody>\n",
       "</table>\n",
       "</div>"
      ],
      "text/plain": [
       "                                                text  toxic\n",
       "0  Explanation\\nWhy the edits made under my usern...      0\n",
       "1  D'aww! He matches this background colour I'm s...      0\n",
       "2  Hey man, I'm really not trying to edit war. It...      0\n",
       "3  \"\\nMore\\nI can't make any real suggestions on ...      0\n",
       "4  You, sir, are my hero. Any chance you remember...      0"
      ]
     },
     "metadata": {},
     "output_type": "display_data"
    },
    {
     "name": "stdout",
     "output_type": "stream",
     "text": [
      "<class 'pandas.core.frame.DataFrame'>\n",
      "Int64Index: 159292 entries, 0 to 159450\n",
      "Data columns (total 2 columns):\n",
      " #   Column  Non-Null Count   Dtype \n",
      "---  ------  --------------   ----- \n",
      " 0   text    159292 non-null  object\n",
      " 1   toxic   159292 non-null  int64 \n",
      "dtypes: int64(1), object(1)\n",
      "memory usage: 3.6+ MB\n"
     ]
    }
   ],
   "source": [
    "data = pd.read_csv('toxic_comments.csv', index_col=0)\n",
    "print(data.shape)\n",
    "display(data.head())\n",
    "data.info()"
   ]
  },
  {
   "cell_type": "markdown",
   "id": "a076f577",
   "metadata": {},
   "source": [
    "В нашем распоряжении имеется достаточно большой объем данных (159 тысяч строк и два столбца). Пустых значений нет. <br>\n",
    "В столбце *text* представлены твиты на английском языке, а в *toxic* - является твит \"токсичным\". <br>\n",
    "Далее нам стоит очистить текст для дальнейшей работы с ним."
   ]
  },
  {
   "cell_type": "code",
   "execution_count": 4,
   "id": "e4a68a93",
   "metadata": {},
   "outputs": [],
   "source": [
    "# Функция для очистки текста\n",
    "def clear_text(text):\n",
    "    clear_text = re.sub(r'[^a-zA-Z ]', ' ', text).split()\n",
    "    clear_text = ' '.join(clear_text)\n",
    "    return(clear_text)"
   ]
  },
  {
   "cell_type": "code",
   "execution_count": 5,
   "id": "59a79bf6",
   "metadata": {},
   "outputs": [],
   "source": [
    "# Функция для приведения слов текста к \"лемме\"\n",
    "wnl = WordNetLemmatizer()\n",
    "\n",
    "def lemmatize(text):\n",
    "    text = text.lower()\n",
    "    text = [wnl.lemmatize(i,j[0].lower()) if j[0].lower() in ['a','n','v'] else wnl.lemmatize(i) for i,j in pos_tag(word_tokenize(text))]\n",
    "    text = ' '.join(text)\n",
    "    return text"
   ]
  },
  {
   "cell_type": "markdown",
   "id": "ffe32bb7",
   "metadata": {},
   "source": [
    "Также в дальнейшем мы отберем не слишком длинные твиты, поэтому удет полезно знать количество слов в строках текста."
   ]
  },
  {
   "cell_type": "code",
   "execution_count": 6,
   "id": "80a5a980",
   "metadata": {},
   "outputs": [],
   "source": [
    "def cut(tweet):\n",
    "    return len(tweet.split())"
   ]
  },
  {
   "cell_type": "markdown",
   "id": "e851dab7",
   "metadata": {},
   "source": [
    "Очистим текст"
   ]
  },
  {
   "cell_type": "code",
   "execution_count": 7,
   "id": "d4d2218c",
   "metadata": {},
   "outputs": [],
   "source": [
    "data['text'] = data['text'].apply(clear_text)"
   ]
  },
  {
   "cell_type": "markdown",
   "id": "4b646140",
   "metadata": {},
   "source": [
    "Также проверим на дубликаты и, если обнаружим их, удалим."
   ]
  },
  {
   "cell_type": "code",
   "execution_count": 8,
   "id": "66f5c4a1",
   "metadata": {},
   "outputs": [
    {
     "data": {
      "text/plain": [
       "1148"
      ]
     },
     "execution_count": 8,
     "metadata": {},
     "output_type": "execute_result"
    }
   ],
   "source": [
    "data.duplicated().sum()"
   ]
  },
  {
   "cell_type": "code",
   "execution_count": 9,
   "id": "27858001",
   "metadata": {},
   "outputs": [
    {
     "data": {
      "text/plain": [
       "0"
      ]
     },
     "execution_count": 9,
     "metadata": {},
     "output_type": "execute_result"
    }
   ],
   "source": [
    "data.drop_duplicates(inplace=True)\n",
    "data.duplicated().sum()"
   ]
  },
  {
   "cell_type": "markdown",
   "id": "58717446",
   "metadata": {},
   "source": [
    "Теперь добавим столбец с количеством слов для удобства."
   ]
  },
  {
   "cell_type": "code",
   "execution_count": 10,
   "id": "52722be5",
   "metadata": {},
   "outputs": [],
   "source": [
    "data['n_words'] = data['text'].apply(cut)"
   ]
  },
  {
   "cell_type": "markdown",
   "id": "3a443e8c",
   "metadata": {},
   "source": [
    "Для анализа возьмем твиты длиной не более 60 слов. Это уменьшит вычислительную мощность, необходимую на преобразование в признаки."
   ]
  },
  {
   "cell_type": "code",
   "execution_count": 11,
   "id": "c26541c4",
   "metadata": {},
   "outputs": [],
   "source": [
    "data = data.query('n_words <= 60')\n",
    "data = data.drop('n_words', axis=1)"
   ]
  },
  {
   "cell_type": "code",
   "execution_count": 12,
   "id": "5328583c",
   "metadata": {},
   "outputs": [
    {
     "name": "stdout",
     "output_type": "stream",
     "text": [
      "<class 'pandas.core.frame.DataFrame'>\n",
      "Int64Index: 107475 entries, 0 to 159450\n",
      "Data columns (total 2 columns):\n",
      " #   Column  Non-Null Count   Dtype \n",
      "---  ------  --------------   ----- \n",
      " 0   text    107475 non-null  object\n",
      " 1   toxic   107475 non-null  int64 \n",
      "dtypes: int64(1), object(1)\n",
      "memory usage: 2.5+ MB\n"
     ]
    }
   ],
   "source": [
    "data.info()"
   ]
  },
  {
   "cell_type": "code",
   "execution_count": 13,
   "id": "6097080d",
   "metadata": {},
   "outputs": [
    {
     "name": "stdout",
     "output_type": "stream",
     "text": [
      "0    0.881182\n",
      "1    0.118818\n",
      "Name: toxic, dtype: float64\n"
     ]
    },
    {
     "data": {
      "text/plain": [
       "<AxesSubplot:>"
      ]
     },
     "execution_count": 13,
     "metadata": {},
     "output_type": "execute_result"
    },
    {
     "data": {
      "image/png": "[encoded data removed]",
      "text/plain": [
       "<Figure size 432x288 with 1 Axes>"
      ]
     },
     "metadata": {
      "needs_background": "light"
     },
     "output_type": "display_data"
    }
   ],
   "source": [
    "class_frequency = data['toxic'].value_counts(normalize=True)\n",
    "print(class_frequency)\n",
    "class_frequency.plot(kind='bar')"
   ]
  },
  {
   "cell_type": "markdown",
   "id": "7f654399",
   "metadata": {},
   "source": [
    "Итак, мы имеем несбалансированную классификацию. Мы умеем с ней бороться, чем мы и займемся позже. <br>\n",
    "Сейчас - разделение на тестовую и тренировочную выборки в соотношении 2:8 соответственно."
   ]
  },
  {
   "cell_type": "markdown",
   "id": "a6f296b5",
   "metadata": {},
   "source": [
    "В исходном датафрейме 150 000 строк. Их обработка требует значительных мощностей, поэтому возьмем лишь часть данных."
   ]
  },
  {
   "cell_type": "code",
   "execution_count": 14,
   "id": "be6e955c",
   "metadata": {},
   "outputs": [
    {
     "name": "stdout",
     "output_type": "stream",
     "text": [
      "0    0.8848\n",
      "1    0.1152\n",
      "Name: toxic, dtype: float64\n"
     ]
    },
    {
     "data": {
      "text/plain": [
       "<AxesSubplot:>"
      ]
     },
     "execution_count": 14,
     "metadata": {},
     "output_type": "execute_result"
    },
    {
     "data": {
      "image/png": "[encoded data removed]",
      "text/plain": [
       "<Figure size 432x288 with 1 Axes>"
      ]
     },
     "metadata": {
      "needs_background": "light"
     },
     "output_type": "display_data"
    }
   ],
   "source": [
    "data = data.sample(10000).reset_index(drop=True)\n",
    "class_frequency = data['toxic'].value_counts(normalize=True)\n",
    "print(class_frequency)\n",
    "class_frequency.plot(kind='bar')"
   ]
  },
  {
   "cell_type": "markdown",
   "id": "25a75c8b",
   "metadata": {},
   "source": [
    "Настало время лемматизации!"
   ]
  },
  {
   "cell_type": "code",
   "execution_count": 15,
   "id": "0aa880e4",
   "metadata": {},
   "outputs": [
    {
     "name": "stderr",
     "output_type": "stream",
     "text": [
      "[nltk_data] Downloading package punkt to\n",
      "[nltk_data]     C:\\Users\\Yuriy\\AppData\\Roaming\\nltk_data...\n",
      "[nltk_data]   Package punkt is already up-to-date!\n",
      "[nltk_data] Downloading package averaged_perceptron_tagger to\n",
      "[nltk_data]     C:\\Users\\Yuriy\\AppData\\Roaming\\nltk_data...\n",
      "[nltk_data]   Package averaged_perceptron_tagger is already up-to-\n",
      "[nltk_data]       date!\n",
      "[nltk_data] Downloading package wordnet to\n",
      "[nltk_data]     C:\\Users\\Yuriy\\AppData\\Roaming\\nltk_data...\n",
      "[nltk_data]   Package wordnet is already up-to-date!\n"
     ]
    },
    {
     "data": {
      "text/plain": [
       "True"
      ]
     },
     "execution_count": 15,
     "metadata": {},
     "output_type": "execute_result"
    }
   ],
   "source": [
    "nltk.download('punkt')\n",
    "nltk.download('averaged_perceptron_tagger')\n",
    "nltk.download('wordnet')"
   ]
  },
  {
   "cell_type": "code",
   "execution_count": 16,
   "id": "ebccfc3c",
   "metadata": {},
   "outputs": [],
   "source": [
    "data['text_lem'] = data['text'].apply(lemmatize)"
   ]
  },
  {
   "cell_type": "markdown",
   "id": "7630e055",
   "metadata": {},
   "source": [
    "Посмотрим на получившийся фрейм данных."
   ]
  },
  {
   "cell_type": "code",
   "execution_count": 17,
   "id": "3640d92b",
   "metadata": {},
   "outputs": [
    {
     "data": {
      "text/html": [
       "<div>\n",
       "<style scoped>\n",
       "    .dataframe tbody tr th:only-of-type {\n",
       "        vertical-align: middle;\n",
       "    }\n",
       "\n",
       "    .dataframe tbody tr th {\n",
       "        vertical-align: top;\n",
       "    }\n",
       "\n",
       "    .dataframe thead th {\n",
       "        text-align: right;\n",
       "    }\n",
       "</style>\n",
       "<table border=\"1\" class=\"dataframe\">\n",
       "  <thead>\n",
       "    <tr style=\"text-align: right;\">\n",
       "      <th></th>\n",
       "      <th>text</th>\n",
       "      <th>toxic</th>\n",
       "      <th>text_lem</th>\n",
       "    </tr>\n",
       "  </thead>\n",
       "  <tbody>\n",
       "    <tr>\n",
       "      <th>0</th>\n",
       "      <td>You should put the photo of Aristidh Kola for ...</td>\n",
       "      <td>0</td>\n",
       "      <td>you should put the photo of aristidh kola for ...</td>\n",
       "    </tr>\n",
       "    <tr>\n",
       "      <th>1</th>\n",
       "      <td>I am attempting to a dumping ground talk page ...</td>\n",
       "      <td>0</td>\n",
       "      <td>i be attempt to a dumping ground talk page her...</td>\n",
       "    </tr>\n",
       "    <tr>\n",
       "      <th>2</th>\n",
       "      <td>OK I understood now Thank you</td>\n",
       "      <td>0</td>\n",
       "      <td>ok i understand now thank you</td>\n",
       "    </tr>\n",
       "    <tr>\n",
       "      <th>3</th>\n",
       "      <td>I agree I just wanted to do the same revert be...</td>\n",
       "      <td>1</td>\n",
       "      <td>i agree i just want to do the same revert beca...</td>\n",
       "    </tr>\n",
       "    <tr>\n",
       "      <th>4</th>\n",
       "      <td>Explain how that argument was fallacious You a...</td>\n",
       "      <td>0</td>\n",
       "      <td>explain how that argument be fallacious you ar...</td>\n",
       "    </tr>\n",
       "  </tbody>\n",
       "</table>\n",
       "</div>"
      ],
      "text/plain": [
       "                                                text  toxic  \\\n",
       "0  You should put the photo of Aristidh Kola for ...      0   \n",
       "1  I am attempting to a dumping ground talk page ...      0   \n",
       "2                      OK I understood now Thank you      0   \n",
       "3  I agree I just wanted to do the same revert be...      1   \n",
       "4  Explain how that argument was fallacious You a...      0   \n",
       "\n",
       "                                            text_lem  \n",
       "0  you should put the photo of aristidh kola for ...  \n",
       "1  i be attempt to a dumping ground talk page her...  \n",
       "2                      ok i understand now thank you  \n",
       "3  i agree i just want to do the same revert beca...  \n",
       "4  explain how that argument be fallacious you ar...  "
      ]
     },
     "execution_count": 17,
     "metadata": {},
     "output_type": "execute_result"
    }
   ],
   "source": [
    "data.head()"
   ]
  },
  {
   "cell_type": "code",
   "execution_count": 18,
   "id": "ac33d151",
   "metadata": {},
   "outputs": [],
   "source": [
    "train, test = train_test_split(data, test_size=0.2, random_state=STATE)\n",
    "\n",
    "features_train = train['text_lem'].reset_index(drop=True)\n",
    "features_test = test['text_lem'].reset_index(drop=True)\n",
    "\n",
    "target_train = train['toxic'].reset_index(drop=True)\n",
    "target_test = test['toxic'].reset_index(drop=True)"
   ]
  },
  {
   "cell_type": "markdown",
   "id": "5c969de5",
   "metadata": {},
   "source": [
    "### Embedding с помощью toxicBERT"
   ]
  },
  {
   "cell_type": "markdown",
   "id": "8127bb15",
   "metadata": {},
   "source": [
    "Для получения признаков воспользуемся Бертом, обученном на английском языке."
   ]
  },
  {
   "cell_type": "code",
   "execution_count": 19,
   "id": "14480cdb",
   "metadata": {},
   "outputs": [],
   "source": [
    "def make_embeddings1(features):\n",
    "    tokenizer = transformers.BertTokenizer(vocab_file='toxic_bert/vocab.txt')\n",
    "\n",
    "    tokenized = features.apply(lambda x: tokenizer.encode(x, add_special_tokens=True, max_length=60, truncation=True, padding=True))\n",
    "\n",
    "    max_len = 0\n",
    "    for i in tokenized.values:\n",
    "        if len(i) > max_len:\n",
    "            max_len = len(i)\n",
    "\n",
    "    padded = np.array([i + [0]*(max_len - len(i)) for i in tokenized.values])\n",
    "\n",
    "    attention_mask = np.where(padded != 0, 1, 0)\n",
    "\n",
    "    config = transformers.BertConfig.from_json_file(\n",
    "        'toxic_bert/config.json')\n",
    "    model = transformers.BertModel.from_pretrained(\n",
    "        'toxic_bert/pytorch_model.bin', config=config)\n",
    "\n",
    "    batch_size = 100\n",
    "    embeddings = []\n",
    "    for i in notebook.tqdm(range(padded.shape[0] // batch_size)):\n",
    "            batch = torch.LongTensor(padded[batch_size*i:batch_size*(i+1)]) \n",
    "            attention_mask_batch = torch.LongTensor(attention_mask[batch_size*i:batch_size*(i+1)])\n",
    "        \n",
    "            with torch.no_grad():\n",
    "                batch_embeddings = model(batch, attention_mask=attention_mask_batch)\n",
    "        \n",
    "            embeddings.append(batch_embeddings[0][:,0,:].numpy())\n",
    "        \n",
    "    features = np.concatenate(embeddings)\n",
    "    features = pd.DataFrame(features)\n",
    "    return features"
   ]
  },
  {
   "cell_type": "markdown",
   "id": "b043cccf",
   "metadata": {},
   "source": [
    "Осталось только преобразовать признаки."
   ]
  },
  {
   "cell_type": "code",
   "execution_count": 20,
   "id": "a75ce7a3",
   "metadata": {},
   "outputs": [],
   "source": [
    "#features_train_bert = make_embeddings1(features_train)\n",
    "#features_train_bert.to_csv('features_train_toxic_bert')\n",
    "#target_train.to_csv('target_train_toxic_bert')\n",
    "\n",
    "#features_test_bert = make_embeddings1(features_test)\n",
    "#features_test_bert.to_csv('features_test_toxic_bert')\n",
    "#target_test.to_csv('target_test_toxic_bert')"
   ]
  },
  {
   "cell_type": "markdown",
   "id": "85944245",
   "metadata": {},
   "source": [
    "Потребовалось около 13 часов для того, чтобы обработать 10 000 строк. Получившиеся признаки были сохранены в формате csv для быстрого доступа к ним, и теперь в нашем распоряжении имеется множество данных для обучения."
   ]
  },
  {
   "cell_type": "code",
   "execution_count": 21,
   "id": "e4d0f549",
   "metadata": {},
   "outputs": [],
   "source": [
    "features_train_bert = pd.read_csv('features_train_toxic_bert', index_col=0)\n",
    "target_train_bert = pd.read_csv('target_train_toxic_bert', index_col=0)\n",
    "target_train_bert = target_train_bert['toxic']\n",
    "\n",
    "features_test_bert = pd.read_csv('features_test_toxic_bert', index_col=0)\n",
    "target_test_bert = pd.read_csv('target_test_toxic_bert', index_col=0)\n",
    "target_test_bert = target_test_bert['toxic']"
   ]
  },
  {
   "cell_type": "code",
   "execution_count": 22,
   "id": "b16d1ac9",
   "metadata": {},
   "outputs": [
    {
     "name": "stdout",
     "output_type": "stream",
     "text": [
      "Тренировочная выборка: (8000, 768) (8000,)\n",
      "Тестовая выборка выборка: (2000, 768) (2000,)\n"
     ]
    }
   ],
   "source": [
    "print('Тренировочная выборка:', features_train_bert.shape, target_train_bert.shape)\n",
    "print('Тестовая выборка выборка:', features_test_bert.shape, target_test_bert.shape)"
   ]
  },
  {
   "cell_type": "markdown",
   "id": "7e2147c2",
   "metadata": {},
   "source": [
    "Итого: у нас 768 признаков."
   ]
  },
  {
   "cell_type": "markdown",
   "id": "da2af550",
   "metadata": {},
   "source": [
    "### *TF-IDF* признаки"
   ]
  },
  {
   "cell_type": "code",
   "execution_count": 23,
   "id": "7f1f1da8",
   "metadata": {},
   "outputs": [
    {
     "name": "stderr",
     "output_type": "stream",
     "text": [
      "[nltk_data] Downloading package stopwords to\n",
      "[nltk_data]     C:\\Users\\Yuriy\\AppData\\Roaming\\nltk_data...\n",
      "[nltk_data]   Package stopwords is already up-to-date!\n"
     ]
    }
   ],
   "source": [
    "corpus_train = features_train\n",
    "corpus_test = features_test\n",
    "nltk.download('stopwords')\n",
    "stopwords = set(nltk_stopwords.words('english'))\n",
    "count_tf_idf = TfidfVectorizer(stop_words=list(stopwords))\n",
    "features_train_tf = count_tf_idf.fit_transform(corpus_train)\n",
    "features_test_tf = count_tf_idf.transform(corpus_test)"
   ]
  },
  {
   "cell_type": "code",
   "execution_count": 24,
   "id": "521713e8",
   "metadata": {},
   "outputs": [],
   "source": [
    "features_train_tf = pd.DataFrame(features_train_tf.todense())\n",
    "features_test_tf = pd.DataFrame(features_test_tf.todense())"
   ]
  },
  {
   "cell_type": "code",
   "execution_count": 25,
   "id": "7bbc30e4",
   "metadata": {},
   "outputs": [
    {
     "name": "stdout",
     "output_type": "stream",
     "text": [
      "Тренировочная выборка: (8000, 15210) (8000,)\n",
      "Тестовая выборка выборка: (2000, 15210) (2000,)\n"
     ]
    }
   ],
   "source": [
    "print('Тренировочная выборка:', features_train_tf.shape, target_train.shape)\n",
    "print('Тестовая выборка выборка:', features_test_tf.shape, target_test.shape)"
   ]
  },
  {
   "cell_type": "markdown",
   "id": "e8f7a10e",
   "metadata": {},
   "source": [
    "### Борьба с несбалансированностью классов"
   ]
  },
  {
   "cell_type": "code",
   "execution_count": 26,
   "id": "2725ad36",
   "metadata": {},
   "outputs": [],
   "source": [
    "oversample = SMOTE(random_state=STATE)\n",
    "features_train_bert_up, target_train_bert_up = oversample.fit_resample(features_train_bert, target_train_bert)"
   ]
  },
  {
   "cell_type": "code",
   "execution_count": 27,
   "id": "40fa5e4a",
   "metadata": {},
   "outputs": [],
   "source": [
    "oversample = SMOTE(random_state=STATE)\n",
    "features_train_tf_up, target_train_tf_up = oversample.fit_resample(features_train_tf, target_train)"
   ]
  },
  {
   "cell_type": "markdown",
   "id": "ab4f61ad",
   "metadata": {},
   "source": [
    "## Обучение моделей"
   ]
  },
  {
   "cell_type": "markdown",
   "id": "4a773ad4",
   "metadata": {},
   "source": [
    "### Обучение да признаках BERT"
   ]
  },
  {
   "cell_type": "markdown",
   "id": "5332a133",
   "metadata": {},
   "source": [
    "#### LightGBM"
   ]
  },
  {
   "cell_type": "code",
   "execution_count": 28,
   "id": "49fc02d5",
   "metadata": {},
   "outputs": [
    {
     "name": "stdout",
     "output_type": "stream",
     "text": [
      "[LightGBM] [Warning] min_data_in_leaf is set=5, min_child_samples=20 will be ignored. Current value: min_data_in_leaf=5\n",
      "best_score: 0.9174178947575886\n",
      "best_params: {'lgbmclassifier__num_leaves': 500, 'lgbmclassifier__n_estimators': 500, 'lgbmclassifier__min_data_in_leaf': 5, 'lgbmclassifier__max_depth': -1}\n",
      "Wall time: 15min 14s\n"
     ]
    }
   ],
   "source": [
    "%%time\n",
    "\n",
    "model_lgb = LGBMClassifier(random_state=STATE)\n",
    "\n",
    "pipeline_lgb = make_pipeline(SMOTE(random_state=STATE), \n",
    "                              model_lgb)\n",
    "\n",
    "param_grid_lgb = {\n",
    "    'lgbmclassifier__max_depth': [9, 21, -1],\n",
    "    'lgbmclassifier__min_data_in_leaf': [4, 5],\n",
    "    'lgbmclassifier__num_leaves': [300, 500],\n",
    "    'lgbmclassifier__n_estimators' : [500]\n",
    "}\n",
    "\n",
    "gs_lgb_bert = RandomizedSearchCV(\n",
    "    pipeline_lgb, \n",
    "    param_distributions=param_grid_lgb, \n",
    "    scoring='f1', \n",
    "    n_jobs=-1,\n",
    "    random_state=STATE\n",
    ")\n",
    "\n",
    "gs_lgb_bert.fit(features_train_bert, target_train_bert)\n",
    "\n",
    "lgb_bert_score = gs_lgb_bert.best_score_\n",
    "gs_lgb_bert_best_params = gs_lgb_bert.best_params_\n",
    "\n",
    "# лучшее значение f1 на кросс-валидации\n",
    "print(f'best_score: {lgb_bert_score}')\n",
    "# лучшие гиперпараметры\n",
    "print(f'best_params: {gs_lgb_bert_best_params}')"
   ]
  },
  {
   "cell_type": "markdown",
   "id": "997a7cce",
   "metadata": {},
   "source": [
    "#### RandomForestClassifier"
   ]
  },
  {
   "cell_type": "code",
   "execution_count": 29,
   "id": "0ae50028",
   "metadata": {},
   "outputs": [
    {
     "name": "stdout",
     "output_type": "stream",
     "text": [
      "best_score: 0.9152713186956118\n",
      "best_params: {'randomforestclassifier__n_estimators': 300, 'randomforestclassifier__min_samples_split': 7, 'randomforestclassifier__min_samples_leaf': 2, 'randomforestclassifier__max_depth': 13}\n",
      "Wall time: 7min 40s\n"
     ]
    }
   ],
   "source": [
    "%%time\n",
    "\n",
    "model_rf = RandomForestClassifier(random_state=STATE)\n",
    "\n",
    "pipeline_rf = make_pipeline(SMOTE(random_state=STATE), \n",
    "                              model_rf)\n",
    "\n",
    "param_grid_rf = {\n",
    "    'randomforestclassifier__n_estimators': [100, 300],\n",
    "    'randomforestclassifier__max_depth': [5, 13, 27],\n",
    "    'randomforestclassifier__min_samples_split': [2, 7, 13],\n",
    "    'randomforestclassifier__min_samples_leaf': [2, 4, 6]\n",
    "}\n",
    "\n",
    "gs_rf_bert = RandomizedSearchCV(\n",
    "    pipeline_rf, \n",
    "    param_distributions=param_grid_rf, \n",
    "    scoring='f1', \n",
    "    n_jobs=-1, \n",
    "    random_state=STATE\n",
    ")\n",
    "\n",
    "gs_rf_bert.fit(features_train_bert, target_train_bert)\n",
    "\n",
    "rf_bert_score = gs_rf_bert.best_score_\n",
    "gs_rf_bert_best_params = gs_rf_bert.best_params_\n",
    "print(f'best_score: {rf_bert_score}')\n",
    "print(f'best_params: {gs_rf_bert_best_params}')"
   ]
  },
  {
   "cell_type": "markdown",
   "id": "9ad47c3f",
   "metadata": {},
   "source": [
    "#### LogisticRegression"
   ]
  },
  {
   "cell_type": "code",
   "execution_count": 30,
   "id": "b29f4c49",
   "metadata": {},
   "outputs": [
    {
     "name": "stdout",
     "output_type": "stream",
     "text": [
      "best_score: 0.8969694527225218\n",
      "best_params: {'logisticregression__C': 0.1, 'logisticregression__max_iter': 100, 'logisticregression__solver': 'lbfgs'}\n",
      "Wall time: 11min 27s\n"
     ]
    },
    {
     "name": "stderr",
     "output_type": "stream",
     "text": [
      "C:\\ProgramData\\Anaconda3\\lib\\site-packages\\sklearn\\linear_model\\_logistic.py:458: ConvergenceWarning: lbfgs failed to converge (status=1):\n",
      "STOP: TOTAL NO. of ITERATIONS REACHED LIMIT.\n",
      "\n",
      "Increase the number of iterations (max_iter) or scale the data as shown in:\n",
      "    https://scikit-learn.org/stable/modules/preprocessing.html\n",
      "Please also refer to the documentation for alternative solver options:\n",
      "    https://scikit-learn.org/stable/modules/linear_model.html#logistic-regression\n",
      "  n_iter_i = _check_optimize_result(\n"
     ]
    }
   ],
   "source": [
    "%%time\n",
    "\n",
    "model_lr = LogisticRegression(random_state=STATE)\n",
    "\n",
    "pipeline_lr = make_pipeline(SMOTE(random_state=STATE), \n",
    "                              model_lr)\n",
    "\n",
    "param_grid_lr = {\n",
    "    'logisticregression__solver' : ['lbfgs', 'liblinear', 'newton-cg', 'sag', 'saga'],\n",
    "    'logisticregression__max_iter' : [100, 200, 500],\n",
    "    'logisticregression__C' : [0.01, 0.1, 1, 10, 100]\n",
    "}\n",
    "\n",
    "gs_lr_bert = GridSearchCV(\n",
    "    pipeline_lr, \n",
    "    param_grid=param_grid_lr, \n",
    "    scoring='f1', \n",
    "    n_jobs=-1\n",
    ")\n",
    "\n",
    "gs_lr_bert.fit(features_train_bert, target_train_bert)\n",
    "\n",
    "lr_bert_score = gs_lr_bert.best_score_\n",
    "gs_lr_bert_best_params = gs_lr_bert.best_params_\n",
    "\n",
    "# лучшее значение RMSE на кросс-валидации\n",
    "print(f'best_score: {lr_bert_score}')\n",
    "# лучшие гиперпараметры\n",
    "print(f'best_params: {gs_lr_bert_best_params}')"
   ]
  },
  {
   "cell_type": "markdown",
   "id": "2d07a021",
   "metadata": {},
   "source": [
    "#### CatBoost Classifier"
   ]
  },
  {
   "cell_type": "code",
   "execution_count": 31,
   "id": "168ed4b3",
   "metadata": {},
   "outputs": [
    {
     "name": "stdout",
     "output_type": "stream",
     "text": [
      "best_score: 0.9129548861963631\n",
      "best_params: {'catboostclassifier__custom_loss': 'F1', 'catboostclassifier__iterations': 700, 'catboostclassifier__learning_rate': 0.1}\n",
      "Wall time: 12min 10s\n"
     ]
    }
   ],
   "source": [
    "%%time\n",
    "\n",
    "model_cat = CatBoostClassifier(verbose=False)\n",
    "\n",
    "pipeline_cat = make_pipeline(SMOTE(random_state=STATE), \n",
    "                              model_cat)\n",
    "\n",
    "param_grid_cat = {\n",
    "    'catboostclassifier__learning_rate': [0.04, 0.1],\n",
    "    'catboostclassifier__iterations' : [200, 500, 700],\n",
    "    'catboostclassifier__custom_loss' : ['F1']\n",
    "}\n",
    "\n",
    "gs_cat_bert = GridSearchCV(\n",
    "    pipeline_cat, \n",
    "    param_grid=param_grid_cat, \n",
    "    scoring='f1', \n",
    "    n_jobs=-1\n",
    ")\n",
    "\n",
    "gs_cat_bert.fit(features_train_bert, target_train_bert)\n",
    "\n",
    "cat_bert_score = gs_cat_bert.best_score_\n",
    "gs_cat_bert_best_params = gs_cat_bert.best_params_\n",
    "\n",
    "# лучшее значение RMSE на кросс-валидации\n",
    "print(f'best_score: {cat_bert_score}')\n",
    "# лучшие гиперпараметры\n",
    "print(f'best_params: {gs_cat_bert_best_params}')"
   ]
  },
  {
   "cell_type": "markdown",
   "id": "3d418c1c",
   "metadata": {},
   "source": [
    "### Обучение на признаках *TF-IDF*"
   ]
  },
  {
   "cell_type": "markdown",
   "id": "c2f9b32e",
   "metadata": {},
   "source": [
    "#### LightGBM"
   ]
  },
  {
   "cell_type": "code",
   "execution_count": 32,
   "id": "b332d3e5",
   "metadata": {},
   "outputs": [
    {
     "name": "stderr",
     "output_type": "stream",
     "text": [
      "C:\\ProgramData\\Anaconda3\\lib\\site-packages\\sklearn\\model_selection\\_validation.py:378: FitFailedWarning: \n",
      "5 fits failed out of a total of 45.\n",
      "The score on these train-test partitions for these parameters will be set to nan.\n",
      "If these failures are not expected, you can try to debug them by setting error_score='raise'.\n",
      "\n",
      "Below are more details about the failures:\n",
      "--------------------------------------------------------------------------------\n",
      "1 fits failed with the following error:\n",
      "Traceback (most recent call last):\n",
      "  File \"C:\\ProgramData\\Anaconda3\\lib\\site-packages\\sklearn\\model_selection\\_validation.py\", line 686, in _fit_and_score\n",
      "    estimator.fit(X_train, y_train, **fit_params)\n",
      "  File \"C:\\ProgramData\\Anaconda3\\lib\\site-packages\\imblearn\\pipeline.py\", line 297, in fit\n",
      "    self._final_estimator.fit(Xt, yt, **fit_params_last_step)\n",
      "  File \"C:\\ProgramData\\Anaconda3\\lib\\site-packages\\lightgbm\\sklearn.py\", line 967, in fit\n",
      "    super().fit(X, _y, sample_weight=sample_weight, init_score=init_score, eval_set=valid_sets,\n",
      "  File \"C:\\ProgramData\\Anaconda3\\lib\\site-packages\\lightgbm\\sklearn.py\", line 748, in fit\n",
      "    self._Booster = train(\n",
      "  File \"C:\\ProgramData\\Anaconda3\\lib\\site-packages\\lightgbm\\engine.py\", line 271, in train\n",
      "    booster = Booster(params=params, train_set=train_set)\n",
      "  File \"C:\\ProgramData\\Anaconda3\\lib\\site-packages\\lightgbm\\basic.py\", line 2605, in __init__\n",
      "    train_set.construct()\n",
      "  File \"C:\\ProgramData\\Anaconda3\\lib\\site-packages\\lightgbm\\basic.py\", line 1815, in construct\n",
      "    self._lazy_init(self.data, label=self.label,\n",
      "  File \"C:\\ProgramData\\Anaconda3\\lib\\site-packages\\lightgbm\\basic.py\", line 1474, in _lazy_init\n",
      "    data, feature_name, categorical_feature, self.pandas_categorical = _data_from_pandas(data,\n",
      "  File \"C:\\ProgramData\\Anaconda3\\lib\\site-packages\\lightgbm\\basic.py\", line 568, in _data_from_pandas\n",
      "    data = data.rename(columns=str)\n",
      "  File \"C:\\ProgramData\\Anaconda3\\lib\\site-packages\\pandas\\util\\_decorators.py\", line 324, in wrapper\n",
      "    return func(*args, **kwargs)\n",
      "  File \"C:\\ProgramData\\Anaconda3\\lib\\site-packages\\pandas\\core\\frame.py\", line 5039, in rename\n",
      "    return super().rename(\n",
      "  File \"C:\\ProgramData\\Anaconda3\\lib\\site-packages\\pandas\\core\\generic.py\", line 1133, in rename\n",
      "    result = self if inplace else self.copy(deep=copy)\n",
      "  File \"C:\\ProgramData\\Anaconda3\\lib\\site-packages\\pandas\\core\\generic.py\", line 5933, in copy\n",
      "    data = self._mgr.copy(deep=deep)\n",
      "  File \"C:\\ProgramData\\Anaconda3\\lib\\site-packages\\pandas\\core\\internals\\managers.py\", line 603, in copy\n",
      "    res._consolidate_inplace()\n",
      "  File \"C:\\ProgramData\\Anaconda3\\lib\\site-packages\\pandas\\core\\internals\\managers.py\", line 624, in _consolidate_inplace\n",
      "    self.blocks = tuple(_consolidate(self.blocks))\n",
      "  File \"C:\\ProgramData\\Anaconda3\\lib\\site-packages\\pandas\\core\\internals\\managers.py\", line 1974, in _consolidate\n",
      "    merged_blocks = _merge_blocks(\n",
      "  File \"C:\\ProgramData\\Anaconda3\\lib\\site-packages\\pandas\\core\\internals\\managers.py\", line 2001, in _merge_blocks\n",
      "    new_values = np.vstack([b.values for b in blocks])  # type: ignore[misc]\n",
      "  File \"<__array_function__ internals>\", line 5, in vstack\n",
      "  File \"C:\\ProgramData\\Anaconda3\\lib\\site-packages\\numpy\\core\\shape_base.py\", line 283, in vstack\n",
      "    return _nx.concatenate(arrs, 0)\n",
      "  File \"<__array_function__ internals>\", line 5, in concatenate\n",
      "numpy.core._exceptions._ArrayMemoryError: Unable to allocate 1.28 GiB for an array with shape (15210, 11330) and data type float64\n",
      "\n",
      "--------------------------------------------------------------------------------\n",
      "3 fits failed with the following error:\n",
      "Traceback (most recent call last):\n",
      "  File \"C:\\ProgramData\\Anaconda3\\lib\\site-packages\\sklearn\\model_selection\\_validation.py\", line 686, in _fit_and_score\n",
      "    estimator.fit(X_train, y_train, **fit_params)\n",
      "  File \"C:\\ProgramData\\Anaconda3\\lib\\site-packages\\imblearn\\pipeline.py\", line 297, in fit\n",
      "    self._final_estimator.fit(Xt, yt, **fit_params_last_step)\n",
      "  File \"C:\\ProgramData\\Anaconda3\\lib\\site-packages\\lightgbm\\sklearn.py\", line 967, in fit\n",
      "    super().fit(X, _y, sample_weight=sample_weight, init_score=init_score, eval_set=valid_sets,\n",
      "  File \"C:\\ProgramData\\Anaconda3\\lib\\site-packages\\lightgbm\\sklearn.py\", line 748, in fit\n",
      "    self._Booster = train(\n",
      "  File \"C:\\ProgramData\\Anaconda3\\lib\\site-packages\\lightgbm\\engine.py\", line 271, in train\n",
      "    booster = Booster(params=params, train_set=train_set)\n",
      "  File \"C:\\ProgramData\\Anaconda3\\lib\\site-packages\\lightgbm\\basic.py\", line 2605, in __init__\n",
      "    train_set.construct()\n",
      "  File \"C:\\ProgramData\\Anaconda3\\lib\\site-packages\\lightgbm\\basic.py\", line 1815, in construct\n",
      "    self._lazy_init(self.data, label=self.label,\n",
      "  File \"C:\\ProgramData\\Anaconda3\\lib\\site-packages\\lightgbm\\basic.py\", line 1474, in _lazy_init\n",
      "    data, feature_name, categorical_feature, self.pandas_categorical = _data_from_pandas(data,\n",
      "  File \"C:\\ProgramData\\Anaconda3\\lib\\site-packages\\lightgbm\\basic.py\", line 568, in _data_from_pandas\n",
      "    data = data.rename(columns=str)\n",
      "  File \"C:\\ProgramData\\Anaconda3\\lib\\site-packages\\pandas\\util\\_decorators.py\", line 324, in wrapper\n",
      "    return func(*args, **kwargs)\n",
      "  File \"C:\\ProgramData\\Anaconda3\\lib\\site-packages\\pandas\\core\\frame.py\", line 5039, in rename\n",
      "    return super().rename(\n",
      "  File \"C:\\ProgramData\\Anaconda3\\lib\\site-packages\\pandas\\core\\generic.py\", line 1133, in rename\n",
      "    result = self if inplace else self.copy(deep=copy)\n",
      "  File \"C:\\ProgramData\\Anaconda3\\lib\\site-packages\\pandas\\core\\generic.py\", line 5933, in copy\n",
      "    data = self._mgr.copy(deep=deep)\n",
      "  File \"C:\\ProgramData\\Anaconda3\\lib\\site-packages\\pandas\\core\\internals\\managers.py\", line 603, in copy\n",
      "    res._consolidate_inplace()\n",
      "  File \"C:\\ProgramData\\Anaconda3\\lib\\site-packages\\pandas\\core\\internals\\managers.py\", line 624, in _consolidate_inplace\n",
      "    self.blocks = tuple(_consolidate(self.blocks))\n",
      "  File \"C:\\ProgramData\\Anaconda3\\lib\\site-packages\\pandas\\core\\internals\\managers.py\", line 1974, in _consolidate\n",
      "    merged_blocks = _merge_blocks(\n",
      "  File \"C:\\ProgramData\\Anaconda3\\lib\\site-packages\\pandas\\core\\internals\\managers.py\", line 2001, in _merge_blocks\n",
      "    new_values = np.vstack([b.values for b in blocks])  # type: ignore[misc]\n",
      "  File \"<__array_function__ internals>\", line 5, in vstack\n",
      "  File \"C:\\ProgramData\\Anaconda3\\lib\\site-packages\\numpy\\core\\shape_base.py\", line 283, in vstack\n",
      "    return _nx.concatenate(arrs, 0)\n",
      "  File \"<__array_function__ internals>\", line 5, in concatenate\n",
      "numpy.core._exceptions._ArrayMemoryError: Unable to allocate 1.28 GiB for an array with shape (15210, 11332) and data type float64\n",
      "\n",
      "--------------------------------------------------------------------------------\n",
      "1 fits failed with the following error:\n",
      "Traceback (most recent call last):\n",
      "  File \"C:\\ProgramData\\Anaconda3\\lib\\site-packages\\sklearn\\model_selection\\_validation.py\", line 686, in _fit_and_score\n",
      "    estimator.fit(X_train, y_train, **fit_params)\n",
      "  File \"C:\\ProgramData\\Anaconda3\\lib\\site-packages\\imblearn\\pipeline.py\", line 297, in fit\n",
      "    self._final_estimator.fit(Xt, yt, **fit_params_last_step)\n",
      "  File \"C:\\ProgramData\\Anaconda3\\lib\\site-packages\\lightgbm\\sklearn.py\", line 967, in fit\n",
      "    super().fit(X, _y, sample_weight=sample_weight, init_score=init_score, eval_set=valid_sets,\n",
      "  File \"C:\\ProgramData\\Anaconda3\\lib\\site-packages\\lightgbm\\sklearn.py\", line 748, in fit\n",
      "    self._Booster = train(\n",
      "  File \"C:\\ProgramData\\Anaconda3\\lib\\site-packages\\lightgbm\\engine.py\", line 271, in train\n",
      "    booster = Booster(params=params, train_set=train_set)\n",
      "  File \"C:\\ProgramData\\Anaconda3\\lib\\site-packages\\lightgbm\\basic.py\", line 2605, in __init__\n",
      "    train_set.construct()\n",
      "  File \"C:\\ProgramData\\Anaconda3\\lib\\site-packages\\lightgbm\\basic.py\", line 1815, in construct\n",
      "    self._lazy_init(self.data, label=self.label,\n",
      "  File \"C:\\ProgramData\\Anaconda3\\lib\\site-packages\\lightgbm\\basic.py\", line 1538, in _lazy_init\n",
      "    self.__init_from_np2d(data, params_str, ref_dataset)\n",
      "  File \"C:\\ProgramData\\Anaconda3\\lib\\site-packages\\lightgbm\\basic.py\", line 1654, in __init_from_np2d\n",
      "    data = np.array(mat.reshape(mat.size), dtype=mat.dtype, copy=False)\n",
      "numpy.core._exceptions._ArrayMemoryError: Unable to allocate 1.28 GiB for an array with shape (11332, 15210) and data type float64\n",
      "\n",
      "  warnings.warn(some_fits_failed_message, FitFailedWarning)\n",
      "C:\\ProgramData\\Anaconda3\\lib\\site-packages\\sklearn\\model_selection\\_search.py:952: UserWarning: One or more of the test scores are non-finite: [       nan        nan 0.74227121 0.72991773 0.73603825 0.73789614\n",
      " 0.73569952 0.73570086 0.73338633]\n",
      "  warnings.warn(\n"
     ]
    },
    {
     "name": "stdout",
     "output_type": "stream",
     "text": [
      "best_score: 0.7422712058914505\n",
      "best_params: {'lgbmclassifier__max_depth': 7, 'lgbmclassifier__min_data_in_leaf': 5, 'lgbmclassifier__n_estimators': 600, 'lgbmclassifier__num_leaves': 500}\n",
      "Wall time: 9min 4s\n"
     ]
    }
   ],
   "source": [
    "%%time\n",
    "\n",
    "model_lgb = LGBMClassifier(random_state=STATE)\n",
    "\n",
    "pipeline_lgb = make_pipeline(SMOTE(random_state=STATE), \n",
    "                              model_lgb)\n",
    "\n",
    "param_grid_lgb = {\n",
    "    'lgbmclassifier__max_depth': [7, 13, 30],\n",
    "    'lgbmclassifier__min_data_in_leaf': [5],\n",
    "    'lgbmclassifier__num_leaves': [500],\n",
    "    'lgbmclassifier__n_estimators' : [400, 500, 600]\n",
    "}\n",
    "\n",
    "\n",
    "gs_lgb = GridSearchCV(\n",
    "    pipeline_lgb,\n",
    "    param_grid=param_grid_lgb, \n",
    "    scoring='f1', \n",
    "    n_jobs=-1\n",
    ")\n",
    "\n",
    "gs_lgb.fit(features_train_tf, target_train)\n",
    "\n",
    "lgb_tf_score = gs_lgb.best_score_\n",
    "gs_lgb_tf_best_params = gs_lgb.best_params_\n",
    "\n",
    "# лучшее значение f1 на кросс-валидации\n",
    "print(f'best_score: {lgb_tf_score}')\n",
    "# лучшие гиперпараметры\n",
    "print(f'best_params: {gs_lgb_tf_best_params}')"
   ]
  },
  {
   "cell_type": "markdown",
   "id": "0e50ef20",
   "metadata": {},
   "source": [
    "#### RandomForestClassifier"
   ]
  },
  {
   "cell_type": "code",
   "execution_count": 33,
   "id": "6c2b93b8",
   "metadata": {},
   "outputs": [
    {
     "name": "stderr",
     "output_type": "stream",
     "text": [
      "C:\\ProgramData\\Anaconda3\\lib\\site-packages\\sklearn\\model_selection\\_validation.py:378: FitFailedWarning: \n",
      "3 fits failed out of a total of 50.\n",
      "The score on these train-test partitions for these parameters will be set to nan.\n",
      "If these failures are not expected, you can try to debug them by setting error_score='raise'.\n",
      "\n",
      "Below are more details about the failures:\n",
      "--------------------------------------------------------------------------------\n",
      "1 fits failed with the following error:\n",
      "Traceback (most recent call last):\n",
      "  File \"C:\\ProgramData\\Anaconda3\\lib\\site-packages\\sklearn\\model_selection\\_validation.py\", line 686, in _fit_and_score\n",
      "    estimator.fit(X_train, y_train, **fit_params)\n",
      "  File \"C:\\ProgramData\\Anaconda3\\lib\\site-packages\\imblearn\\pipeline.py\", line 293, in fit\n",
      "    Xt, yt = self._fit(X, y, **fit_params_steps)\n",
      "  File \"C:\\ProgramData\\Anaconda3\\lib\\site-packages\\imblearn\\pipeline.py\", line 250, in _fit\n",
      "    X, y, fitted_transformer = fit_resample_one_cached(\n",
      "  File \"C:\\ProgramData\\Anaconda3\\lib\\site-packages\\joblib\\memory.py\", line 349, in __call__\n",
      "    return self.func(*args, **kwargs)\n",
      "  File \"C:\\ProgramData\\Anaconda3\\lib\\site-packages\\imblearn\\pipeline.py\", line 422, in _fit_resample_one\n",
      "    X_res, y_res = sampler.fit_resample(X, y, **fit_params)\n",
      "  File \"C:\\ProgramData\\Anaconda3\\lib\\site-packages\\imblearn\\base.py\", line 203, in fit_resample\n",
      "    return super().fit_resample(X, y)\n",
      "  File \"C:\\ProgramData\\Anaconda3\\lib\\site-packages\\imblearn\\base.py\", line 88, in fit_resample\n",
      "    output = self._fit_resample(X, y)\n",
      "  File \"C:\\ProgramData\\Anaconda3\\lib\\site-packages\\imblearn\\over_sampling\\_smote\\base.py\", line 356, in _fit_resample\n",
      "    X_new, y_new = self._make_samples(\n",
      "  File \"C:\\ProgramData\\Anaconda3\\lib\\site-packages\\imblearn\\over_sampling\\_smote\\base.py\", line 110, in _make_samples\n",
      "    X_new = self._generate_samples(X, nn_data, nn_num, rows, cols, steps)\n",
      "  File \"C:\\ProgramData\\Anaconda3\\lib\\site-packages\\imblearn\\over_sampling\\_smote\\base.py\", line 154, in _generate_samples\n",
      "    diffs = nn_data[nn_num[rows, cols]] - X[rows]\n",
      "numpy.core._exceptions._ArrayMemoryError: Unable to allocate 572. MiB for an array with shape (4930, 15210) and data type float64\n",
      "\n",
      "--------------------------------------------------------------------------------\n",
      "1 fits failed with the following error:\n",
      "Traceback (most recent call last):\n",
      "  File \"C:\\ProgramData\\Anaconda3\\lib\\site-packages\\sklearn\\model_selection\\_validation.py\", line 686, in _fit_and_score\n",
      "    estimator.fit(X_train, y_train, **fit_params)\n",
      "  File \"C:\\ProgramData\\Anaconda3\\lib\\site-packages\\imblearn\\pipeline.py\", line 293, in fit\n",
      "    Xt, yt = self._fit(X, y, **fit_params_steps)\n",
      "  File \"C:\\ProgramData\\Anaconda3\\lib\\site-packages\\imblearn\\pipeline.py\", line 250, in _fit\n",
      "    X, y, fitted_transformer = fit_resample_one_cached(\n",
      "  File \"C:\\ProgramData\\Anaconda3\\lib\\site-packages\\joblib\\memory.py\", line 349, in __call__\n",
      "    return self.func(*args, **kwargs)\n",
      "  File \"C:\\ProgramData\\Anaconda3\\lib\\site-packages\\imblearn\\pipeline.py\", line 422, in _fit_resample_one\n",
      "    X_res, y_res = sampler.fit_resample(X, y, **fit_params)\n",
      "  File \"C:\\ProgramData\\Anaconda3\\lib\\site-packages\\imblearn\\base.py\", line 203, in fit_resample\n",
      "    return super().fit_resample(X, y)\n",
      "  File \"C:\\ProgramData\\Anaconda3\\lib\\site-packages\\imblearn\\base.py\", line 88, in fit_resample\n",
      "    output = self._fit_resample(X, y)\n",
      "  File \"C:\\ProgramData\\Anaconda3\\lib\\site-packages\\imblearn\\over_sampling\\_smote\\base.py\", line 356, in _fit_resample\n",
      "    X_new, y_new = self._make_samples(\n",
      "  File \"C:\\ProgramData\\Anaconda3\\lib\\site-packages\\imblearn\\over_sampling\\_smote\\base.py\", line 110, in _make_samples\n",
      "    X_new = self._generate_samples(X, nn_data, nn_num, rows, cols, steps)\n",
      "  File \"C:\\ProgramData\\Anaconda3\\lib\\site-packages\\imblearn\\over_sampling\\_smote\\base.py\", line 161, in _generate_samples\n",
      "    X_new = X[rows] + steps * diffs\n",
      "numpy.core._exceptions._ArrayMemoryError: Unable to allocate 572. MiB for an array with shape (4932, 15210) and data type float64\n",
      "\n",
      "--------------------------------------------------------------------------------\n",
      "1 fits failed with the following error:\n",
      "Traceback (most recent call last):\n",
      "  File \"C:\\ProgramData\\Anaconda3\\lib\\site-packages\\sklearn\\model_selection\\_validation.py\", line 686, in _fit_and_score\n",
      "    estimator.fit(X_train, y_train, **fit_params)\n",
      "  File \"C:\\ProgramData\\Anaconda3\\lib\\site-packages\\imblearn\\pipeline.py\", line 293, in fit\n",
      "    Xt, yt = self._fit(X, y, **fit_params_steps)\n",
      "  File \"C:\\ProgramData\\Anaconda3\\lib\\site-packages\\imblearn\\pipeline.py\", line 250, in _fit\n",
      "    X, y, fitted_transformer = fit_resample_one_cached(\n",
      "  File \"C:\\ProgramData\\Anaconda3\\lib\\site-packages\\joblib\\memory.py\", line 349, in __call__\n",
      "    return self.func(*args, **kwargs)\n",
      "  File \"C:\\ProgramData\\Anaconda3\\lib\\site-packages\\imblearn\\pipeline.py\", line 422, in _fit_resample_one\n",
      "    X_res, y_res = sampler.fit_resample(X, y, **fit_params)\n",
      "  File \"C:\\ProgramData\\Anaconda3\\lib\\site-packages\\imblearn\\base.py\", line 203, in fit_resample\n",
      "    return super().fit_resample(X, y)\n",
      "  File \"C:\\ProgramData\\Anaconda3\\lib\\site-packages\\imblearn\\base.py\", line 88, in fit_resample\n",
      "    output = self._fit_resample(X, y)\n",
      "  File \"C:\\ProgramData\\Anaconda3\\lib\\site-packages\\imblearn\\over_sampling\\_smote\\base.py\", line 356, in _fit_resample\n",
      "    X_new, y_new = self._make_samples(\n",
      "  File \"C:\\ProgramData\\Anaconda3\\lib\\site-packages\\imblearn\\over_sampling\\_smote\\base.py\", line 110, in _make_samples\n",
      "    X_new = self._generate_samples(X, nn_data, nn_num, rows, cols, steps)\n",
      "  File \"C:\\ProgramData\\Anaconda3\\lib\\site-packages\\imblearn\\over_sampling\\_smote\\base.py\", line 161, in _generate_samples\n",
      "    X_new = X[rows] + steps * diffs\n",
      "numpy.core._exceptions._ArrayMemoryError: Unable to allocate 572. MiB for an array with shape (4930, 15210) and data type float64\n",
      "\n",
      "  warnings.warn(some_fits_failed_message, FitFailedWarning)\n",
      "C:\\ProgramData\\Anaconda3\\lib\\site-packages\\sklearn\\model_selection\\_search.py:952: UserWarning: One or more of the test scores are non-finite: [       nan 0.63178399        nan 0.63123    0.63932337 0.65136788\n",
      " 0.63178399 0.65900142 0.65264297 0.67008908]\n",
      "  warnings.warn(\n"
     ]
    },
    {
     "name": "stdout",
     "output_type": "stream",
     "text": [
      "best_score: 0.6700890823583701\n",
      "best_params: {'randomforestclassifier__n_estimators': 300, 'randomforestclassifier__min_samples_split': 10, 'randomforestclassifier__min_samples_leaf': 3, 'randomforestclassifier__max_depth': 27}\n",
      "Wall time: 4min 45s\n"
     ]
    }
   ],
   "source": [
    "%%time\n",
    "\n",
    "model_rf = RandomForestClassifier(random_state=STATE)\n",
    "\n",
    "pipeline_rf = make_pipeline(SMOTE(random_state=STATE), \n",
    "                              model_rf)\n",
    "\n",
    "param_grid_rf = {\n",
    "    'randomforestclassifier__n_estimators': [100, 300],\n",
    "    'randomforestclassifier__max_depth': [5, 13, 27],\n",
    "    'randomforestclassifier__min_samples_split': [5, 7, 10],\n",
    "    'randomforestclassifier__min_samples_leaf': [3, 4]\n",
    "}\n",
    "\n",
    "gs_rf = RandomizedSearchCV(\n",
    "    pipeline_rf, \n",
    "    param_distributions=param_grid_rf, \n",
    "    scoring='f1', \n",
    "    n_jobs=-1, \n",
    "    random_state=STATE\n",
    ")\n",
    "\n",
    "gs_rf.fit(features_train_tf, target_train)\n",
    "\n",
    "rf_tf_score = gs_rf.best_score_\n",
    "gs_rf_tf_best_params = gs_rf.best_params_\n",
    "print(f'best_score: {rf_tf_score}')\n",
    "print(f'best_params: {gs_rf_tf_best_params}')"
   ]
  },
  {
   "cell_type": "markdown",
   "id": "f5fc16a8",
   "metadata": {},
   "source": [
    "#### LogisticRegression"
   ]
  },
  {
   "cell_type": "code",
   "execution_count": 34,
   "id": "bd1c1467",
   "metadata": {},
   "outputs": [
    {
     "name": "stderr",
     "output_type": "stream",
     "text": [
      "C:\\ProgramData\\Anaconda3\\lib\\site-packages\\sklearn\\model_selection\\_validation.py:378: FitFailedWarning: \n",
      "4 fits failed out of a total of 50.\n",
      "The score on these train-test partitions for these parameters will be set to nan.\n",
      "If these failures are not expected, you can try to debug them by setting error_score='raise'.\n",
      "\n",
      "Below are more details about the failures:\n",
      "--------------------------------------------------------------------------------\n",
      "2 fits failed with the following error:\n",
      "Traceback (most recent call last):\n",
      "  File \"C:\\ProgramData\\Anaconda3\\lib\\site-packages\\sklearn\\model_selection\\_validation.py\", line 686, in _fit_and_score\n",
      "    estimator.fit(X_train, y_train, **fit_params)\n",
      "  File \"C:\\ProgramData\\Anaconda3\\lib\\site-packages\\imblearn\\pipeline.py\", line 293, in fit\n",
      "    Xt, yt = self._fit(X, y, **fit_params_steps)\n",
      "  File \"C:\\ProgramData\\Anaconda3\\lib\\site-packages\\imblearn\\pipeline.py\", line 250, in _fit\n",
      "    X, y, fitted_transformer = fit_resample_one_cached(\n",
      "  File \"C:\\ProgramData\\Anaconda3\\lib\\site-packages\\joblib\\memory.py\", line 349, in __call__\n",
      "    return self.func(*args, **kwargs)\n",
      "  File \"C:\\ProgramData\\Anaconda3\\lib\\site-packages\\imblearn\\pipeline.py\", line 422, in _fit_resample_one\n",
      "    X_res, y_res = sampler.fit_resample(X, y, **fit_params)\n",
      "  File \"C:\\ProgramData\\Anaconda3\\lib\\site-packages\\imblearn\\base.py\", line 203, in fit_resample\n",
      "    return super().fit_resample(X, y)\n",
      "  File \"C:\\ProgramData\\Anaconda3\\lib\\site-packages\\imblearn\\base.py\", line 88, in fit_resample\n",
      "    output = self._fit_resample(X, y)\n",
      "  File \"C:\\ProgramData\\Anaconda3\\lib\\site-packages\\imblearn\\over_sampling\\_smote\\base.py\", line 356, in _fit_resample\n",
      "    X_new, y_new = self._make_samples(\n",
      "  File \"C:\\ProgramData\\Anaconda3\\lib\\site-packages\\imblearn\\over_sampling\\_smote\\base.py\", line 110, in _make_samples\n",
      "    X_new = self._generate_samples(X, nn_data, nn_num, rows, cols, steps)\n",
      "  File \"C:\\ProgramData\\Anaconda3\\lib\\site-packages\\imblearn\\over_sampling\\_smote\\base.py\", line 161, in _generate_samples\n",
      "    X_new = X[rows] + steps * diffs\n",
      "numpy.core._exceptions._ArrayMemoryError: Unable to allocate 572. MiB for an array with shape (4930, 15210) and data type float64\n",
      "\n",
      "--------------------------------------------------------------------------------\n",
      "2 fits failed with the following error:\n",
      "Traceback (most recent call last):\n",
      "  File \"C:\\ProgramData\\Anaconda3\\lib\\site-packages\\sklearn\\model_selection\\_validation.py\", line 686, in _fit_and_score\n",
      "    estimator.fit(X_train, y_train, **fit_params)\n",
      "  File \"C:\\ProgramData\\Anaconda3\\lib\\site-packages\\imblearn\\pipeline.py\", line 293, in fit\n",
      "    Xt, yt = self._fit(X, y, **fit_params_steps)\n",
      "  File \"C:\\ProgramData\\Anaconda3\\lib\\site-packages\\imblearn\\pipeline.py\", line 250, in _fit\n",
      "    X, y, fitted_transformer = fit_resample_one_cached(\n",
      "  File \"C:\\ProgramData\\Anaconda3\\lib\\site-packages\\joblib\\memory.py\", line 349, in __call__\n",
      "    return self.func(*args, **kwargs)\n",
      "  File \"C:\\ProgramData\\Anaconda3\\lib\\site-packages\\imblearn\\pipeline.py\", line 422, in _fit_resample_one\n",
      "    X_res, y_res = sampler.fit_resample(X, y, **fit_params)\n",
      "  File \"C:\\ProgramData\\Anaconda3\\lib\\site-packages\\imblearn\\base.py\", line 203, in fit_resample\n",
      "    return super().fit_resample(X, y)\n",
      "  File \"C:\\ProgramData\\Anaconda3\\lib\\site-packages\\imblearn\\base.py\", line 88, in fit_resample\n",
      "    output = self._fit_resample(X, y)\n",
      "  File \"C:\\ProgramData\\Anaconda3\\lib\\site-packages\\imblearn\\over_sampling\\_smote\\base.py\", line 356, in _fit_resample\n",
      "    X_new, y_new = self._make_samples(\n",
      "  File \"C:\\ProgramData\\Anaconda3\\lib\\site-packages\\imblearn\\over_sampling\\_smote\\base.py\", line 110, in _make_samples\n",
      "    X_new = self._generate_samples(X, nn_data, nn_num, rows, cols, steps)\n",
      "  File \"C:\\ProgramData\\Anaconda3\\lib\\site-packages\\imblearn\\over_sampling\\_smote\\base.py\", line 161, in _generate_samples\n",
      "    X_new = X[rows] + steps * diffs\n",
      "numpy.core._exceptions._ArrayMemoryError: Unable to allocate 572. MiB for an array with shape (4932, 15210) and data type float64\n",
      "\n",
      "  warnings.warn(some_fits_failed_message, FitFailedWarning)\n",
      "C:\\ProgramData\\Anaconda3\\lib\\site-packages\\sklearn\\model_selection\\_search.py:952: UserWarning: One or more of the test scores are non-finite: [       nan        nan        nan 0.69270091 0.69270091 0.72096783\n",
      " 0.63098751 0.72096783 0.66468745 0.72096783]\n",
      "  warnings.warn(\n"
     ]
    },
    {
     "name": "stdout",
     "output_type": "stream",
     "text": [
      "best_score: 0.7209678347184215\n",
      "best_params: {'logisticregression__solver': 'liblinear', 'logisticregression__max_iter': 500, 'logisticregression__C': 1}\n",
      "Wall time: 12min 49s\n"
     ]
    }
   ],
   "source": [
    "%%time\n",
    "\n",
    "model_lr = LogisticRegression(random_state=STATE)\n",
    "\n",
    "pipeline_lr = make_pipeline(SMOTE(random_state=STATE), \n",
    "                              model_lr)\n",
    "\n",
    "param_grid_lr = {\n",
    "    'logisticregression__solver' : ['lbfgs', 'liblinear', 'newton-cg', 'sag', 'saga'],\n",
    "    'logisticregression__max_iter' : [100, 200, 500],\n",
    "    'logisticregression__C' : [0.01, 0.1, 1, 10, 100]\n",
    "}\n",
    "\n",
    "gs_lr = RandomizedSearchCV(\n",
    "    pipeline_lr, \n",
    "    param_distributions=param_grid_lr, \n",
    "    scoring='f1', \n",
    "    n_jobs=-1\n",
    ")\n",
    "\n",
    "gs_lr.fit(features_train_tf, target_train)\n",
    "\n",
    "lr_tf_score = gs_lr.best_score_\n",
    "gs_lr_tf_best_params = gs_lr.best_params_\n",
    "\n",
    "# лучшее значение RMSE на кросс-валидации\n",
    "print(f'best_score: {lr_tf_score}')\n",
    "# лучшие гиперпараметры\n",
    "print(f'best_params: {gs_lr_tf_best_params}')"
   ]
  },
  {
   "cell_type": "markdown",
   "id": "e721582d",
   "metadata": {},
   "source": [
    "#### CatBoost Classifier"
   ]
  },
  {
   "cell_type": "code",
   "execution_count": 35,
   "id": "327da530",
   "metadata": {},
   "outputs": [
    {
     "name": "stderr",
     "output_type": "stream",
     "text": [
      "C:\\ProgramData\\Anaconda3\\lib\\site-packages\\sklearn\\model_selection\\_validation.py:378: FitFailedWarning: \n",
      "4 fits failed out of a total of 20.\n",
      "The score on these train-test partitions for these parameters will be set to nan.\n",
      "If these failures are not expected, you can try to debug them by setting error_score='raise'.\n",
      "\n",
      "Below are more details about the failures:\n",
      "--------------------------------------------------------------------------------\n",
      "2 fits failed with the following error:\n",
      "Traceback (most recent call last):\n",
      "  File \"C:\\ProgramData\\Anaconda3\\lib\\site-packages\\sklearn\\model_selection\\_validation.py\", line 686, in _fit_and_score\n",
      "    estimator.fit(X_train, y_train, **fit_params)\n",
      "  File \"C:\\ProgramData\\Anaconda3\\lib\\site-packages\\imblearn\\pipeline.py\", line 293, in fit\n",
      "    Xt, yt = self._fit(X, y, **fit_params_steps)\n",
      "  File \"C:\\ProgramData\\Anaconda3\\lib\\site-packages\\imblearn\\pipeline.py\", line 250, in _fit\n",
      "    X, y, fitted_transformer = fit_resample_one_cached(\n",
      "  File \"C:\\ProgramData\\Anaconda3\\lib\\site-packages\\joblib\\memory.py\", line 349, in __call__\n",
      "    return self.func(*args, **kwargs)\n",
      "  File \"C:\\ProgramData\\Anaconda3\\lib\\site-packages\\imblearn\\pipeline.py\", line 422, in _fit_resample_one\n",
      "    X_res, y_res = sampler.fit_resample(X, y, **fit_params)\n",
      "  File \"C:\\ProgramData\\Anaconda3\\lib\\site-packages\\imblearn\\base.py\", line 203, in fit_resample\n",
      "    return super().fit_resample(X, y)\n",
      "  File \"C:\\ProgramData\\Anaconda3\\lib\\site-packages\\imblearn\\base.py\", line 88, in fit_resample\n",
      "    output = self._fit_resample(X, y)\n",
      "  File \"C:\\ProgramData\\Anaconda3\\lib\\site-packages\\imblearn\\over_sampling\\_smote\\base.py\", line 356, in _fit_resample\n",
      "    X_new, y_new = self._make_samples(\n",
      "  File \"C:\\ProgramData\\Anaconda3\\lib\\site-packages\\imblearn\\over_sampling\\_smote\\base.py\", line 110, in _make_samples\n",
      "    X_new = self._generate_samples(X, nn_data, nn_num, rows, cols, steps)\n",
      "  File \"C:\\ProgramData\\Anaconda3\\lib\\site-packages\\imblearn\\over_sampling\\_smote\\base.py\", line 161, in _generate_samples\n",
      "    X_new = X[rows] + steps * diffs\n",
      "numpy.core._exceptions._ArrayMemoryError: Unable to allocate 572. MiB for an array with shape (4930, 15210) and data type float64\n",
      "\n",
      "--------------------------------------------------------------------------------\n",
      "2 fits failed with the following error:\n",
      "Traceback (most recent call last):\n",
      "  File \"C:\\ProgramData\\Anaconda3\\lib\\site-packages\\sklearn\\model_selection\\_validation.py\", line 686, in _fit_and_score\n",
      "    estimator.fit(X_train, y_train, **fit_params)\n",
      "  File \"C:\\ProgramData\\Anaconda3\\lib\\site-packages\\imblearn\\pipeline.py\", line 293, in fit\n",
      "    Xt, yt = self._fit(X, y, **fit_params_steps)\n",
      "  File \"C:\\ProgramData\\Anaconda3\\lib\\site-packages\\imblearn\\pipeline.py\", line 250, in _fit\n",
      "    X, y, fitted_transformer = fit_resample_one_cached(\n",
      "  File \"C:\\ProgramData\\Anaconda3\\lib\\site-packages\\joblib\\memory.py\", line 349, in __call__\n",
      "    return self.func(*args, **kwargs)\n",
      "  File \"C:\\ProgramData\\Anaconda3\\lib\\site-packages\\imblearn\\pipeline.py\", line 422, in _fit_resample_one\n",
      "    X_res, y_res = sampler.fit_resample(X, y, **fit_params)\n",
      "  File \"C:\\ProgramData\\Anaconda3\\lib\\site-packages\\imblearn\\base.py\", line 203, in fit_resample\n",
      "    return super().fit_resample(X, y)\n",
      "  File \"C:\\ProgramData\\Anaconda3\\lib\\site-packages\\imblearn\\base.py\", line 88, in fit_resample\n",
      "    output = self._fit_resample(X, y)\n",
      "  File \"C:\\ProgramData\\Anaconda3\\lib\\site-packages\\imblearn\\over_sampling\\_smote\\base.py\", line 356, in _fit_resample\n",
      "    X_new, y_new = self._make_samples(\n",
      "  File \"C:\\ProgramData\\Anaconda3\\lib\\site-packages\\imblearn\\over_sampling\\_smote\\base.py\", line 110, in _make_samples\n",
      "    X_new = self._generate_samples(X, nn_data, nn_num, rows, cols, steps)\n",
      "  File \"C:\\ProgramData\\Anaconda3\\lib\\site-packages\\imblearn\\over_sampling\\_smote\\base.py\", line 161, in _generate_samples\n",
      "    X_new = X[rows] + steps * diffs\n",
      "numpy.core._exceptions._ArrayMemoryError: Unable to allocate 572. MiB for an array with shape (4932, 15210) and data type float64\n",
      "\n",
      "  warnings.warn(some_fits_failed_message, FitFailedWarning)\n",
      "C:\\ProgramData\\Anaconda3\\lib\\site-packages\\sklearn\\model_selection\\_search.py:952: UserWarning: One or more of the test scores are non-finite: [      nan       nan       nan 0.7306366]\n",
      "  warnings.warn(\n"
     ]
    },
    {
     "name": "stdout",
     "output_type": "stream",
     "text": [
      "best_score: 0.7306365950030747\n",
      "best_params: {'catboostclassifier__custom_loss': 'F1', 'catboostclassifier__iterations': 700, 'catboostclassifier__learning_rate': 0.03}\n",
      "Wall time: 7min 4s\n"
     ]
    }
   ],
   "source": [
    "%%time\n",
    "\n",
    "model_cat = CatBoostClassifier(verbose=False)\n",
    "\n",
    "pipeline_cat = make_pipeline(SMOTE(random_state=STATE), \n",
    "                              model_cat)\n",
    "\n",
    "param_grid_cat = {\n",
    "    'catboostclassifier__learning_rate': [0.03],\n",
    "    'catboostclassifier__iterations' : [100, 300, 500, 700],\n",
    "    'catboostclassifier__custom_loss' : ['F1']\n",
    "}\n",
    "\n",
    "gs_cat = GridSearchCV(\n",
    "    pipeline_cat, \n",
    "    param_grid=param_grid_cat, \n",
    "    scoring='f1', \n",
    "    n_jobs=-1\n",
    ")\n",
    "\n",
    "gs_cat.fit(features_train_tf, target_train)\n",
    "\n",
    "cat_tf_score = gs_cat.best_score_\n",
    "gs_cat_tf_best_params = gs_cat.best_params_\n",
    "\n",
    "# лучшее значение RMSE на кросс-валидации\n",
    "print(f'best_score: {cat_tf_score}')\n",
    "# лучшие гиперпараметры\n",
    "print(f'best_params: {gs_cat_tf_best_params}')"
   ]
  },
  {
   "cell_type": "markdown",
   "id": "342ae2bd",
   "metadata": {},
   "source": [
    "#### BernoulliNB"
   ]
  },
  {
   "cell_type": "code",
   "execution_count": 36,
   "id": "5e9dff7c",
   "metadata": {},
   "outputs": [
    {
     "name": "stderr",
     "output_type": "stream",
     "text": [
      "C:\\ProgramData\\Anaconda3\\lib\\site-packages\\sklearn\\model_selection\\_validation.py:378: FitFailedWarning: \n",
      "1 fits failed out of a total of 55.\n",
      "The score on these train-test partitions for these parameters will be set to nan.\n",
      "If these failures are not expected, you can try to debug them by setting error_score='raise'.\n",
      "\n",
      "Below are more details about the failures:\n",
      "--------------------------------------------------------------------------------\n",
      "1 fits failed with the following error:\n",
      "Traceback (most recent call last):\n",
      "  File \"C:\\ProgramData\\Anaconda3\\lib\\site-packages\\sklearn\\model_selection\\_validation.py\", line 686, in _fit_and_score\n",
      "    estimator.fit(X_train, y_train, **fit_params)\n",
      "  File \"C:\\ProgramData\\Anaconda3\\lib\\site-packages\\imblearn\\pipeline.py\", line 293, in fit\n",
      "    Xt, yt = self._fit(X, y, **fit_params_steps)\n",
      "  File \"C:\\ProgramData\\Anaconda3\\lib\\site-packages\\imblearn\\pipeline.py\", line 250, in _fit\n",
      "    X, y, fitted_transformer = fit_resample_one_cached(\n",
      "  File \"C:\\ProgramData\\Anaconda3\\lib\\site-packages\\joblib\\memory.py\", line 349, in __call__\n",
      "    return self.func(*args, **kwargs)\n",
      "  File \"C:\\ProgramData\\Anaconda3\\lib\\site-packages\\imblearn\\pipeline.py\", line 422, in _fit_resample_one\n",
      "    X_res, y_res = sampler.fit_resample(X, y, **fit_params)\n",
      "  File \"C:\\ProgramData\\Anaconda3\\lib\\site-packages\\imblearn\\base.py\", line 203, in fit_resample\n",
      "    return super().fit_resample(X, y)\n",
      "  File \"C:\\ProgramData\\Anaconda3\\lib\\site-packages\\imblearn\\base.py\", line 88, in fit_resample\n",
      "    output = self._fit_resample(X, y)\n",
      "  File \"C:\\ProgramData\\Anaconda3\\lib\\site-packages\\imblearn\\over_sampling\\_smote\\base.py\", line 356, in _fit_resample\n",
      "    X_new, y_new = self._make_samples(\n",
      "  File \"C:\\ProgramData\\Anaconda3\\lib\\site-packages\\imblearn\\over_sampling\\_smote\\base.py\", line 110, in _make_samples\n",
      "    X_new = self._generate_samples(X, nn_data, nn_num, rows, cols, steps)\n",
      "  File \"C:\\ProgramData\\Anaconda3\\lib\\site-packages\\imblearn\\over_sampling\\_smote\\base.py\", line 154, in _generate_samples\n",
      "    diffs = nn_data[nn_num[rows, cols]] - X[rows]\n",
      "numpy.core._exceptions._ArrayMemoryError: Unable to allocate 572. MiB for an array with shape (4930, 15210) and data type float64\n",
      "\n",
      "  warnings.warn(some_fits_failed_message, FitFailedWarning)\n",
      "C:\\ProgramData\\Anaconda3\\lib\\site-packages\\sklearn\\model_selection\\_search.py:952: UserWarning: One or more of the test scores are non-finite: [0.71217778        nan 0.71113066 0.71077863 0.7121753  0.71255092\n",
      " 0.71295815 0.71295815 0.71371754 0.71334365 0.71334365]\n",
      "  warnings.warn(\n"
     ]
    },
    {
     "name": "stdout",
     "output_type": "stream",
     "text": [
      "best_score: 0.7137175409677201\n",
      "best_params: {'bernoullinb__alpha': 0.9800000000000001}\n",
      "Wall time: 5min 31s\n"
     ]
    }
   ],
   "source": [
    "%%time\n",
    "\n",
    "model_nb = BernoulliNB()\n",
    "\n",
    "pipeline_nb = make_pipeline(SMOTE(random_state=STATE), \n",
    "                              model_nb)\n",
    "\n",
    "param_grid_nb = {\n",
    "    'bernoullinb__alpha': np.arange(0.9, 1.01, 0.01),\n",
    "#    'bernoullinb__fit_prior' : [True, False],\n",
    "#    'bernoullinb__force_alpha' : [True, False]\n",
    "}\n",
    "\n",
    "gs_nb = GridSearchCV(\n",
    "    pipeline_nb, \n",
    "    param_grid=param_grid_nb, \n",
    "    scoring='f1', \n",
    "    n_jobs=-1\n",
    ")\n",
    "\n",
    "gs_nb.fit(features_train_tf, target_train)\n",
    "\n",
    "nb_tf_score = gs_nb.best_score_\n",
    "gs_nb_tf_best_params = gs_nb.best_params_\n",
    "\n",
    "# лучшее значение RMSE на кросс-валидации\n",
    "print(f'best_score: {nb_tf_score}')\n",
    "# лучшие гиперпараметры\n",
    "print(f'best_params: {gs_nb_tf_best_params}')"
   ]
  },
  {
   "cell_type": "markdown",
   "id": "43ba363c",
   "metadata": {},
   "source": [
    "### Сравнение моделей"
   ]
  },
  {
   "cell_type": "code",
   "execution_count": 37,
   "id": "b324d4eb",
   "metadata": {},
   "outputs": [
    {
     "data": {
      "text/html": [
       "<style type=\"text/css\">\n",
       "#T_7e885_row0_col0, #T_7e885_row0_col1 {\n",
       "  background-color: yellowgreen;\n",
       "}\n",
       "#T_7e885_row2_col1, #T_7e885_row4_col0 {\n",
       "  background-color: coral;\n",
       "}\n",
       "</style>\n",
       "<table id=\"T_7e885_\">\n",
       "  <thead>\n",
       "    <tr>\n",
       "      <th class=\"blank level0\" >&nbsp;</th>\n",
       "      <th class=\"col_heading level0 col0\" >f1 с признаками BERT</th>\n",
       "      <th class=\"col_heading level0 col1\" >f1 с признаками TF-IDF</th>\n",
       "    </tr>\n",
       "  </thead>\n",
       "  <tbody>\n",
       "    <tr>\n",
       "      <th id=\"T_7e885_level0_row0\" class=\"row_heading level0 row0\" >LightGBM</th>\n",
       "      <td id=\"T_7e885_row0_col0\" class=\"data row0 col0\" >0.917418</td>\n",
       "      <td id=\"T_7e885_row0_col1\" class=\"data row0 col1\" >0.742271</td>\n",
       "    </tr>\n",
       "    <tr>\n",
       "      <th id=\"T_7e885_level0_row1\" class=\"row_heading level0 row1\" >CatBoostClassifier</th>\n",
       "      <td id=\"T_7e885_row1_col0\" class=\"data row1 col0\" >0.912955</td>\n",
       "      <td id=\"T_7e885_row1_col1\" class=\"data row1 col1\" >0.730637</td>\n",
       "    </tr>\n",
       "    <tr>\n",
       "      <th id=\"T_7e885_level0_row2\" class=\"row_heading level0 row2\" >RandomForestRegressor</th>\n",
       "      <td id=\"T_7e885_row2_col0\" class=\"data row2 col0\" >0.915271</td>\n",
       "      <td id=\"T_7e885_row2_col1\" class=\"data row2 col1\" >0.670089</td>\n",
       "    </tr>\n",
       "    <tr>\n",
       "      <th id=\"T_7e885_level0_row3\" class=\"row_heading level0 row3\" >LogisticRegression</th>\n",
       "      <td id=\"T_7e885_row3_col0\" class=\"data row3 col0\" >0.896969</td>\n",
       "      <td id=\"T_7e885_row3_col1\" class=\"data row3 col1\" >0.720968</td>\n",
       "    </tr>\n",
       "    <tr>\n",
       "      <th id=\"T_7e885_level0_row4\" class=\"row_heading level0 row4\" >NaiveBayes</th>\n",
       "      <td id=\"T_7e885_row4_col0\" class=\"data row4 col0\" >0.000000</td>\n",
       "      <td id=\"T_7e885_row4_col1\" class=\"data row4 col1\" >0.713718</td>\n",
       "    </tr>\n",
       "  </tbody>\n",
       "</table>\n"
      ],
      "text/plain": [
       "<pandas.io.formats.style.Styler at 0x13c7e2292e0>"
      ]
     },
     "execution_count": 37,
     "metadata": {},
     "output_type": "execute_result"
    }
   ],
   "source": [
    "column=['f1 с признаками BERT', 'f1 с признаками TF-IDF']\n",
    "\n",
    "comparison_tabl = pd.DataFrame(index=column, columns=['LightGBM', 'CatBoostClassifier', 'RandomForestRegressor','LogisticRegression', 'NaiveBayes'])\n",
    "comparison_tabl['LightGBM'] = lgb_bert_score, lgb_tf_score\n",
    "comparison_tabl['CatBoostClassifier'] = cat_bert_score, cat_tf_score\n",
    "comparison_tabl['RandomForestRegressor'] = rf_bert_score, rf_tf_score\n",
    "comparison_tabl['LogisticRegression'] = lr_bert_score, lr_tf_score\n",
    "comparison_tabl['NaiveBayes'] = 0, nb_tf_score\n",
    "\n",
    "comparison_tabl.T.style.highlight_max(color='yellowgreen',subset=column).highlight_null(null_color='lightgrey').highlight_min(color='coral',subset=column)"
   ]
  },
  {
   "cell_type": "markdown",
   "id": "3ca0848a",
   "metadata": {},
   "source": [
    "Мы видим, что использование модели, специально обученной на классификацию токсичности текста, заметно повышает качество."
   ]
  },
  {
   "cell_type": "markdown",
   "id": "3fdc54df",
   "metadata": {},
   "source": [
    "## Тестирование"
   ]
  },
  {
   "cell_type": "code",
   "execution_count": 38,
   "id": "71095ce7",
   "metadata": {},
   "outputs": [
    {
     "name": "stdout",
     "output_type": "stream",
     "text": [
      "f1 на тестовой выборке: 0.91015625\n"
     ]
    }
   ],
   "source": [
    "best_model = gs_lgb_bert.best_estimator_\n",
    "pred_test = best_model.predict(features_test_bert)\n",
    "f1_test_score = f1_score(target_test_bert, pred_test)\n",
    "print('f1 на тестовой выборке:', f1_test_score)"
   ]
  },
  {
   "cell_type": "code",
   "execution_count": 39,
   "id": "aa00d522",
   "metadata": {},
   "outputs": [
    {
     "name": "stdout",
     "output_type": "stream",
     "text": [
      "0.2238010657193606\n"
     ]
    }
   ],
   "source": [
    "dummy = DummyClassifier(strategy='constant', constant=1)\n",
    "dummy.fit(features_train_bert, target_train_bert)\n",
    "predictions = dummy.predict(features_test_bert)\n",
    "result = f1_score(target_test_bert, predictions)\n",
    "print(result)"
   ]
  },
  {
   "cell_type": "code",
   "execution_count": 40,
   "id": "f51c9e86",
   "metadata": {},
   "outputs": [
    {
     "data": {
      "text/plain": [
       "<Figure size 432x288 with 0 Axes>"
      ]
     },
     "metadata": {},
     "output_type": "display_data"
    },
    {
     "data": {
      "image/png": "[encoded data removed]",
      "text/plain": [
       "<Figure size 504x360 with 1 Axes>"
      ]
     },
     "metadata": {
      "needs_background": "light"
     },
     "output_type": "display_data"
    }
   ],
   "source": [
    "probabilities_test = best_model.predict_proba(features_test_bert)\n",
    "probabilities_one_test = probabilities_test[:, 1]\n",
    "fpr, tpr, thresholds = roc_curve(target_test_bert, probabilities_one_test)\n",
    "plt.figure()\n",
    "plt.figure(figsize=[7,5])\n",
    "plt.step(fpr,tpr,where='post', label='ROC curve')\n",
    "plt.plot([0,1], [0,1], linestyle='--', label='random')\n",
    "plt.xlim([0.0, 1.0])\n",
    "plt.ylim([0.0, 1.0])\n",
    "plt.xlabel('False Positive Rate')\n",
    "plt.ylabel('True Positive Rate')\n",
    "plt.title('ROC-кривая')\n",
    "plt.legend()\n",
    "plt.show()"
   ]
  },
  {
   "cell_type": "code",
   "execution_count": 41,
   "id": "99cd4d17",
   "metadata": {},
   "outputs": [
    {
     "name": "stdout",
     "output_type": "stream",
     "text": [
      "Площадь под roc-кривой для модели LightGBM: 0.994508463186953\n"
     ]
    }
   ],
   "source": [
    "roc_auc = roc_auc_score(target_test_bert, probabilities_one_test)\n",
    "print('Площадь под roc-кривой для модели LightGBM:', roc_auc)"
   ]
  },
  {
   "cell_type": "markdown",
   "id": "b315c8cb",
   "metadata": {},
   "source": [
    "В хорошей модели порог отсечения ставит истинно положительные доли как можно ближе к 1, при этом сохраняя ложно положительные доли на самом нижнем из возможных уровней. Вывод: модель отлично справляется со своей задачей."
   ]
  },
  {
   "cell_type": "markdown",
   "id": "a147b9b4",
   "metadata": {},
   "source": [
    "## Вывод"
   ]
  },
  {
   "cell_type": "markdown",
   "id": "0bbe4a2d",
   "metadata": {},
   "source": [
    "Цель была достигнута - метрика f1 для модели оценки тональности твитов более 0.90. <br>\n",
    "В ходе работы над проектом была проведена очистка и лемматизация текста. Из большого набора данных выбраны 10 000 строк для обучения и тестирования модели. <br>\n",
    "Были рассмотрены два способа создания признаков: TF-IDF и токенизация с помощью toxicBERT. <br>\n",
    "Также в ходе обучения использовались разные модели, среди которых *LightGBM*, логистическая регрессия и наивный баессовский классификатор. Лучший результат показала *LightGBM* - f1 = 0.91 на тестовой выборке."
   ]
  }
 ],
 "metadata": {
  "ExecuteTimeLog": [
   {
    "duration": 2253,
    "start_time": "2023-04-27T12:11:05.440Z"
   },
   {
    "duration": 6569,
    "start_time": "2023-04-27T12:11:07.695Z"
   },
   {
    "duration": 0,
    "start_time": "2023-04-27T12:11:14.266Z"
   },
   {
    "duration": 0,
    "start_time": "2023-04-27T12:11:14.268Z"
   },
   {
    "duration": 0,
    "start_time": "2023-04-27T12:11:14.270Z"
   },
   {
    "duration": 0,
    "start_time": "2023-04-27T12:11:14.271Z"
   },
   {
    "duration": 0,
    "start_time": "2023-04-27T12:11:14.272Z"
   },
   {
    "duration": 0,
    "start_time": "2023-04-27T12:11:14.273Z"
   },
   {
    "duration": 0,
    "start_time": "2023-04-27T12:11:14.274Z"
   },
   {
    "duration": 0,
    "start_time": "2023-04-27T12:11:14.293Z"
   },
   {
    "duration": 0,
    "start_time": "2023-04-27T12:11:14.295Z"
   },
   {
    "duration": 0,
    "start_time": "2023-04-27T12:11:14.296Z"
   },
   {
    "duration": 0,
    "start_time": "2023-04-27T12:11:14.297Z"
   },
   {
    "duration": 287,
    "start_time": "2023-04-27T12:13:03.433Z"
   },
   {
    "duration": 44,
    "start_time": "2023-04-27T12:13:09.257Z"
   },
   {
    "duration": 3,
    "start_time": "2023-04-27T12:13:09.602Z"
   },
   {
    "duration": 4,
    "start_time": "2023-04-27T12:13:12.908Z"
   },
   {
    "duration": 4,
    "start_time": "2023-04-27T12:13:13.417Z"
   },
   {
    "duration": 2,
    "start_time": "2023-04-27T12:13:14.397Z"
   },
   {
    "duration": 18,
    "start_time": "2023-04-27T12:13:15.292Z"
   },
   {
    "duration": 17,
    "start_time": "2023-04-27T12:13:15.690Z"
   },
   {
    "duration": 77,
    "start_time": "2023-04-27T12:13:20.995Z"
   },
   {
    "duration": 50,
    "start_time": "2023-04-27T12:13:41.660Z"
   },
   {
    "duration": 0,
    "start_time": "2023-04-27T12:13:41.713Z"
   },
   {
    "duration": 0,
    "start_time": "2023-04-27T12:13:41.714Z"
   },
   {
    "duration": 0,
    "start_time": "2023-04-27T12:13:41.715Z"
   },
   {
    "duration": 0,
    "start_time": "2023-04-27T12:13:41.716Z"
   },
   {
    "duration": 0,
    "start_time": "2023-04-27T12:13:41.717Z"
   },
   {
    "duration": 6279,
    "start_time": "2023-04-27T12:14:02.489Z"
   },
   {
    "duration": 4,
    "start_time": "2023-04-27T12:14:08.770Z"
   },
   {
    "duration": 362,
    "start_time": "2023-04-27T12:14:08.969Z"
   },
   {
    "duration": 3283,
    "start_time": "2023-04-27T12:14:21.049Z"
   },
   {
    "duration": 3,
    "start_time": "2023-04-27T12:17:34.375Z"
   },
   {
    "duration": 4,
    "start_time": "2023-04-27T12:17:36.535Z"
   },
   {
    "duration": 3,
    "start_time": "2023-04-27T12:17:40.534Z"
   },
   {
    "duration": 2016,
    "start_time": "2023-04-27T12:17:43.271Z"
   },
   {
    "duration": 187,
    "start_time": "2023-04-27T12:17:46.663Z"
   },
   {
    "duration": 390,
    "start_time": "2023-04-27T12:17:46.951Z"
   },
   {
    "duration": 587,
    "start_time": "2023-04-27T12:17:48.207Z"
   },
   {
    "duration": 30,
    "start_time": "2023-04-27T12:17:48.796Z"
   },
   {
    "duration": 12,
    "start_time": "2023-04-27T12:17:49.439Z"
   },
   {
    "duration": 917,
    "start_time": "2023-04-27T12:17:53.799Z"
   },
   {
    "duration": 6102,
    "start_time": "2023-04-27T12:17:56.535Z"
   },
   {
    "duration": 12,
    "start_time": "2023-04-27T12:18:02.639Z"
   },
   {
    "duration": 270,
    "start_time": "2023-04-27T12:18:02.653Z"
   },
   {
    "duration": 8,
    "start_time": "2023-04-27T12:18:06.639Z"
   },
   {
    "duration": 5,
    "start_time": "2023-04-27T12:18:50.423Z"
   },
   {
    "duration": 6,
    "start_time": "2023-04-27T12:18:56.838Z"
   },
   {
    "duration": 5,
    "start_time": "2023-04-27T12:19:05.911Z"
   },
   {
    "duration": 107,
    "start_time": "2023-04-27T12:23:40.034Z"
   },
   {
    "duration": 116,
    "start_time": "2023-04-27T12:33:04.707Z"
   },
   {
    "duration": 97,
    "start_time": "2023-04-27T12:38:47.109Z"
   },
   {
    "duration": 7345,
    "start_time": "2023-05-02T12:45:51.234Z"
   },
   {
    "duration": 0,
    "start_time": "2023-05-02T12:45:58.582Z"
   }
  ],
  "kernelspec": {
   "display_name": "Python 3 (ipykernel)",
   "language": "python",
   "name": "python3"
  },
  "language_info": {
   "codemirror_mode": {
    "name": "ipython",
    "version": 3
   },
   "file_extension": ".py",
   "mimetype": "text/x-python",
   "name": "python",
   "nbconvert_exporter": "python",
   "pygments_lexer": "ipython3",
   "version": "3.9.7"
  },
  "toc": {
   "base_numbering": 1,
   "nav_menu": {},
   "number_sections": true,
   "sideBar": true,
   "skip_h1_title": true,
   "title_cell": "Table of Contents",
   "title_sidebar": "Contents",
   "toc_cell": true,
   "toc_position": {},
   "toc_section_display": true,
   "toc_window_display": false
  }
 },
 "nbformat": 4,
 "nbformat_minor": 5
}
