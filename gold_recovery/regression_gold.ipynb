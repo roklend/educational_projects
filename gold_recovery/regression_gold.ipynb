{
 "cells": [
  {
   "cell_type": "markdown",
   "metadata": {
    "toc": true
   },
   "source": [
    "<h1>Содержание<span class=\"tocSkip\"></span></h1>\n",
    "<div class=\"toc\"><ul class=\"toc-item\"><li><span><a href=\"#Подготовка-данных\" data-toc-modified-id=\"Подготовка-данных-1\"><span class=\"toc-item-num\">1&nbsp;&nbsp;</span>Подготовка данных</a></span><ul class=\"toc-item\"><li><span><a href=\"#Открыть-датасет-и-изучить-его\" data-toc-modified-id=\"Открыть-датасет-и-изучить-его-1.1\"><span class=\"toc-item-num\">1.1&nbsp;&nbsp;</span>Открыть датасет и изучить его</a></span></li><li><span><a href=\"#Проверка-правильности-данных-эффективности-обогащения\" data-toc-modified-id=\"Проверка-правильности-данных-эффективности-обогащения-1.2\"><span class=\"toc-item-num\">1.2&nbsp;&nbsp;</span>Проверка правильности данных эффективности обогащения</a></span></li><li><span><a href=\"#Анализ-отсутствующих-признаков\" data-toc-modified-id=\"Анализ-отсутствующих-признаков-1.3\"><span class=\"toc-item-num\">1.3&nbsp;&nbsp;</span>Анализ отсутствующих признаков</a></span></li></ul></li><li><span><a href=\"#Анализ-данных\" data-toc-modified-id=\"Анализ-данных-2\"><span class=\"toc-item-num\">2&nbsp;&nbsp;</span>Анализ данных</a></span><ul class=\"toc-item\"><li><span><a href=\"#Концентрация-Au,-Ag-и-Pb-на-различных-этапах-очистки\" data-toc-modified-id=\"Концентрация-Au,-Ag-и-Pb-на-различных-этапах-очистки-2.1\"><span class=\"toc-item-num\">2.1&nbsp;&nbsp;</span>Концентрация Au, Ag и Pb на различных этапах очистки</a></span></li><li><span><a href=\"#Распределение-размеров-гранул-сырья-на-обучающей-и-тестовой-выборках\" data-toc-modified-id=\"Распределение-размеров-гранул-сырья-на-обучающей-и-тестовой-выборках-2.2\"><span class=\"toc-item-num\">2.2&nbsp;&nbsp;</span>Распределение размеров гранул сырья на обучающей и тестовой выборках</a></span></li><li><span><a href=\"#Суммарная-концентрация-веществ-на-разных-стадиях\" data-toc-modified-id=\"Суммарная-концентрация-веществ-на-разных-стадиях-2.3\"><span class=\"toc-item-num\">2.3&nbsp;&nbsp;</span>Суммарная концентрация веществ на разных стадиях</a></span></li></ul></li><li><span><a href=\"#Модель\" data-toc-modified-id=\"Модель-3\"><span class=\"toc-item-num\">3&nbsp;&nbsp;</span>Модель</a></span><ul class=\"toc-item\"><li><span><a href=\"#Функция-для-вычисления-sMAPE\" data-toc-modified-id=\"Функция-для-вычисления-sMAPE-3.1\"><span class=\"toc-item-num\">3.1&nbsp;&nbsp;</span>Функция для вычисления sMAPE</a></span></li><li><span><a href=\"#Обучение-моделей\" data-toc-modified-id=\"Обучение-моделей-3.2\"><span class=\"toc-item-num\">3.2&nbsp;&nbsp;</span>Обучение моделей</a></span></li><li><span><a href=\"#Тестирование-лучшей-модели\" data-toc-modified-id=\"Тестирование-лучшей-модели-3.3\"><span class=\"toc-item-num\">3.3&nbsp;&nbsp;</span>Тестирование лучшей модели</a></span></li></ul></li><li><span><a href=\"#Вывод\" data-toc-modified-id=\"Вывод-4\"><span class=\"toc-item-num\">4&nbsp;&nbsp;</span>Вывод</a></span></li></ul></div>"
   ]
  },
  {
   "cell_type": "markdown",
   "metadata": {},
   "source": [
    "# Восстановление золота"
   ]
  },
  {
   "cell_type": "markdown",
   "metadata": {},
   "source": [
    "Предприятие \"Цифра\", занимающееся разработкой решений для эффективной работы промышленных предприятий, нуждается в помощи. <br>\n",
    "Необходимо построить модель, способную предсказать коэффициент восстановления золота из золотосодержащей руды. В распоряжении имеются данные с параметрами добычи и очистки. <br>\n",
    "<br>\n",
    "Модель поможет оптимизировать производство, чтобы не запускать предприятие с убыточными характеристиками. <br>\n",
    "<br>\n",
    "Проект имеет следующие этапы:\n",
    "- Подготовка данных; <br>\n",
    "- Исследовательский анализ данных; <br>\n",
    "- Построение и обучение модели. <br>\n",
    "\n",
    "**Особенности проекта** <br>\n",
    "- Два целевых признака: эффективность обогащения чернового и финального концентрата; <br>\n",
    "- В качестве метрики оценки качества модели используем *sMAPE* (*Symmetric Mean Absolute Percentage Error*), рассчитываемый следующим образом: <br>\n",
    "$$ \\frac{1}{N}\\sum_{i=1}^{N}\\frac{|y_{i}-\\hat{y_{i}}|}{|y_{i}|+|\\hat{y_{i}}|} $$ <br>\n",
    "sMAPE необходимо вычислить для чернового и финального этапа. Итоговая sMAPE вычисляется следующим образом: <br>\n",
    "<h1><center>sMAPE (Итоговая) = 0.25 * sMAPE (черновая) + 0.75 * sMAPE (финальная)</center></h1>"
   ]
  },
  {
   "cell_type": "code",
   "execution_count": 1,
   "metadata": {},
   "outputs": [],
   "source": [
    "# Импортируемые библиотеки\n",
    "import pandas as pd\n",
    "import seaborn as sns\n",
    "import matplotlib.pyplot as plt\n",
    "from sklearn.metrics import make_scorer\n",
    "import numpy as np\n",
    "from sklearn.compose import make_column_transformer\n",
    "from sklearn.preprocessing import StandardScaler\n",
    "from sklearn.pipeline import make_pipeline\n",
    "from sklearn.model_selection import RandomizedSearchCV, GridSearchCV\n",
    "from sklearn.ensemble import RandomForestRegressor\n",
    "from sklearn.linear_model import Ridge\n",
    "from sklearn.tree import DecisionTreeRegressor\n",
    "from sklearn.dummy import DummyRegressor"
   ]
  },
  {
   "cell_type": "code",
   "execution_count": 2,
   "metadata": {},
   "outputs": [],
   "source": [
    "# Используемые константы\n",
    "STATE = np.random.RandomState(12345)"
   ]
  },
  {
   "cell_type": "code",
   "execution_count": 3,
   "metadata": {},
   "outputs": [],
   "source": [
    "import warnings\n",
    "warnings.simplefilter(\"ignore\")"
   ]
  },
  {
   "cell_type": "markdown",
   "metadata": {},
   "source": [
    "## Подготовка данных"
   ]
  },
  {
   "cell_type": "markdown",
   "metadata": {},
   "source": [
    "Наша задача на этом этапе - изучить и подготовить данные для дальнейше работы с ними. Необходимо проверить их на наличие пропусков и дубликатов а также постараться объяснить их наличие и обработать их."
   ]
  },
  {
   "cell_type": "markdown",
   "metadata": {},
   "source": [
    "### Открыть датасет и изучить его"
   ]
  },
  {
   "cell_type": "markdown",
   "metadata": {},
   "source": [
    "За нас уже разделили данные на тестовую и тренировочную выборки."
   ]
  },
  {
   "cell_type": "code",
   "execution_count": 4,
   "metadata": {},
   "outputs": [],
   "source": [
    "data_train = pd.read_csv('datasets/gold_industry_train.csv') # загружаем тренировочный датасет\n",
    "data_test = pd.read_csv('datasets/gold_industry_test.csv') # загружаем тестовый датасет\n",
    "data_full = pd.read_csv('datasets/gold_industry_full.csv') # загружаем изначальный датасет\n",
    "pd.set_option('display.max_columns', None) # убираем ограничение на количество отображаемых столбцов в DataFrame"
   ]
  },
  {
   "cell_type": "code",
   "execution_count": 5,
   "metadata": {
    "scrolled": false
   },
   "outputs": [
    {
     "data": {
      "text/html": [
       "<div>\n",
       "<style scoped>\n",
       "    .dataframe tbody tr th:only-of-type {\n",
       "        vertical-align: middle;\n",
       "    }\n",
       "\n",
       "    .dataframe tbody tr th {\n",
       "        vertical-align: top;\n",
       "    }\n",
       "\n",
       "    .dataframe thead th {\n",
       "        text-align: right;\n",
       "    }\n",
       "</style>\n",
       "<table border=\"1\" class=\"dataframe\">\n",
       "  <thead>\n",
       "    <tr style=\"text-align: right;\">\n",
       "      <th></th>\n",
       "      <th>date</th>\n",
       "      <th>rougher.input.feed_au</th>\n",
       "      <th>rougher.input.feed_ag</th>\n",
       "      <th>rougher.input.feed_pb</th>\n",
       "      <th>rougher.input.feed_sol</th>\n",
       "      <th>rougher.input.feed_rate</th>\n",
       "      <th>rougher.input.feed_size</th>\n",
       "      <th>rougher.input.floatbank10_sulfate</th>\n",
       "      <th>rougher.input.floatbank10_xanthate</th>\n",
       "      <th>rougher.state.floatbank10_a_air</th>\n",
       "      <th>rougher.state.floatbank10_a_level</th>\n",
       "      <th>rougher.state.floatbank10_b_air</th>\n",
       "      <th>rougher.state.floatbank10_b_level</th>\n",
       "      <th>rougher.state.floatbank10_c_air</th>\n",
       "      <th>rougher.state.floatbank10_c_level</th>\n",
       "      <th>rougher.state.floatbank10_d_air</th>\n",
       "      <th>rougher.state.floatbank10_d_level</th>\n",
       "      <th>rougher.state.floatbank10_e_air</th>\n",
       "      <th>rougher.state.floatbank10_e_level</th>\n",
       "      <th>rougher.state.floatbank10_f_air</th>\n",
       "      <th>rougher.state.floatbank10_f_level</th>\n",
       "      <th>rougher.input.floatbank11_sulfate</th>\n",
       "      <th>rougher.input.floatbank11_xanthate</th>\n",
       "      <th>rougher.calculation.sulfate_to_au_concentrate</th>\n",
       "      <th>rougher.calculation.floatbank10_sulfate_to_au_feed</th>\n",
       "      <th>rougher.calculation.floatbank11_sulfate_to_au_feed</th>\n",
       "      <th>rougher.calculation.au_pb_ratio</th>\n",
       "      <th>rougher.output.concentrate_au</th>\n",
       "      <th>rougher.output.concentrate_ag</th>\n",
       "      <th>rougher.output.concentrate_pb</th>\n",
       "      <th>rougher.output.concentrate_sol</th>\n",
       "      <th>rougher.output.recovery</th>\n",
       "      <th>rougher.output.tail_au</th>\n",
       "      <th>rougher.output.tail_ag</th>\n",
       "      <th>rougher.output.tail_pb</th>\n",
       "      <th>rougher.output.tail_sol</th>\n",
       "      <th>primary_cleaner.input.sulfate</th>\n",
       "      <th>primary_cleaner.input.depressant</th>\n",
       "      <th>primary_cleaner.input.feed_size</th>\n",
       "      <th>primary_cleaner.input.xanthate</th>\n",
       "      <th>primary_cleaner.state.floatbank8_a_air</th>\n",
       "      <th>primary_cleaner.state.floatbank8_a_level</th>\n",
       "      <th>primary_cleaner.state.floatbank8_b_air</th>\n",
       "      <th>primary_cleaner.state.floatbank8_b_level</th>\n",
       "      <th>primary_cleaner.state.floatbank8_c_air</th>\n",
       "      <th>primary_cleaner.state.floatbank8_c_level</th>\n",
       "      <th>primary_cleaner.state.floatbank8_d_air</th>\n",
       "      <th>primary_cleaner.state.floatbank8_d_level</th>\n",
       "      <th>primary_cleaner.output.concentrate_au</th>\n",
       "      <th>primary_cleaner.output.concentrate_ag</th>\n",
       "      <th>primary_cleaner.output.concentrate_pb</th>\n",
       "      <th>primary_cleaner.output.concentrate_sol</th>\n",
       "      <th>primary_cleaner.output.tail_au</th>\n",
       "      <th>primary_cleaner.output.tail_ag</th>\n",
       "      <th>primary_cleaner.output.tail_pb</th>\n",
       "      <th>primary_cleaner.output.tail_sol</th>\n",
       "      <th>secondary_cleaner.state.floatbank2_a_air</th>\n",
       "      <th>secondary_cleaner.state.floatbank2_a_level</th>\n",
       "      <th>secondary_cleaner.state.floatbank2_b_air</th>\n",
       "      <th>secondary_cleaner.state.floatbank2_b_level</th>\n",
       "      <th>secondary_cleaner.state.floatbank3_a_air</th>\n",
       "      <th>secondary_cleaner.state.floatbank3_a_level</th>\n",
       "      <th>secondary_cleaner.state.floatbank3_b_air</th>\n",
       "      <th>secondary_cleaner.state.floatbank3_b_level</th>\n",
       "      <th>secondary_cleaner.state.floatbank4_a_air</th>\n",
       "      <th>secondary_cleaner.state.floatbank4_a_level</th>\n",
       "      <th>secondary_cleaner.state.floatbank4_b_air</th>\n",
       "      <th>secondary_cleaner.state.floatbank4_b_level</th>\n",
       "      <th>secondary_cleaner.state.floatbank5_a_air</th>\n",
       "      <th>secondary_cleaner.state.floatbank5_a_level</th>\n",
       "      <th>secondary_cleaner.state.floatbank5_b_air</th>\n",
       "      <th>secondary_cleaner.state.floatbank5_b_level</th>\n",
       "      <th>secondary_cleaner.state.floatbank6_a_air</th>\n",
       "      <th>secondary_cleaner.state.floatbank6_a_level</th>\n",
       "      <th>secondary_cleaner.output.tail_au</th>\n",
       "      <th>secondary_cleaner.output.tail_ag</th>\n",
       "      <th>secondary_cleaner.output.tail_pb</th>\n",
       "      <th>secondary_cleaner.output.tail_sol</th>\n",
       "      <th>final.output.concentrate_au</th>\n",
       "      <th>final.output.concentrate_ag</th>\n",
       "      <th>final.output.concentrate_pb</th>\n",
       "      <th>final.output.concentrate_sol</th>\n",
       "      <th>final.output.recovery</th>\n",
       "      <th>final.output.tail_au</th>\n",
       "      <th>final.output.tail_ag</th>\n",
       "      <th>final.output.tail_pb</th>\n",
       "      <th>final.output.tail_sol</th>\n",
       "    </tr>\n",
       "  </thead>\n",
       "  <tbody>\n",
       "    <tr>\n",
       "      <th>11409</th>\n",
       "      <td>2017-07-19 15:59:59</td>\n",
       "      <td>11.873151</td>\n",
       "      <td>12.356466</td>\n",
       "      <td>5.976888</td>\n",
       "      <td>40.822931</td>\n",
       "      <td>511.017112</td>\n",
       "      <td>51.002520</td>\n",
       "      <td>15.413257</td>\n",
       "      <td>6.198355</td>\n",
       "      <td>998.655977</td>\n",
       "      <td>-400.045199</td>\n",
       "      <td>1196.853279</td>\n",
       "      <td>-501.204316</td>\n",
       "      <td>1200.831536</td>\n",
       "      <td>-500.615770</td>\n",
       "      <td>999.682798</td>\n",
       "      <td>-500.448186</td>\n",
       "      <td>999.658909</td>\n",
       "      <td>-499.569982</td>\n",
       "      <td>900.411555</td>\n",
       "      <td>-502.415021</td>\n",
       "      <td>15.413119</td>\n",
       "      <td>6.194868</td>\n",
       "      <td>54117.132463</td>\n",
       "      <td>2996.362785</td>\n",
       "      <td>2996.542140</td>\n",
       "      <td>1.986511</td>\n",
       "      <td>20.599910</td>\n",
       "      <td>14.399734</td>\n",
       "      <td>9.303357</td>\n",
       "      <td>34.013400</td>\n",
       "      <td>91.800009</td>\n",
       "      <td>2.067555</td>\n",
       "      <td>5.670290</td>\n",
       "      <td>0.718067</td>\n",
       "      <td>16.980269</td>\n",
       "      <td>252.831455</td>\n",
       "      <td>9.017192</td>\n",
       "      <td>8.255001</td>\n",
       "      <td>1.427451</td>\n",
       "      <td>1551.998783</td>\n",
       "      <td>-500.331316</td>\n",
       "      <td>1549.712493</td>\n",
       "      <td>-507.194532</td>\n",
       "      <td>1490.114746</td>\n",
       "      <td>-499.359371</td>\n",
       "      <td>1550.585097</td>\n",
       "      <td>-498.538865</td>\n",
       "      <td>30.107012</td>\n",
       "      <td>10.953651</td>\n",
       "      <td>12.845215</td>\n",
       "      <td>17.667037</td>\n",
       "      <td>7.773899</td>\n",
       "      <td>20.732992</td>\n",
       "      <td>6.467104</td>\n",
       "      <td>9.469695</td>\n",
       "      <td>21.997189</td>\n",
       "      <td>-499.383837</td>\n",
       "      <td>19.942257</td>\n",
       "      <td>-500.123569</td>\n",
       "      <td>24.978981</td>\n",
       "      <td>-500.080889</td>\n",
       "      <td>17.977660</td>\n",
       "      <td>-500.104618</td>\n",
       "      <td>1.079872e-16</td>\n",
       "      <td>-799.704829</td>\n",
       "      <td>2.489718e-17</td>\n",
       "      <td>-799.852978</td>\n",
       "      <td>11.054884</td>\n",
       "      <td>-497.642993</td>\n",
       "      <td>7.277496</td>\n",
       "      <td>-499.897722</td>\n",
       "      <td>12.012010</td>\n",
       "      <td>-499.181272</td>\n",
       "      <td>20.163214</td>\n",
       "      <td>15.807652</td>\n",
       "      <td>10.405020</td>\n",
       "      <td>10.607722</td>\n",
       "      <td>38.791118</td>\n",
       "      <td>6.276844</td>\n",
       "      <td>9.075987</td>\n",
       "      <td>8.890785</td>\n",
       "      <td>47.471002</td>\n",
       "      <td>7.297109</td>\n",
       "      <td>13.499516</td>\n",
       "      <td>4.798724</td>\n",
       "      <td>13.576696</td>\n",
       "    </tr>\n",
       "    <tr>\n",
       "      <th>5995</th>\n",
       "      <td>2016-11-05 07:59:59</td>\n",
       "      <td>9.652368</td>\n",
       "      <td>9.980459</td>\n",
       "      <td>2.996358</td>\n",
       "      <td>37.569632</td>\n",
       "      <td>425.646768</td>\n",
       "      <td>47.847849</td>\n",
       "      <td>13.000869</td>\n",
       "      <td>6.000049</td>\n",
       "      <td>999.829001</td>\n",
       "      <td>-499.941168</td>\n",
       "      <td>1099.815114</td>\n",
       "      <td>-500.103920</td>\n",
       "      <td>1100.431206</td>\n",
       "      <td>-500.154041</td>\n",
       "      <td>1099.920418</td>\n",
       "      <td>-500.328791</td>\n",
       "      <td>900.015697</td>\n",
       "      <td>-500.196296</td>\n",
       "      <td>900.043341</td>\n",
       "      <td>-501.123075</td>\n",
       "      <td>12.999902</td>\n",
       "      <td>6.000914</td>\n",
       "      <td>35995.660142</td>\n",
       "      <td>3187.071140</td>\n",
       "      <td>3187.296153</td>\n",
       "      <td>3.221367</td>\n",
       "      <td>22.759432</td>\n",
       "      <td>15.690319</td>\n",
       "      <td>6.878079</td>\n",
       "      <td>35.058594</td>\n",
       "      <td>88.898153</td>\n",
       "      <td>1.720107</td>\n",
       "      <td>5.517614</td>\n",
       "      <td>0.271834</td>\n",
       "      <td>18.103457</td>\n",
       "      <td>129.839398</td>\n",
       "      <td>10.047372</td>\n",
       "      <td>7.350000</td>\n",
       "      <td>0.605386</td>\n",
       "      <td>1600.613443</td>\n",
       "      <td>-500.158038</td>\n",
       "      <td>1602.044797</td>\n",
       "      <td>-500.471497</td>\n",
       "      <td>1602.353308</td>\n",
       "      <td>-502.193574</td>\n",
       "      <td>1599.885371</td>\n",
       "      <td>-499.238058</td>\n",
       "      <td>33.567645</td>\n",
       "      <td>9.188352</td>\n",
       "      <td>9.997443</td>\n",
       "      <td>12.575046</td>\n",
       "      <td>3.040811</td>\n",
       "      <td>18.002804</td>\n",
       "      <td>3.506553</td>\n",
       "      <td>7.455076</td>\n",
       "      <td>29.973186</td>\n",
       "      <td>-500.519984</td>\n",
       "      <td>28.066066</td>\n",
       "      <td>-500.263029</td>\n",
       "      <td>34.983923</td>\n",
       "      <td>-500.835074</td>\n",
       "      <td>22.006523</td>\n",
       "      <td>-500.362040</td>\n",
       "      <td>2.101374e+01</td>\n",
       "      <td>-502.946783</td>\n",
       "      <td>2.104204e+01</td>\n",
       "      <td>-500.612633</td>\n",
       "      <td>22.977677</td>\n",
       "      <td>-501.490438</td>\n",
       "      <td>19.998657</td>\n",
       "      <td>-500.006330</td>\n",
       "      <td>25.017220</td>\n",
       "      <td>-600.319985</td>\n",
       "      <td>2.933019</td>\n",
       "      <td>16.792774</td>\n",
       "      <td>3.539348</td>\n",
       "      <td>9.754457</td>\n",
       "      <td>46.001396</td>\n",
       "      <td>4.898956</td>\n",
       "      <td>8.815221</td>\n",
       "      <td>14.237945</td>\n",
       "      <td>74.993930</td>\n",
       "      <td>2.864417</td>\n",
       "      <td>10.825226</td>\n",
       "      <td>2.647699</td>\n",
       "      <td>10.043155</td>\n",
       "    </tr>\n",
       "    <tr>\n",
       "      <th>8563</th>\n",
       "      <td>2017-03-03 14:59:59</td>\n",
       "      <td>6.312825</td>\n",
       "      <td>7.263550</td>\n",
       "      <td>2.865809</td>\n",
       "      <td>35.748043</td>\n",
       "      <td>496.610592</td>\n",
       "      <td>52.847526</td>\n",
       "      <td>19.997944</td>\n",
       "      <td>5.599680</td>\n",
       "      <td>992.821537</td>\n",
       "      <td>-300.041977</td>\n",
       "      <td>1392.395541</td>\n",
       "      <td>-400.724913</td>\n",
       "      <td>1395.620073</td>\n",
       "      <td>-399.794185</td>\n",
       "      <td>1290.439974</td>\n",
       "      <td>-400.032975</td>\n",
       "      <td>1199.139677</td>\n",
       "      <td>-399.959496</td>\n",
       "      <td>1098.997995</td>\n",
       "      <td>-399.036495</td>\n",
       "      <td>20.001619</td>\n",
       "      <td>5.600411</td>\n",
       "      <td>49542.413766</td>\n",
       "      <td>6137.916742</td>\n",
       "      <td>6138.789269</td>\n",
       "      <td>2.202807</td>\n",
       "      <td>19.952880</td>\n",
       "      <td>11.090304</td>\n",
       "      <td>8.047808</td>\n",
       "      <td>29.306114</td>\n",
       "      <td>78.031378</td>\n",
       "      <td>1.841463</td>\n",
       "      <td>5.435670</td>\n",
       "      <td>0.697018</td>\n",
       "      <td>16.676937</td>\n",
       "      <td>114.721413</td>\n",
       "      <td>8.082274</td>\n",
       "      <td>7.590000</td>\n",
       "      <td>0.681020</td>\n",
       "      <td>1681.497517</td>\n",
       "      <td>-499.889742</td>\n",
       "      <td>1703.069780</td>\n",
       "      <td>-499.631697</td>\n",
       "      <td>1699.380193</td>\n",
       "      <td>-500.656737</td>\n",
       "      <td>1699.511708</td>\n",
       "      <td>-497.391700</td>\n",
       "      <td>31.888348</td>\n",
       "      <td>8.876370</td>\n",
       "      <td>10.605469</td>\n",
       "      <td>9.035383</td>\n",
       "      <td>2.994234</td>\n",
       "      <td>12.716922</td>\n",
       "      <td>1.666370</td>\n",
       "      <td>7.736377</td>\n",
       "      <td>34.902374</td>\n",
       "      <td>-500.113840</td>\n",
       "      <td>26.887727</td>\n",
       "      <td>-499.980293</td>\n",
       "      <td>24.956628</td>\n",
       "      <td>-500.273493</td>\n",
       "      <td>20.007408</td>\n",
       "      <td>-500.245919</td>\n",
       "      <td>1.797494e+01</td>\n",
       "      <td>-500.099723</td>\n",
       "      <td>1.309064e+01</td>\n",
       "      <td>-380.535091</td>\n",
       "      <td>17.995597</td>\n",
       "      <td>-500.383628</td>\n",
       "      <td>12.995019</td>\n",
       "      <td>-500.147785</td>\n",
       "      <td>14.997846</td>\n",
       "      <td>-499.833560</td>\n",
       "      <td>3.945921</td>\n",
       "      <td>16.626952</td>\n",
       "      <td>6.569786</td>\n",
       "      <td>2.297306</td>\n",
       "      <td>43.260791</td>\n",
       "      <td>5.418847</td>\n",
       "      <td>11.015527</td>\n",
       "      <td>7.883064</td>\n",
       "      <td>62.825203</td>\n",
       "      <td>2.583642</td>\n",
       "      <td>7.449588</td>\n",
       "      <td>2.538897</td>\n",
       "      <td>10.441729</td>\n",
       "    </tr>\n",
       "    <tr>\n",
       "      <th>3758</th>\n",
       "      <td>2016-07-22 01:59:59</td>\n",
       "      <td>10.582537</td>\n",
       "      <td>10.648629</td>\n",
       "      <td>3.801914</td>\n",
       "      <td>33.131844</td>\n",
       "      <td>400.992530</td>\n",
       "      <td>41.002029</td>\n",
       "      <td>13.986261</td>\n",
       "      <td>5.598572</td>\n",
       "      <td>1001.263054</td>\n",
       "      <td>-500.263592</td>\n",
       "      <td>1251.605585</td>\n",
       "      <td>-500.196792</td>\n",
       "      <td>1252.000604</td>\n",
       "      <td>-498.885194</td>\n",
       "      <td>1199.032633</td>\n",
       "      <td>-499.511403</td>\n",
       "      <td>1000.993421</td>\n",
       "      <td>-499.456135</td>\n",
       "      <td>950.071396</td>\n",
       "      <td>-499.915977</td>\n",
       "      <td>13.978267</td>\n",
       "      <td>5.598546</td>\n",
       "      <td>44042.097294</td>\n",
       "      <td>3371.069527</td>\n",
       "      <td>3370.806471</td>\n",
       "      <td>2.783476</td>\n",
       "      <td>0.000000</td>\n",
       "      <td>0.000000</td>\n",
       "      <td>0.000000</td>\n",
       "      <td>0.000000</td>\n",
       "      <td>0.000000</td>\n",
       "      <td>3.030150</td>\n",
       "      <td>7.161190</td>\n",
       "      <td>0.769537</td>\n",
       "      <td>11.134718</td>\n",
       "      <td>156.738399</td>\n",
       "      <td>12.015554</td>\n",
       "      <td>7.883333</td>\n",
       "      <td>0.705604</td>\n",
       "      <td>1298.965429</td>\n",
       "      <td>-500.229389</td>\n",
       "      <td>1300.457415</td>\n",
       "      <td>-499.719589</td>\n",
       "      <td>1299.917359</td>\n",
       "      <td>-501.083385</td>\n",
       "      <td>1298.558275</td>\n",
       "      <td>-500.174772</td>\n",
       "      <td>38.532924</td>\n",
       "      <td>7.392250</td>\n",
       "      <td>10.536557</td>\n",
       "      <td>13.520445</td>\n",
       "      <td>7.055153</td>\n",
       "      <td>16.381317</td>\n",
       "      <td>3.566341</td>\n",
       "      <td>9.627772</td>\n",
       "      <td>22.053549</td>\n",
       "      <td>-500.432799</td>\n",
       "      <td>12.111491</td>\n",
       "      <td>-500.201408</td>\n",
       "      <td>12.029589</td>\n",
       "      <td>-499.992472</td>\n",
       "      <td>7.957094</td>\n",
       "      <td>-600.248543</td>\n",
       "      <td>7.946828e+00</td>\n",
       "      <td>-500.289245</td>\n",
       "      <td>4.905670e+00</td>\n",
       "      <td>-600.219201</td>\n",
       "      <td>8.076082</td>\n",
       "      <td>-600.815266</td>\n",
       "      <td>2.996449</td>\n",
       "      <td>-599.282813</td>\n",
       "      <td>20.031787</td>\n",
       "      <td>-599.999953</td>\n",
       "      <td>5.187632</td>\n",
       "      <td>16.051525</td>\n",
       "      <td>4.095743</td>\n",
       "      <td>11.302165</td>\n",
       "      <td>48.674447</td>\n",
       "      <td>4.374817</td>\n",
       "      <td>7.813549</td>\n",
       "      <td>10.543967</td>\n",
       "      <td>59.538536</td>\n",
       "      <td>4.918531</td>\n",
       "      <td>12.379183</td>\n",
       "      <td>3.689785</td>\n",
       "      <td>9.986559</td>\n",
       "    </tr>\n",
       "    <tr>\n",
       "      <th>17555</th>\n",
       "      <td>2018-05-14 16:59:59</td>\n",
       "      <td>11.401629</td>\n",
       "      <td>11.627236</td>\n",
       "      <td>4.953105</td>\n",
       "      <td>30.589132</td>\n",
       "      <td>300.041902</td>\n",
       "      <td>37.393590</td>\n",
       "      <td>10.003267</td>\n",
       "      <td>5.502584</td>\n",
       "      <td>1294.977549</td>\n",
       "      <td>-299.930701</td>\n",
       "      <td>1391.806515</td>\n",
       "      <td>-499.784914</td>\n",
       "      <td>1304.300525</td>\n",
       "      <td>-499.337860</td>\n",
       "      <td>1292.836327</td>\n",
       "      <td>-499.990185</td>\n",
       "      <td>1073.392245</td>\n",
       "      <td>-499.951550</td>\n",
       "      <td>1099.611281</td>\n",
       "      <td>-500.597886</td>\n",
       "      <td>9.999276</td>\n",
       "      <td>5.502402</td>\n",
       "      <td>46039.102668</td>\n",
       "      <td>2807.814190</td>\n",
       "      <td>2806.749970</td>\n",
       "      <td>2.301915</td>\n",
       "      <td>21.067192</td>\n",
       "      <td>14.623467</td>\n",
       "      <td>8.411649</td>\n",
       "      <td>31.720582</td>\n",
       "      <td>93.993826</td>\n",
       "      <td>1.393849</td>\n",
       "      <td>5.914772</td>\n",
       "      <td>0.219950</td>\n",
       "      <td>11.523954</td>\n",
       "      <td>153.767495</td>\n",
       "      <td>13.481041</td>\n",
       "      <td>6.700000</td>\n",
       "      <td>0.967073</td>\n",
       "      <td>1698.334630</td>\n",
       "      <td>-499.379577</td>\n",
       "      <td>1697.013578</td>\n",
       "      <td>-500.196540</td>\n",
       "      <td>1703.456578</td>\n",
       "      <td>-496.838336</td>\n",
       "      <td>1698.638574</td>\n",
       "      <td>-500.828611</td>\n",
       "      <td>27.931564</td>\n",
       "      <td>10.711203</td>\n",
       "      <td>10.412589</td>\n",
       "      <td>11.951617</td>\n",
       "      <td>4.423020</td>\n",
       "      <td>16.266055</td>\n",
       "      <td>3.297122</td>\n",
       "      <td>8.670673</td>\n",
       "      <td>35.016126</td>\n",
       "      <td>-499.692330</td>\n",
       "      <td>32.020361</td>\n",
       "      <td>-499.891862</td>\n",
       "      <td>35.013015</td>\n",
       "      <td>-400.742756</td>\n",
       "      <td>25.978861</td>\n",
       "      <td>-500.149078</td>\n",
       "      <td>2.495286e+01</td>\n",
       "      <td>-400.897581</td>\n",
       "      <td>2.295409e+01</td>\n",
       "      <td>-400.436468</td>\n",
       "      <td>23.005186</td>\n",
       "      <td>-450.976735</td>\n",
       "      <td>20.005350</td>\n",
       "      <td>-449.902655</td>\n",
       "      <td>24.989305</td>\n",
       "      <td>-500.355412</td>\n",
       "      <td>3.047597</td>\n",
       "      <td>16.524690</td>\n",
       "      <td>4.048069</td>\n",
       "      <td>12.723056</td>\n",
       "      <td>40.814044</td>\n",
       "      <td>7.668286</td>\n",
       "      <td>10.802487</td>\n",
       "      <td>14.385434</td>\n",
       "      <td>75.425579</td>\n",
       "      <td>3.549859</td>\n",
       "      <td>12.671712</td>\n",
       "      <td>3.899074</td>\n",
       "      <td>8.623619</td>\n",
       "    </tr>\n",
       "  </tbody>\n",
       "</table>\n",
       "</div>"
      ],
      "text/plain": [
       "                      date  rougher.input.feed_au  rougher.input.feed_ag  \\\n",
       "11409  2017-07-19 15:59:59              11.873151              12.356466   \n",
       "5995   2016-11-05 07:59:59               9.652368               9.980459   \n",
       "8563   2017-03-03 14:59:59               6.312825               7.263550   \n",
       "3758   2016-07-22 01:59:59              10.582537              10.648629   \n",
       "17555  2018-05-14 16:59:59              11.401629              11.627236   \n",
       "\n",
       "       rougher.input.feed_pb  rougher.input.feed_sol  rougher.input.feed_rate  \\\n",
       "11409               5.976888               40.822931               511.017112   \n",
       "5995                2.996358               37.569632               425.646768   \n",
       "8563                2.865809               35.748043               496.610592   \n",
       "3758                3.801914               33.131844               400.992530   \n",
       "17555               4.953105               30.589132               300.041902   \n",
       "\n",
       "       rougher.input.feed_size  rougher.input.floatbank10_sulfate  \\\n",
       "11409                51.002520                          15.413257   \n",
       "5995                 47.847849                          13.000869   \n",
       "8563                 52.847526                          19.997944   \n",
       "3758                 41.002029                          13.986261   \n",
       "17555                37.393590                          10.003267   \n",
       "\n",
       "       rougher.input.floatbank10_xanthate  rougher.state.floatbank10_a_air  \\\n",
       "11409                            6.198355                       998.655977   \n",
       "5995                             6.000049                       999.829001   \n",
       "8563                             5.599680                       992.821537   \n",
       "3758                             5.598572                      1001.263054   \n",
       "17555                            5.502584                      1294.977549   \n",
       "\n",
       "       rougher.state.floatbank10_a_level  rougher.state.floatbank10_b_air  \\\n",
       "11409                        -400.045199                      1196.853279   \n",
       "5995                         -499.941168                      1099.815114   \n",
       "8563                         -300.041977                      1392.395541   \n",
       "3758                         -500.263592                      1251.605585   \n",
       "17555                        -299.930701                      1391.806515   \n",
       "\n",
       "       rougher.state.floatbank10_b_level  rougher.state.floatbank10_c_air  \\\n",
       "11409                        -501.204316                      1200.831536   \n",
       "5995                         -500.103920                      1100.431206   \n",
       "8563                         -400.724913                      1395.620073   \n",
       "3758                         -500.196792                      1252.000604   \n",
       "17555                        -499.784914                      1304.300525   \n",
       "\n",
       "       rougher.state.floatbank10_c_level  rougher.state.floatbank10_d_air  \\\n",
       "11409                        -500.615770                       999.682798   \n",
       "5995                         -500.154041                      1099.920418   \n",
       "8563                         -399.794185                      1290.439974   \n",
       "3758                         -498.885194                      1199.032633   \n",
       "17555                        -499.337860                      1292.836327   \n",
       "\n",
       "       rougher.state.floatbank10_d_level  rougher.state.floatbank10_e_air  \\\n",
       "11409                        -500.448186                       999.658909   \n",
       "5995                         -500.328791                       900.015697   \n",
       "8563                         -400.032975                      1199.139677   \n",
       "3758                         -499.511403                      1000.993421   \n",
       "17555                        -499.990185                      1073.392245   \n",
       "\n",
       "       rougher.state.floatbank10_e_level  rougher.state.floatbank10_f_air  \\\n",
       "11409                        -499.569982                       900.411555   \n",
       "5995                         -500.196296                       900.043341   \n",
       "8563                         -399.959496                      1098.997995   \n",
       "3758                         -499.456135                       950.071396   \n",
       "17555                        -499.951550                      1099.611281   \n",
       "\n",
       "       rougher.state.floatbank10_f_level  rougher.input.floatbank11_sulfate  \\\n",
       "11409                        -502.415021                          15.413119   \n",
       "5995                         -501.123075                          12.999902   \n",
       "8563                         -399.036495                          20.001619   \n",
       "3758                         -499.915977                          13.978267   \n",
       "17555                        -500.597886                           9.999276   \n",
       "\n",
       "       rougher.input.floatbank11_xanthate  \\\n",
       "11409                            6.194868   \n",
       "5995                             6.000914   \n",
       "8563                             5.600411   \n",
       "3758                             5.598546   \n",
       "17555                            5.502402   \n",
       "\n",
       "       rougher.calculation.sulfate_to_au_concentrate  \\\n",
       "11409                                   54117.132463   \n",
       "5995                                    35995.660142   \n",
       "8563                                    49542.413766   \n",
       "3758                                    44042.097294   \n",
       "17555                                   46039.102668   \n",
       "\n",
       "       rougher.calculation.floatbank10_sulfate_to_au_feed  \\\n",
       "11409                                        2996.362785    \n",
       "5995                                         3187.071140    \n",
       "8563                                         6137.916742    \n",
       "3758                                         3371.069527    \n",
       "17555                                        2807.814190    \n",
       "\n",
       "       rougher.calculation.floatbank11_sulfate_to_au_feed  \\\n",
       "11409                                        2996.542140    \n",
       "5995                                         3187.296153    \n",
       "8563                                         6138.789269    \n",
       "3758                                         3370.806471    \n",
       "17555                                        2806.749970    \n",
       "\n",
       "       rougher.calculation.au_pb_ratio  rougher.output.concentrate_au  \\\n",
       "11409                         1.986511                      20.599910   \n",
       "5995                          3.221367                      22.759432   \n",
       "8563                          2.202807                      19.952880   \n",
       "3758                          2.783476                       0.000000   \n",
       "17555                         2.301915                      21.067192   \n",
       "\n",
       "       rougher.output.concentrate_ag  rougher.output.concentrate_pb  \\\n",
       "11409                      14.399734                       9.303357   \n",
       "5995                       15.690319                       6.878079   \n",
       "8563                       11.090304                       8.047808   \n",
       "3758                        0.000000                       0.000000   \n",
       "17555                      14.623467                       8.411649   \n",
       "\n",
       "       rougher.output.concentrate_sol  rougher.output.recovery  \\\n",
       "11409                       34.013400                91.800009   \n",
       "5995                        35.058594                88.898153   \n",
       "8563                        29.306114                78.031378   \n",
       "3758                         0.000000                 0.000000   \n",
       "17555                       31.720582                93.993826   \n",
       "\n",
       "       rougher.output.tail_au  rougher.output.tail_ag  rougher.output.tail_pb  \\\n",
       "11409                2.067555                5.670290                0.718067   \n",
       "5995                 1.720107                5.517614                0.271834   \n",
       "8563                 1.841463                5.435670                0.697018   \n",
       "3758                 3.030150                7.161190                0.769537   \n",
       "17555                1.393849                5.914772                0.219950   \n",
       "\n",
       "       rougher.output.tail_sol  primary_cleaner.input.sulfate  \\\n",
       "11409                16.980269                     252.831455   \n",
       "5995                 18.103457                     129.839398   \n",
       "8563                 16.676937                     114.721413   \n",
       "3758                 11.134718                     156.738399   \n",
       "17555                11.523954                     153.767495   \n",
       "\n",
       "       primary_cleaner.input.depressant  primary_cleaner.input.feed_size  \\\n",
       "11409                          9.017192                         8.255001   \n",
       "5995                          10.047372                         7.350000   \n",
       "8563                           8.082274                         7.590000   \n",
       "3758                          12.015554                         7.883333   \n",
       "17555                         13.481041                         6.700000   \n",
       "\n",
       "       primary_cleaner.input.xanthate  primary_cleaner.state.floatbank8_a_air  \\\n",
       "11409                        1.427451                             1551.998783   \n",
       "5995                         0.605386                             1600.613443   \n",
       "8563                         0.681020                             1681.497517   \n",
       "3758                         0.705604                             1298.965429   \n",
       "17555                        0.967073                             1698.334630   \n",
       "\n",
       "       primary_cleaner.state.floatbank8_a_level  \\\n",
       "11409                               -500.331316   \n",
       "5995                                -500.158038   \n",
       "8563                                -499.889742   \n",
       "3758                                -500.229389   \n",
       "17555                               -499.379577   \n",
       "\n",
       "       primary_cleaner.state.floatbank8_b_air  \\\n",
       "11409                             1549.712493   \n",
       "5995                              1602.044797   \n",
       "8563                              1703.069780   \n",
       "3758                              1300.457415   \n",
       "17555                             1697.013578   \n",
       "\n",
       "       primary_cleaner.state.floatbank8_b_level  \\\n",
       "11409                               -507.194532   \n",
       "5995                                -500.471497   \n",
       "8563                                -499.631697   \n",
       "3758                                -499.719589   \n",
       "17555                               -500.196540   \n",
       "\n",
       "       primary_cleaner.state.floatbank8_c_air  \\\n",
       "11409                             1490.114746   \n",
       "5995                              1602.353308   \n",
       "8563                              1699.380193   \n",
       "3758                              1299.917359   \n",
       "17555                             1703.456578   \n",
       "\n",
       "       primary_cleaner.state.floatbank8_c_level  \\\n",
       "11409                               -499.359371   \n",
       "5995                                -502.193574   \n",
       "8563                                -500.656737   \n",
       "3758                                -501.083385   \n",
       "17555                               -496.838336   \n",
       "\n",
       "       primary_cleaner.state.floatbank8_d_air  \\\n",
       "11409                             1550.585097   \n",
       "5995                              1599.885371   \n",
       "8563                              1699.511708   \n",
       "3758                              1298.558275   \n",
       "17555                             1698.638574   \n",
       "\n",
       "       primary_cleaner.state.floatbank8_d_level  \\\n",
       "11409                               -498.538865   \n",
       "5995                                -499.238058   \n",
       "8563                                -497.391700   \n",
       "3758                                -500.174772   \n",
       "17555                               -500.828611   \n",
       "\n",
       "       primary_cleaner.output.concentrate_au  \\\n",
       "11409                              30.107012   \n",
       "5995                               33.567645   \n",
       "8563                               31.888348   \n",
       "3758                               38.532924   \n",
       "17555                              27.931564   \n",
       "\n",
       "       primary_cleaner.output.concentrate_ag  \\\n",
       "11409                              10.953651   \n",
       "5995                                9.188352   \n",
       "8563                                8.876370   \n",
       "3758                                7.392250   \n",
       "17555                              10.711203   \n",
       "\n",
       "       primary_cleaner.output.concentrate_pb  \\\n",
       "11409                              12.845215   \n",
       "5995                                9.997443   \n",
       "8563                               10.605469   \n",
       "3758                               10.536557   \n",
       "17555                              10.412589   \n",
       "\n",
       "       primary_cleaner.output.concentrate_sol  primary_cleaner.output.tail_au  \\\n",
       "11409                               17.667037                        7.773899   \n",
       "5995                                12.575046                        3.040811   \n",
       "8563                                 9.035383                        2.994234   \n",
       "3758                                13.520445                        7.055153   \n",
       "17555                               11.951617                        4.423020   \n",
       "\n",
       "       primary_cleaner.output.tail_ag  primary_cleaner.output.tail_pb  \\\n",
       "11409                       20.732992                        6.467104   \n",
       "5995                        18.002804                        3.506553   \n",
       "8563                        12.716922                        1.666370   \n",
       "3758                        16.381317                        3.566341   \n",
       "17555                       16.266055                        3.297122   \n",
       "\n",
       "       primary_cleaner.output.tail_sol  \\\n",
       "11409                         9.469695   \n",
       "5995                          7.455076   \n",
       "8563                          7.736377   \n",
       "3758                          9.627772   \n",
       "17555                         8.670673   \n",
       "\n",
       "       secondary_cleaner.state.floatbank2_a_air  \\\n",
       "11409                                 21.997189   \n",
       "5995                                  29.973186   \n",
       "8563                                  34.902374   \n",
       "3758                                  22.053549   \n",
       "17555                                 35.016126   \n",
       "\n",
       "       secondary_cleaner.state.floatbank2_a_level  \\\n",
       "11409                                 -499.383837   \n",
       "5995                                  -500.519984   \n",
       "8563                                  -500.113840   \n",
       "3758                                  -500.432799   \n",
       "17555                                 -499.692330   \n",
       "\n",
       "       secondary_cleaner.state.floatbank2_b_air  \\\n",
       "11409                                 19.942257   \n",
       "5995                                  28.066066   \n",
       "8563                                  26.887727   \n",
       "3758                                  12.111491   \n",
       "17555                                 32.020361   \n",
       "\n",
       "       secondary_cleaner.state.floatbank2_b_level  \\\n",
       "11409                                 -500.123569   \n",
       "5995                                  -500.263029   \n",
       "8563                                  -499.980293   \n",
       "3758                                  -500.201408   \n",
       "17555                                 -499.891862   \n",
       "\n",
       "       secondary_cleaner.state.floatbank3_a_air  \\\n",
       "11409                                 24.978981   \n",
       "5995                                  34.983923   \n",
       "8563                                  24.956628   \n",
       "3758                                  12.029589   \n",
       "17555                                 35.013015   \n",
       "\n",
       "       secondary_cleaner.state.floatbank3_a_level  \\\n",
       "11409                                 -500.080889   \n",
       "5995                                  -500.835074   \n",
       "8563                                  -500.273493   \n",
       "3758                                  -499.992472   \n",
       "17555                                 -400.742756   \n",
       "\n",
       "       secondary_cleaner.state.floatbank3_b_air  \\\n",
       "11409                                 17.977660   \n",
       "5995                                  22.006523   \n",
       "8563                                  20.007408   \n",
       "3758                                   7.957094   \n",
       "17555                                 25.978861   \n",
       "\n",
       "       secondary_cleaner.state.floatbank3_b_level  \\\n",
       "11409                                 -500.104618   \n",
       "5995                                  -500.362040   \n",
       "8563                                  -500.245919   \n",
       "3758                                  -600.248543   \n",
       "17555                                 -500.149078   \n",
       "\n",
       "       secondary_cleaner.state.floatbank4_a_air  \\\n",
       "11409                              1.079872e-16   \n",
       "5995                               2.101374e+01   \n",
       "8563                               1.797494e+01   \n",
       "3758                               7.946828e+00   \n",
       "17555                              2.495286e+01   \n",
       "\n",
       "       secondary_cleaner.state.floatbank4_a_level  \\\n",
       "11409                                 -799.704829   \n",
       "5995                                  -502.946783   \n",
       "8563                                  -500.099723   \n",
       "3758                                  -500.289245   \n",
       "17555                                 -400.897581   \n",
       "\n",
       "       secondary_cleaner.state.floatbank4_b_air  \\\n",
       "11409                              2.489718e-17   \n",
       "5995                               2.104204e+01   \n",
       "8563                               1.309064e+01   \n",
       "3758                               4.905670e+00   \n",
       "17555                              2.295409e+01   \n",
       "\n",
       "       secondary_cleaner.state.floatbank4_b_level  \\\n",
       "11409                                 -799.852978   \n",
       "5995                                  -500.612633   \n",
       "8563                                  -380.535091   \n",
       "3758                                  -600.219201   \n",
       "17555                                 -400.436468   \n",
       "\n",
       "       secondary_cleaner.state.floatbank5_a_air  \\\n",
       "11409                                 11.054884   \n",
       "5995                                  22.977677   \n",
       "8563                                  17.995597   \n",
       "3758                                   8.076082   \n",
       "17555                                 23.005186   \n",
       "\n",
       "       secondary_cleaner.state.floatbank5_a_level  \\\n",
       "11409                                 -497.642993   \n",
       "5995                                  -501.490438   \n",
       "8563                                  -500.383628   \n",
       "3758                                  -600.815266   \n",
       "17555                                 -450.976735   \n",
       "\n",
       "       secondary_cleaner.state.floatbank5_b_air  \\\n",
       "11409                                  7.277496   \n",
       "5995                                  19.998657   \n",
       "8563                                  12.995019   \n",
       "3758                                   2.996449   \n",
       "17555                                 20.005350   \n",
       "\n",
       "       secondary_cleaner.state.floatbank5_b_level  \\\n",
       "11409                                 -499.897722   \n",
       "5995                                  -500.006330   \n",
       "8563                                  -500.147785   \n",
       "3758                                  -599.282813   \n",
       "17555                                 -449.902655   \n",
       "\n",
       "       secondary_cleaner.state.floatbank6_a_air  \\\n",
       "11409                                 12.012010   \n",
       "5995                                  25.017220   \n",
       "8563                                  14.997846   \n",
       "3758                                  20.031787   \n",
       "17555                                 24.989305   \n",
       "\n",
       "       secondary_cleaner.state.floatbank6_a_level  \\\n",
       "11409                                 -499.181272   \n",
       "5995                                  -600.319985   \n",
       "8563                                  -499.833560   \n",
       "3758                                  -599.999953   \n",
       "17555                                 -500.355412   \n",
       "\n",
       "       secondary_cleaner.output.tail_au  secondary_cleaner.output.tail_ag  \\\n",
       "11409                         20.163214                         15.807652   \n",
       "5995                           2.933019                         16.792774   \n",
       "8563                           3.945921                         16.626952   \n",
       "3758                           5.187632                         16.051525   \n",
       "17555                          3.047597                         16.524690   \n",
       "\n",
       "       secondary_cleaner.output.tail_pb  secondary_cleaner.output.tail_sol  \\\n",
       "11409                         10.405020                          10.607722   \n",
       "5995                           3.539348                           9.754457   \n",
       "8563                           6.569786                           2.297306   \n",
       "3758                           4.095743                          11.302165   \n",
       "17555                          4.048069                          12.723056   \n",
       "\n",
       "       final.output.concentrate_au  final.output.concentrate_ag  \\\n",
       "11409                    38.791118                     6.276844   \n",
       "5995                     46.001396                     4.898956   \n",
       "8563                     43.260791                     5.418847   \n",
       "3758                     48.674447                     4.374817   \n",
       "17555                    40.814044                     7.668286   \n",
       "\n",
       "       final.output.concentrate_pb  final.output.concentrate_sol  \\\n",
       "11409                     9.075987                      8.890785   \n",
       "5995                      8.815221                     14.237945   \n",
       "8563                     11.015527                      7.883064   \n",
       "3758                      7.813549                     10.543967   \n",
       "17555                    10.802487                     14.385434   \n",
       "\n",
       "       final.output.recovery  final.output.tail_au  final.output.tail_ag  \\\n",
       "11409              47.471002              7.297109             13.499516   \n",
       "5995               74.993930              2.864417             10.825226   \n",
       "8563               62.825203              2.583642              7.449588   \n",
       "3758               59.538536              4.918531             12.379183   \n",
       "17555              75.425579              3.549859             12.671712   \n",
       "\n",
       "       final.output.tail_pb  final.output.tail_sol  \n",
       "11409              4.798724              13.576696  \n",
       "5995               2.647699              10.043155  \n",
       "8563               2.538897              10.441729  \n",
       "3758               3.689785               9.986559  \n",
       "17555              3.899074               8.623619  "
      ]
     },
     "metadata": {},
     "output_type": "display_data"
    },
    {
     "name": "stdout",
     "output_type": "stream",
     "text": [
      "<class 'pandas.core.frame.DataFrame'>\n",
      "RangeIndex: 19439 entries, 0 to 19438\n",
      "Data columns (total 87 columns):\n",
      " #   Column                                              Non-Null Count  Dtype  \n",
      "---  ------                                              --------------  -----  \n",
      " 0   date                                                19439 non-null  object \n",
      " 1   rougher.input.feed_au                               19439 non-null  float64\n",
      " 2   rougher.input.feed_ag                               19439 non-null  float64\n",
      " 3   rougher.input.feed_pb                               19339 non-null  float64\n",
      " 4   rougher.input.feed_sol                              19340 non-null  float64\n",
      " 5   rougher.input.feed_rate                             19428 non-null  float64\n",
      " 6   rougher.input.feed_size                             19294 non-null  float64\n",
      " 7   rougher.input.floatbank10_sulfate                   19405 non-null  float64\n",
      " 8   rougher.input.floatbank10_xanthate                  19431 non-null  float64\n",
      " 9   rougher.state.floatbank10_a_air                     19438 non-null  float64\n",
      " 10  rougher.state.floatbank10_a_level                   19438 non-null  float64\n",
      " 11  rougher.state.floatbank10_b_air                     19438 non-null  float64\n",
      " 12  rougher.state.floatbank10_b_level                   19438 non-null  float64\n",
      " 13  rougher.state.floatbank10_c_air                     19438 non-null  float64\n",
      " 14  rougher.state.floatbank10_c_level                   19438 non-null  float64\n",
      " 15  rougher.state.floatbank10_d_air                     19439 non-null  float64\n",
      " 16  rougher.state.floatbank10_d_level                   19439 non-null  float64\n",
      " 17  rougher.state.floatbank10_e_air                     19003 non-null  float64\n",
      " 18  rougher.state.floatbank10_e_level                   19439 non-null  float64\n",
      " 19  rougher.state.floatbank10_f_air                     19439 non-null  float64\n",
      " 20  rougher.state.floatbank10_f_level                   19439 non-null  float64\n",
      " 21  rougher.input.floatbank11_sulfate                   19395 non-null  float64\n",
      " 22  rougher.input.floatbank11_xanthate                  18986 non-null  float64\n",
      " 23  rougher.calculation.sulfate_to_au_concentrate       19437 non-null  float64\n",
      " 24  rougher.calculation.floatbank10_sulfate_to_au_feed  19437 non-null  float64\n",
      " 25  rougher.calculation.floatbank11_sulfate_to_au_feed  19437 non-null  float64\n",
      " 26  rougher.calculation.au_pb_ratio                     19439 non-null  float64\n",
      " 27  rougher.output.concentrate_au                       19439 non-null  float64\n",
      " 28  rougher.output.concentrate_ag                       19439 non-null  float64\n",
      " 29  rougher.output.concentrate_pb                       19439 non-null  float64\n",
      " 30  rougher.output.concentrate_sol                      19416 non-null  float64\n",
      " 31  rougher.output.recovery                             19439 non-null  float64\n",
      " 32  rougher.output.tail_au                              19439 non-null  float64\n",
      " 33  rougher.output.tail_ag                              19438 non-null  float64\n",
      " 34  rougher.output.tail_pb                              19439 non-null  float64\n",
      " 35  rougher.output.tail_sol                             19439 non-null  float64\n",
      " 36  primary_cleaner.input.sulfate                       19415 non-null  float64\n",
      " 37  primary_cleaner.input.depressant                    19402 non-null  float64\n",
      " 38  primary_cleaner.input.feed_size                     19439 non-null  float64\n",
      " 39  primary_cleaner.input.xanthate                      19335 non-null  float64\n",
      " 40  primary_cleaner.state.floatbank8_a_air              19435 non-null  float64\n",
      " 41  primary_cleaner.state.floatbank8_a_level            19438 non-null  float64\n",
      " 42  primary_cleaner.state.floatbank8_b_air              19435 non-null  float64\n",
      " 43  primary_cleaner.state.floatbank8_b_level            19438 non-null  float64\n",
      " 44  primary_cleaner.state.floatbank8_c_air              19437 non-null  float64\n",
      " 45  primary_cleaner.state.floatbank8_c_level            19438 non-null  float64\n",
      " 46  primary_cleaner.state.floatbank8_d_air              19436 non-null  float64\n",
      " 47  primary_cleaner.state.floatbank8_d_level            19438 non-null  float64\n",
      " 48  primary_cleaner.output.concentrate_au               19439 non-null  float64\n",
      " 49  primary_cleaner.output.concentrate_ag               19439 non-null  float64\n",
      " 50  primary_cleaner.output.concentrate_pb               19323 non-null  float64\n",
      " 51  primary_cleaner.output.concentrate_sol              19069 non-null  float64\n",
      " 52  primary_cleaner.output.tail_au                      19439 non-null  float64\n",
      " 53  primary_cleaner.output.tail_ag                      19435 non-null  float64\n",
      " 54  primary_cleaner.output.tail_pb                      19418 non-null  float64\n",
      " 55  primary_cleaner.output.tail_sol                     19377 non-null  float64\n",
      " 56  secondary_cleaner.state.floatbank2_a_air            19219 non-null  float64\n",
      " 57  secondary_cleaner.state.floatbank2_a_level          19438 non-null  float64\n",
      " 58  secondary_cleaner.state.floatbank2_b_air            19416 non-null  float64\n",
      " 59  secondary_cleaner.state.floatbank2_b_level          19438 non-null  float64\n",
      " 60  secondary_cleaner.state.floatbank3_a_air            19426 non-null  float64\n",
      " 61  secondary_cleaner.state.floatbank3_a_level          19438 non-null  float64\n",
      " 62  secondary_cleaner.state.floatbank3_b_air            19438 non-null  float64\n",
      " 63  secondary_cleaner.state.floatbank3_b_level          19438 non-null  float64\n",
      " 64  secondary_cleaner.state.floatbank4_a_air            19433 non-null  float64\n",
      " 65  secondary_cleaner.state.floatbank4_a_level          19438 non-null  float64\n",
      " 66  secondary_cleaner.state.floatbank4_b_air            19438 non-null  float64\n",
      " 67  secondary_cleaner.state.floatbank4_b_level          19438 non-null  float64\n",
      " 68  secondary_cleaner.state.floatbank5_a_air            19438 non-null  float64\n",
      " 69  secondary_cleaner.state.floatbank5_a_level          19438 non-null  float64\n",
      " 70  secondary_cleaner.state.floatbank5_b_air            19438 non-null  float64\n",
      " 71  secondary_cleaner.state.floatbank5_b_level          19438 non-null  float64\n",
      " 72  secondary_cleaner.state.floatbank6_a_air            19437 non-null  float64\n",
      " 73  secondary_cleaner.state.floatbank6_a_level          19438 non-null  float64\n",
      " 74  secondary_cleaner.output.tail_au                    19439 non-null  float64\n",
      " 75  secondary_cleaner.output.tail_ag                    19437 non-null  float64\n",
      " 76  secondary_cleaner.output.tail_pb                    19427 non-null  float64\n",
      " 77  secondary_cleaner.output.tail_sol                   17691 non-null  float64\n",
      " 78  final.output.concentrate_au                         19439 non-null  float64\n",
      " 79  final.output.concentrate_ag                         19438 non-null  float64\n",
      " 80  final.output.concentrate_pb                         19438 non-null  float64\n",
      " 81  final.output.concentrate_sol                        19228 non-null  float64\n",
      " 82  final.output.recovery                               19439 non-null  float64\n",
      " 83  final.output.tail_au                                19439 non-null  float64\n",
      " 84  final.output.tail_ag                                19438 non-null  float64\n",
      " 85  final.output.tail_pb                                19338 non-null  float64\n",
      " 86  final.output.tail_sol                               19433 non-null  float64\n",
      "dtypes: float64(86), object(1)\n",
      "memory usage: 12.9+ MB\n"
     ]
    }
   ],
   "source": [
    "display(data_full.sample(5))\n",
    "data_full.info()"
   ]
  },
  {
   "cell_type": "code",
   "execution_count": 6,
   "metadata": {},
   "outputs": [
    {
     "name": "stdout",
     "output_type": "stream",
     "text": [
      "Размер датасета (19439, 87)\n",
      "Размер тренировочной выборки (14579, 87)\n",
      "Размер тестовой выборки (4860, 53)\n"
     ]
    }
   ],
   "source": [
    "print('Размер датасета', data_full.shape)\n",
    "print('Размер тренировочной выборки', data_train.shape)\n",
    "print('Размер тестовой выборки', data_test.shape)"
   ]
  },
  {
   "cell_type": "markdown",
   "metadata": {},
   "source": [
    "У нас в распоряжении 19439 строк и 87 столбцов, включающих признаки и два таргета: <br>\n",
    "1) *rougher.output.recovery* - эффективность обогащения чернового концентрата; <br>\n",
    "2) *final.output.recovery* - эффективность обогащения финального концентрата. <br>\n",
    "Можно заметить, что за нас уже разделили выборки на тестовую и тренировочную. Количество столбцов в них отличается, чуть позже мы подробнее разберем этот момент."
   ]
  },
  {
   "cell_type": "markdown",
   "metadata": {},
   "source": [
    "### Проверка правильности данных эффективности обогащения"
   ]
  },
  {
   "cell_type": "markdown",
   "metadata": {},
   "source": [
    "Проверим, правильно ли рассчитана эффективность обогащения. Для этого напишем функцию, рассчитывающая эффективность и сравним получившиеся значения со значениями в данных."
   ]
  },
  {
   "cell_type": "code",
   "execution_count": 7,
   "metadata": {},
   "outputs": [],
   "source": [
    "our_series = data_test['date']  # сохраняем индексы тренировочной выборки"
   ]
  },
  {
   "cell_type": "markdown",
   "metadata": {},
   "source": [
    "Так как индексы в каждом датафрейме начинаются с единицы, в роли индексов выступает столбец *date*."
   ]
  },
  {
   "cell_type": "code",
   "execution_count": 8,
   "metadata": {},
   "outputs": [],
   "source": [
    "def recovery_calc(row): # Функция расчета восстановления золота\n",
    "    # Числитель\n",
    "    numerator = row['rougher.output.concentrate_au'] * (row['rougher.input.feed_au'] - row['rougher.output.tail_au'])\n",
    "    # Знаменатель\n",
    "    denominator = row['rougher.input.feed_au'] * (row['rougher.output.concentrate_au'] - row['rougher.output.tail_au'])\n",
    "    return numerator / denominator * 100"
   ]
  },
  {
   "cell_type": "code",
   "execution_count": 9,
   "metadata": {},
   "outputs": [],
   "source": [
    "recovery_calculated = pd.Series([ recovery_calc(row) for i, row in data_full.query('date in @our_series').iterrows() ])"
   ]
  },
  {
   "cell_type": "code",
   "execution_count": 10,
   "metadata": {},
   "outputs": [
    {
     "name": "stdout",
     "output_type": "stream",
     "text": [
      "MAE для rougher.output.recovery: 9.971721665127085e-15\n"
     ]
    }
   ],
   "source": [
    "recovery_abs_difference = abs(\n",
    "    recovery_calculated.subtract(data_full.query('date in @our_series')['rougher.output.recovery'].reset_index(drop=True)))\n",
    "recovery_mae = sum(recovery_abs_difference) / len(recovery_calculated)\n",
    "print(f'MAE для rougher.output.recovery: {recovery_mae}')"
   ]
  },
  {
   "cell_type": "markdown",
   "metadata": {},
   "source": [
    "Эффективность обогащения рассчитана верно. Идем дальше."
   ]
  },
  {
   "cell_type": "markdown",
   "metadata": {},
   "source": [
    "### Анализ отсутствующих признаков"
   ]
  },
  {
   "cell_type": "markdown",
   "metadata": {},
   "source": [
    "Количество столбцов в тренировочной выборке и тестовой отличается. Посмотрим, что за этим стоит, а также проведем проверку на дубликаты и отсутствующие значения."
   ]
  },
  {
   "cell_type": "code",
   "execution_count": 11,
   "metadata": {},
   "outputs": [],
   "source": [
    "mis_features = list(set(data_full.columns)-set(data_test.columns)) # создаем список отсутствующих в тестовой выборке столбцов"
   ]
  },
  {
   "cell_type": "code",
   "execution_count": 12,
   "metadata": {
    "scrolled": true
   },
   "outputs": [
    {
     "name": "stdout",
     "output_type": "stream",
     "text": [
      "Количество отсутствующих признаков: 34\n"
     ]
    },
    {
     "data": {
      "text/plain": [
       "['final.output.concentrate_ag',\n",
       " 'final.output.concentrate_au',\n",
       " 'final.output.concentrate_pb',\n",
       " 'final.output.concentrate_sol',\n",
       " 'final.output.recovery',\n",
       " 'final.output.tail_ag',\n",
       " 'final.output.tail_au',\n",
       " 'final.output.tail_pb',\n",
       " 'final.output.tail_sol',\n",
       " 'primary_cleaner.output.concentrate_ag',\n",
       " 'primary_cleaner.output.concentrate_au',\n",
       " 'primary_cleaner.output.concentrate_pb',\n",
       " 'primary_cleaner.output.concentrate_sol',\n",
       " 'primary_cleaner.output.tail_ag',\n",
       " 'primary_cleaner.output.tail_au',\n",
       " 'primary_cleaner.output.tail_pb',\n",
       " 'primary_cleaner.output.tail_sol',\n",
       " 'rougher.calculation.au_pb_ratio',\n",
       " 'rougher.calculation.floatbank10_sulfate_to_au_feed',\n",
       " 'rougher.calculation.floatbank11_sulfate_to_au_feed',\n",
       " 'rougher.calculation.sulfate_to_au_concentrate',\n",
       " 'rougher.output.concentrate_ag',\n",
       " 'rougher.output.concentrate_au',\n",
       " 'rougher.output.concentrate_pb',\n",
       " 'rougher.output.concentrate_sol',\n",
       " 'rougher.output.recovery',\n",
       " 'rougher.output.tail_ag',\n",
       " 'rougher.output.tail_au',\n",
       " 'rougher.output.tail_pb',\n",
       " 'rougher.output.tail_sol',\n",
       " 'secondary_cleaner.output.tail_ag',\n",
       " 'secondary_cleaner.output.tail_au',\n",
       " 'secondary_cleaner.output.tail_pb',\n",
       " 'secondary_cleaner.output.tail_sol']"
      ]
     },
     "execution_count": 12,
     "metadata": {},
     "output_type": "execute_result"
    }
   ],
   "source": [
    "print('Количество отсутствующих признаков:', len(mis_features))\n",
    "sorted(mis_features)"
   ]
  },
  {
   "cell_type": "markdown",
   "metadata": {},
   "source": [
    "В тестовой выборке отсутствуют целевые столбцы: *rougher.output.recovery*, *final.output.recovery*, а также еще 32 столбца признаков. Среди них расчетные *calculation* и выходные *output*, которые вычисляются после выполнения технологического процесса, но ни как не в ходе выполнения самого процесса."
   ]
  },
  {
   "cell_type": "markdown",
   "metadata": {},
   "source": [
    "Теперь рассмотрим пустые значения в тренировочной и тестовой выборках."
   ]
  },
  {
   "cell_type": "code",
   "execution_count": 13,
   "metadata": {
    "scrolled": true
   },
   "outputs": [
    {
     "data": {
      "text/plain": [
       "secondary_cleaner.state.floatbank2_a_air      126\n",
       "rougher.input.floatbank11_xanthate             46\n",
       "rougher.input.feed_size                        44\n",
       "primary_cleaner.input.xanthate                 43\n",
       "rougher.input.feed_pb                          28\n",
       "rougher.input.feed_sol                         22\n",
       "primary_cleaner.input.depressant                9\n",
       "rougher.input.floatbank11_sulfate               8\n",
       "rougher.state.floatbank10_e_air                 7\n",
       "rougher.input.feed_rate                         4\n",
       "rougher.input.floatbank10_sulfate               3\n",
       "primary_cleaner.state.floatbank8_d_air          2\n",
       "primary_cleaner.state.floatbank8_c_air          2\n",
       "primary_cleaner.state.floatbank8_d_level        1\n",
       "secondary_cleaner.state.floatbank3_a_level      1\n",
       "secondary_cleaner.state.floatbank2_a_level      1\n",
       "secondary_cleaner.state.floatbank2_b_air        1\n",
       "secondary_cleaner.state.floatbank2_b_level      1\n",
       "secondary_cleaner.state.floatbank3_a_air        1\n",
       "secondary_cleaner.state.floatbank4_a_air        1\n",
       "secondary_cleaner.state.floatbank3_b_air        1\n",
       "secondary_cleaner.state.floatbank3_b_level      1\n",
       "secondary_cleaner.state.floatbank4_a_level      1\n",
       "secondary_cleaner.state.floatbank4_b_air        1\n",
       "secondary_cleaner.state.floatbank4_b_level      1\n",
       "secondary_cleaner.state.floatbank5_a_air        1\n",
       "secondary_cleaner.state.floatbank5_a_level      1\n",
       "secondary_cleaner.state.floatbank5_b_air        1\n",
       "secondary_cleaner.state.floatbank5_b_level      1\n",
       "secondary_cleaner.state.floatbank6_a_air        1\n",
       "primary_cleaner.state.floatbank8_c_level        1\n",
       "secondary_cleaner.state.floatbank6_a_level      1\n",
       "primary_cleaner.state.floatbank8_b_level        1\n",
       "rougher.state.floatbank10_c_air                 1\n",
       "primary_cleaner.state.floatbank8_a_level        1\n",
       "primary_cleaner.state.floatbank8_a_air          1\n",
       "rougher.input.floatbank10_xanthate              1\n",
       "primary_cleaner.input.sulfate                   1\n",
       "rougher.state.floatbank10_a_air                 1\n",
       "rougher.state.floatbank10_a_level               1\n",
       "rougher.state.floatbank10_b_air                 1\n",
       "primary_cleaner.state.floatbank8_b_air          1\n",
       "rougher.state.floatbank10_b_level               1\n",
       "rougher.state.floatbank10_c_level               1\n",
       "dtype: int64"
      ]
     },
     "execution_count": 13,
     "metadata": {},
     "output_type": "execute_result"
    }
   ],
   "source": [
    "nulls_test = data_test.isna().sum().sort_values(ascending=False)\n",
    "nulls_test.loc[nulls_test > 0]"
   ]
  },
  {
   "cell_type": "markdown",
   "metadata": {},
   "source": [
    "Отсутствующих значений не так много, и их можно удалить из тестовой выборки."
   ]
  },
  {
   "cell_type": "code",
   "execution_count": 14,
   "metadata": {},
   "outputs": [],
   "source": [
    "data_test = data_test.dropna(axis=0)"
   ]
  },
  {
   "cell_type": "markdown",
   "metadata": {},
   "source": [
    "Перейдем к тренировочной выборке."
   ]
  },
  {
   "cell_type": "code",
   "execution_count": 15,
   "metadata": {},
   "outputs": [
    {
     "data": {
      "text/plain": [
       "secondary_cleaner.output.tail_sol           920\n",
       "rougher.state.floatbank10_e_air             429\n",
       "rougher.input.floatbank11_xanthate          407\n",
       "primary_cleaner.output.concentrate_sol      265\n",
       "final.output.concentrate_sol                192\n",
       "                                           ... \n",
       "primary_cleaner.state.floatbank8_c_air        0\n",
       "primary_cleaner.state.floatbank8_c_level      0\n",
       "primary_cleaner.state.floatbank8_d_level      0\n",
       "primary_cleaner.output.concentrate_au         0\n",
       "primary_cleaner.state.floatbank8_b_level      0\n",
       "Length: 87, dtype: int64"
      ]
     },
     "execution_count": 15,
     "metadata": {},
     "output_type": "execute_result"
    }
   ],
   "source": [
    "nulls_train = data_train.isna().sum().sort_values(ascending=False)\n",
    "#nulls_train.loc[nulls_train > 10]\n",
    "nulls_train"
   ]
  },
  {
   "cell_type": "code",
   "execution_count": 16,
   "metadata": {},
   "outputs": [
    {
     "data": {
      "text/plain": [
       "3050"
      ]
     },
     "execution_count": 16,
     "metadata": {},
     "output_type": "execute_result"
    }
   ],
   "source": [
    "nulls_train.sum()"
   ]
  },
  {
   "cell_type": "markdown",
   "metadata": {},
   "source": [
    "С тренировочной выборкой ситуация немного другая. Отсутствующих значений больше 4 тысяч, а это около 30 % датасета. Сделаем так: если в столбце отсутствует меньше 10 значений, удалим их. Если больше - заполним предыдущим значением в столбце. Этот метод называется *Last observation carried forward* (*LOCF*), и он здесь уместен, так как в качестве индекса исползуется время, и близкие по времени (а значит и по индексу) значения похожи."
   ]
  },
  {
   "cell_type": "code",
   "execution_count": 17,
   "metadata": {},
   "outputs": [],
   "source": [
    "for column in nulls_train.loc[nulls_train > 10].index:\n",
    "    data_train[column] = data_train[column].fillna(method='ffill')"
   ]
  },
  {
   "cell_type": "code",
   "execution_count": 18,
   "metadata": {},
   "outputs": [],
   "source": [
    "data_train = data_train.dropna(axis=0)"
   ]
  },
  {
   "cell_type": "code",
   "execution_count": 19,
   "metadata": {},
   "outputs": [
    {
     "data": {
      "text/plain": [
       "0"
      ]
     },
     "execution_count": 19,
     "metadata": {},
     "output_type": "execute_result"
    }
   ],
   "source": [
    "data_train.isna().sum().sum()"
   ]
  },
  {
   "cell_type": "code",
   "execution_count": 20,
   "metadata": {},
   "outputs": [],
   "source": [
    "data_test = data_test.dropna(axis=0)"
   ]
  },
  {
   "cell_type": "code",
   "execution_count": 21,
   "metadata": {},
   "outputs": [
    {
     "name": "stdout",
     "output_type": "stream",
     "text": [
      "0\n",
      "0\n"
     ]
    }
   ],
   "source": [
    "print(data_train.duplicated().sum())\n",
    "print(data_test.duplicated().sum())"
   ]
  },
  {
   "cell_type": "markdown",
   "metadata": {},
   "source": [
    "## Анализ данных"
   ]
  },
  {
   "cell_type": "markdown",
   "metadata": {},
   "source": [
    "В этом разделе мы будем анализировать данные: посмотрим на концентрации различных веществ по стадиям очистки и сравним распределения размеров гранул сырья."
   ]
  },
  {
   "cell_type": "markdown",
   "metadata": {},
   "source": [
    "### Концентрация Au, Ag и Pb на различных этапах очистки"
   ]
  },
  {
   "cell_type": "code",
   "execution_count": 22,
   "metadata": {},
   "outputs": [],
   "source": [
    "concentration = pd.DataFrame(columns=['element', 'stage', 'concentration']) # создаем датафрейм, в который занесем концентрации"
   ]
  },
  {
   "cell_type": "code",
   "execution_count": 23,
   "metadata": {},
   "outputs": [],
   "source": [
    "ag0 = ['ag', 'input', data_full['rougher.input.feed_ag'].mean()]\n",
    "ag1 = ['ag', 'rougher', data_full['rougher.output.concentrate_ag'].mean()]\n",
    "ag2 = ['ag', 'primary', data_full['primary_cleaner.output.concentrate_ag'].mean()]\n",
    "ag3 = ['ag', 'secondary', data_full['final.output.concentrate_ag'].mean()]"
   ]
  },
  {
   "cell_type": "code",
   "execution_count": 24,
   "metadata": {},
   "outputs": [],
   "source": [
    "pb0 = ['pb', 'input', data_full['rougher.input.feed_pb'].mean()]\n",
    "pb1 = ['pb', 'rougher', data_full['rougher.output.concentrate_pb'].mean()]\n",
    "pb2 = ['pb', 'primary', data_full['primary_cleaner.output.concentrate_pb'].mean()]\n",
    "pb3 = ['pb', 'secondary', data_full['final.output.concentrate_pb'].mean()]"
   ]
  },
  {
   "cell_type": "code",
   "execution_count": 25,
   "metadata": {},
   "outputs": [],
   "source": [
    "au0 = ['au', 'input', data_full['rougher.input.feed_au'].mean()]\n",
    "au1 = ['au', 'rougher', data_full['rougher.output.concentrate_au'].mean()]\n",
    "au2 = ['au', 'primary', data_full['primary_cleaner.output.concentrate_au'].mean()]\n",
    "au3 = ['au', 'secondary', data_full['final.output.concentrate_au'].mean()]"
   ]
  },
  {
   "cell_type": "code",
   "execution_count": 26,
   "metadata": {},
   "outputs": [],
   "source": [
    "concentration.loc[0] = ag0\n",
    "concentration.loc[1] = ag1\n",
    "concentration.loc[2] = ag2\n",
    "concentration.loc[3] = ag3\n",
    "\n",
    "concentration.loc[4] = pb0\n",
    "concentration.loc[5] = pb1\n",
    "concentration.loc[6] = pb2\n",
    "concentration.loc[7] = pb3\n",
    "\n",
    "concentration.loc[8] = au0\n",
    "concentration.loc[9] = au1\n",
    "concentration.loc[10] = au2\n",
    "concentration.loc[11] = au3"
   ]
  },
  {
   "cell_type": "code",
   "execution_count": 27,
   "metadata": {},
   "outputs": [
    {
     "data": {
      "text/html": [
       "<div>\n",
       "<style scoped>\n",
       "    .dataframe tbody tr th:only-of-type {\n",
       "        vertical-align: middle;\n",
       "    }\n",
       "\n",
       "    .dataframe tbody tr th {\n",
       "        vertical-align: top;\n",
       "    }\n",
       "\n",
       "    .dataframe thead th {\n",
       "        text-align: right;\n",
       "    }\n",
       "</style>\n",
       "<table border=\"1\" class=\"dataframe\">\n",
       "  <thead>\n",
       "    <tr style=\"text-align: right;\">\n",
       "      <th></th>\n",
       "      <th>element</th>\n",
       "      <th>stage</th>\n",
       "      <th>concentration</th>\n",
       "    </tr>\n",
       "  </thead>\n",
       "  <tbody>\n",
       "    <tr>\n",
       "      <th>0</th>\n",
       "      <td>ag</td>\n",
       "      <td>input</td>\n",
       "      <td>8.794927</td>\n",
       "    </tr>\n",
       "    <tr>\n",
       "      <th>1</th>\n",
       "      <td>ag</td>\n",
       "      <td>rougher</td>\n",
       "      <td>11.994759</td>\n",
       "    </tr>\n",
       "    <tr>\n",
       "      <th>2</th>\n",
       "      <td>ag</td>\n",
       "      <td>primary</td>\n",
       "      <td>8.442408</td>\n",
       "    </tr>\n",
       "    <tr>\n",
       "      <th>3</th>\n",
       "      <td>ag</td>\n",
       "      <td>secondary</td>\n",
       "      <td>5.168470</td>\n",
       "    </tr>\n",
       "    <tr>\n",
       "      <th>4</th>\n",
       "      <td>pb</td>\n",
       "      <td>input</td>\n",
       "      <td>3.598085</td>\n",
       "    </tr>\n",
       "  </tbody>\n",
       "</table>\n",
       "</div>"
      ],
      "text/plain": [
       "  element      stage  concentration\n",
       "0      ag      input       8.794927\n",
       "1      ag    rougher      11.994759\n",
       "2      ag    primary       8.442408\n",
       "3      ag  secondary       5.168470\n",
       "4      pb      input       3.598085"
      ]
     },
     "execution_count": 27,
     "metadata": {},
     "output_type": "execute_result"
    }
   ],
   "source": [
    "concentration.head()"
   ]
  },
  {
   "cell_type": "code",
   "execution_count": 28,
   "metadata": {},
   "outputs": [
    {
     "data": {
      "image/png": "[encoded data removed]",
      "text/plain": [
       "<Figure size 874.8x324 with 3 Axes>"
      ]
     },
     "metadata": {
      "needs_background": "light"
     },
     "output_type": "display_data"
    }
   ],
   "source": [
    "g = sns.catplot(\n",
    "    data=concentration, x='stage', y='concentration', col='element', kind='bar', height=4.5, aspect=.9\n",
    ")\n",
    "g.set_axis_labels('', 'Концентрация, %')\n",
    "g.set_titles('{col_name}')\n",
    "g.set(ylim=(0,50))\n",
    "\n",
    "ax = g.facet_axis(0, 0)\n",
    "\n",
    "for ax in g.axes.ravel():\n",
    "    for p in ax.patches:\n",
    "        ax.text(\n",
    "            p.get_x() + 0.05,\n",
    "            p.get_height() * 1.05,\n",
    "            '{0:.3f}'.format(p.get_height()),\n",
    "            color='black', rotation='horizontal',\n",
    "            size='large')\n",
    "\n",
    "plt.show()"
   ]
  },
  {
   "cell_type": "markdown",
   "metadata": {},
   "source": [
    "Итак, что мы видим на графиках: <br>\n",
    "1) **INPUT** - Содержание серебра на уровне 8.8%, свинца 3.6%, золота 8.3%. <br>\n",
    "2) **ROUGHER** - После черновой очистки содержание всех элементов выросло - серебро 12%, свинец 7.6% и золото 19.8%. <br>\n",
    "3) **FINAL** - В конце технологического процесса очистки золотой руды содержание элементов - серебро 5.2%, свинец 10%, золото 44.1%. <br>\n",
    "Судя по графикам, черновая очистка служит для повышения концентрации элементов и удаления шлака, а последующая - для увеличения концентрации золота."
   ]
  },
  {
   "cell_type": "markdown",
   "metadata": {},
   "source": [
    "### Распределение размеров гранул сырья на обучающей и тестовой выборках"
   ]
  },
  {
   "cell_type": "markdown",
   "metadata": {},
   "source": [
    "На этом этапе нам необходимо оценить распределение размеров гранул сырья в тренировочной и тестовой выборке - необходимо убедиться, что распределения не отличаются достаточно сильно."
   ]
  },
  {
   "cell_type": "code",
   "execution_count": 29,
   "metadata": {},
   "outputs": [],
   "source": [
    "feed_dist = pd.concat([pd.DataFrame(data={ 'feed_size' : data_train['rougher.input.feed_size'], 'data' : 'train' }),\n",
    "                      pd.DataFrame(data={ 'feed_size' : data_test['rougher.input.feed_size'], 'data' : 'test' })])"
   ]
  },
  {
   "cell_type": "code",
   "execution_count": 30,
   "metadata": {},
   "outputs": [
    {
     "data": {
      "image/png": "[encoded data removed]",
      "text/plain": [
       "<Figure size 864x576 with 1 Axes>"
      ]
     },
     "metadata": {},
     "output_type": "display_data"
    }
   ],
   "source": [
    "sns.set(rc={'figure.figsize':(12, 8)})\n",
    "fig, ax = plt.subplots()\n",
    "\n",
    "sns.distplot(data_train['rougher.input.feed_size'], hist = False, kde = True,\n",
    "            kde_kws = {'shade': True, 'linewidth': 3},\n",
    "                 label = 'train')\n",
    "\n",
    "sns.distplot(data_test['rougher.input.feed_size'], hist = False, kde = True,\n",
    "            kde_kws = {'shade': True, 'linewidth': 3},\n",
    "                 label = 'test')\n",
    "\n",
    "plt.legend(prop={'size': 16}, title = 'Выборки')\n",
    "plt.title('Распределение плотностей размера зерен')\n",
    "plt.xlabel('Размер зерна')\n",
    "plt.ylabel('Плотность')\n",
    "ax.set_xlim(0, 150)\n",
    "plt.show()"
   ]
  },
  {
   "cell_type": "markdown",
   "metadata": {},
   "source": [
    "Итак - формы распределений похожи, и пики расположены недалеко друг от друга. Можно принять, что распределения размера гранул на тестовой и тренировочной выборках равны. <br>"
   ]
  },
  {
   "cell_type": "markdown",
   "metadata": {},
   "source": [
    "### Суммарная концентрация веществ на разных стадиях"
   ]
  },
  {
   "cell_type": "markdown",
   "metadata": {},
   "source": [
    "Теперь рассмотрим суммарные концентрации веществ. А точнее распределения суммарных концентраций по стадиям технологического процесса."
   ]
  },
  {
   "cell_type": "code",
   "execution_count": 31,
   "metadata": {},
   "outputs": [],
   "source": [
    "spisok = [\n",
    "    'rougher.input.feed_sum',\n",
    "    'rougher.output.concentrate_sum',\n",
    "    'primary_cleaner.output.concentrate_sum',\n",
    "    'final.output.concentrate_sum'\n",
    "]\n",
    "\n",
    "for col in spisok:\n",
    "    data_full[col] = (data_full[col.replace('_sum', '_ag')]\n",
    "    + data_full[col.replace('_sum', '_pb')]\n",
    "    + data_full[col.replace('_sum', '_au')]\n",
    "    + data_full[col.replace('_sum', '_sol')]\n",
    "                )"
   ]
  },
  {
   "cell_type": "code",
   "execution_count": 32,
   "metadata": {},
   "outputs": [
    {
     "data": {
      "image/png": "[encoded data removed]",
      "text/plain": [
       "<Figure size 1080x432 with 1 Axes>"
      ]
     },
     "metadata": {},
     "output_type": "display_data"
    },
    {
     "data": {
      "image/png": "[encoded data removed]",
      "text/plain": [
       "<Figure size 1080x432 with 1 Axes>"
      ]
     },
     "metadata": {},
     "output_type": "display_data"
    },
    {
     "data": {
      "image/png": "[encoded data removed]",
      "text/plain": [
       "<Figure size 1080x432 with 1 Axes>"
      ]
     },
     "metadata": {},
     "output_type": "display_data"
    },
    {
     "data": {
      "image/png": "[encoded data removed]",
      "text/plain": [
       "<Figure size 1080x432 with 1 Axes>"
      ]
     },
     "metadata": {},
     "output_type": "display_data"
    }
   ],
   "source": [
    "sns.set(rc={'figure.figsize':(15, 6)})\n",
    "for col in spisok:\n",
    "    sns.histplot(data=data_full, x=col)\n",
    "    plt.ylabel('Количество наблюдений')\n",
    "    plt.show()"
   ]
  },
  {
   "cell_type": "markdown",
   "metadata": {},
   "source": [
    "Как мы видим, на каждом этапе присутствуют значения с концентрацией, равной нулю. Их стоит удалить."
   ]
  },
  {
   "cell_type": "code",
   "execution_count": 33,
   "metadata": {},
   "outputs": [],
   "source": [
    "for col in spisok:\n",
    "    data_full = data_full[data_full[col] > 0]"
   ]
  },
  {
   "cell_type": "markdown",
   "metadata": {},
   "source": [
    "После удаления следует обновить тренировочную и тестовую выборки."
   ]
  },
  {
   "cell_type": "code",
   "execution_count": 34,
   "metadata": {},
   "outputs": [],
   "source": [
    "data_train = data_train.set_index('date')\n",
    "data_full = data_full.set_index('date')\n",
    "data_train = data_train.loc[data_train.index.isin(data_full.index)]"
   ]
  },
  {
   "cell_type": "code",
   "execution_count": 35,
   "metadata": {},
   "outputs": [],
   "source": [
    "data_test = data_test.set_index('date')\n",
    "data_test = data_test.loc[data_test.index.isin(data_full.index)]"
   ]
  },
  {
   "cell_type": "markdown",
   "metadata": {},
   "source": [
    "## Модель"
   ]
  },
  {
   "cell_type": "markdown",
   "metadata": {},
   "source": [
    "На этом этапе мы можем приступить к обучению и сравнению моделей машинного обучения для нашей задачи регрессии. В качестве метрики оценки качества модели используем *sMAPE* (*Symmetric Mean Absolute Percentage Error*), рассчитываемый следующим образом: <br>\n",
    "$$ \\frac{1}{N}\\sum_{i=1}^{N}\\frac{|y_{i}-\\hat{y_{i}}|}{|y_{i}|+|\\hat{y_{i}}|} $$"
   ]
  },
  {
   "cell_type": "markdown",
   "metadata": {},
   "source": [
    "sMAPE необходимо вычислить для чернового и финального этапа. Итоговая sMAPE вычисляется следующим образом: <br>\n",
    "<h1><center>sMAPE (Итоговая) = 0.25 * sMAPE (черновая) + 0.75 * sMAPE (финальная)</center></h1>"
   ]
  },
  {
   "cell_type": "markdown",
   "metadata": {},
   "source": [
    "Для этого создадим функцию."
   ]
  },
  {
   "cell_type": "markdown",
   "metadata": {},
   "source": [
    "### Функция для вычисления sMAPE"
   ]
  },
  {
   "cell_type": "code",
   "execution_count": 36,
   "metadata": {},
   "outputs": [],
   "source": [
    "def calculate_smape(target_actual, target_predictions):\n",
    "    numerator = np.abs(target_actual - target_predictions)\n",
    "    denominator = (np.abs(target_actual) + np.abs(target_predictions)) / 2 \n",
    "    return 1 / len(target_actual) * np.sum(numerator / denominator) * 100 \n",
    "  \n",
    "def calculate_final_smape(target_actual, target_predictions):\n",
    "    target_actual_rougher = target_actual['rougher.output.recovery']\n",
    "    target_actual_final = target_actual['final.output.recovery']\n",
    "    target_predictions_rougher = target_predictions[:, 0]\n",
    "    target_predictions_final = target_predictions[:, 1]\n",
    "    return 0.25 * calculate_smape(target_actual_rougher, target_predictions_rougher) + 0.75 * calculate_smape(target_actual_final, target_predictions_final)\n",
    "\n",
    "smape_scorer = make_scorer(calculate_final_smape, greater_is_better=False)"
   ]
  },
  {
   "cell_type": "markdown",
   "metadata": {},
   "source": [
    "Также, мы создали оценщик *smape_scorer*, который затем передадим алгоритму кросс-валидации."
   ]
  },
  {
   "cell_type": "markdown",
   "metadata": {},
   "source": [
    "Чтобы модели обучались и делали оценки корректно, удалим в тренировочной выборке столбцы, которых нет в тестовой."
   ]
  },
  {
   "cell_type": "code",
   "execution_count": 37,
   "metadata": {},
   "outputs": [
    {
     "name": "stdout",
     "output_type": "stream",
     "text": [
      "Количество отсутствующих признаков: 0\n"
     ]
    },
    {
     "data": {
      "text/plain": [
       "[]"
      ]
     },
     "execution_count": 37,
     "metadata": {},
     "output_type": "execute_result"
    }
   ],
   "source": [
    "data_train = data_train.loc[:, data_test.columns]\n",
    "mis_features = list(set(data_train.columns)-set(data_test.columns))\n",
    "#mis_features.append('rougher.state.floatbank10_b_level')\n",
    "for column in mis_features:\n",
    "    try:\n",
    "        data_test[column]\n",
    "        print(f'Столбец {column} присутствует!')\n",
    "    except:\n",
    "        i = 0\n",
    "print('Количество отсутствующих признаков:', len(mis_features))\n",
    "sorted(mis_features)"
   ]
  },
  {
   "cell_type": "markdown",
   "metadata": {},
   "source": [
    "### Обучение моделей"
   ]
  },
  {
   "cell_type": "markdown",
   "metadata": {},
   "source": [
    "Начнем с разделения выборок на признаки и целевые признаки."
   ]
  },
  {
   "cell_type": "code",
   "execution_count": 38,
   "metadata": {},
   "outputs": [],
   "source": [
    "x_train = data_train\n",
    "y_train = data_full.loc[data_full.index.isin(data_train.index)][['rougher.output.recovery', 'final.output.recovery']]\n",
    "\n",
    "x_test = data_test\n",
    "y_test = data_full.loc[data_full.index.isin(data_test.index)][['rougher.output.recovery', 'final.output.recovery']]"
   ]
  },
  {
   "cell_type": "code",
   "execution_count": 39,
   "metadata": {},
   "outputs": [
    {
     "name": "stdout",
     "output_type": "stream",
     "text": [
      "(13462, 52)\n",
      "(13462, 2)\n",
      "(4442, 52)\n",
      "(4442, 2)\n"
     ]
    }
   ],
   "source": [
    "print(x_train.shape)\n",
    "print(y_train.shape)\n",
    "print(x_test.shape)\n",
    "print(y_test.shape)"
   ]
  },
  {
   "cell_type": "markdown",
   "metadata": {},
   "source": [
    "Итого: у нас имеется тренировочная выборка с 13108 строками и тестовая с 5013 строками, а также 52 столбца признаков и 2 целевых."
   ]
  },
  {
   "cell_type": "code",
   "execution_count": 40,
   "metadata": {},
   "outputs": [],
   "source": [
    "col_transformer = make_column_transformer( (StandardScaler(), x_train.columns), remainder='passthrough')"
   ]
  },
  {
   "cell_type": "markdown",
   "metadata": {},
   "source": [
    "Приступаем к обучению моделей."
   ]
  },
  {
   "cell_type": "markdown",
   "metadata": {},
   "source": [
    "Первая модель, которую мы обучим - *Ridge*. <br>\n",
    "Это линейная модель, использующая метод наименьших квадратов. Эта модель решает модель регрессии, в которой функция потерь является линейной функцией наименьших квадратов, а регуляризация задается нормой l2. Также известна как регрессия хребта или регуляризация по Тихонову."
   ]
  },
  {
   "cell_type": "code",
   "execution_count": 41,
   "metadata": {},
   "outputs": [
    {
     "name": "stdout",
     "output_type": "stream",
     "text": [
      "best_score: 8.375161131232355\n",
      "best_params: {'ridge__alpha': 0.2}\n"
     ]
    }
   ],
   "source": [
    "model_ridge = Ridge(random_state=STATE)\n",
    "\n",
    "pipeline_ridge = make_pipeline(col_transformer, model_ridge)\n",
    "\n",
    "param_grid_ridge = {\n",
    "    'ridge__alpha': np.arange(0, 0.21, 0.01),\n",
    "}\n",
    "\n",
    "gs_ridge_pl = GridSearchCV(\n",
    "    pipeline_ridge, \n",
    "    param_grid=param_grid_ridge, \n",
    "    scoring=smape_scorer, \n",
    "    n_jobs=-1\n",
    ")\n",
    "\n",
    "gs_ridge_pl.fit(x_train, y_train)\n",
    "\n",
    "gs_ridge_best_score = gs_ridge_pl.best_score_ * -1\n",
    "gs_ridge_best_params = gs_ridge_pl.best_params_\n",
    "\n",
    "# лучшее значение RMSE на кросс-валидации\n",
    "print(f'best_score: {gs_ridge_best_score}')\n",
    "# лучшие гиперпараметры\n",
    "print(f'best_params: {gs_ridge_best_params}')"
   ]
  },
  {
   "cell_type": "markdown",
   "metadata": {},
   "source": [
    "Следующая модель - хорошо известное дерево решений, используемое аналитиками с 1950-х годов."
   ]
  },
  {
   "cell_type": "code",
   "execution_count": 42,
   "metadata": {},
   "outputs": [
    {
     "name": "stdout",
     "output_type": "stream",
     "text": [
      "best_score: 7.96556587625321\n",
      "best_params: {'decisiontreeregressor__max_depth': 3, 'decisiontreeregressor__min_samples_leaf': 1, 'decisiontreeregressor__min_samples_split': 2}\n"
     ]
    }
   ],
   "source": [
    "model_tree = DecisionTreeRegressor(random_state=STATE)\n",
    "\n",
    "pipeline_tree = make_pipeline(col_transformer, model_tree)\n",
    "\n",
    "param_grid_tree = {\n",
    "    'decisiontreeregressor__max_depth': range(2, 7, 1),\n",
    "    'decisiontreeregressor__min_samples_split': (2, 3, 4, 5),\n",
    "    'decisiontreeregressor__min_samples_leaf': (1, 2, 3, 4)\n",
    "}\n",
    "\n",
    "gs_tree_pl = GridSearchCV(\n",
    "    pipeline_tree, \n",
    "    param_grid=param_grid_tree, \n",
    "    scoring=smape_scorer, \n",
    "    n_jobs=-1\n",
    ")\n",
    "\n",
    "gs_tree_pl.fit(x_train, y_train)\n",
    "\n",
    "gs_tree_best_score = gs_tree_pl.best_score_ * -1\n",
    "gs_tree_best_params = gs_tree_pl.best_params_\n",
    "\n",
    "# лучшее значение RMSE на кросс-валидации\n",
    "print(f'best_score: {gs_tree_best_score}')\n",
    "# лучшие гиперпараметры\n",
    "print(f'best_params: {gs_tree_best_params}')"
   ]
  },
  {
   "cell_type": "markdown",
   "metadata": {},
   "source": [
    "И последняя - случайный лес."
   ]
  },
  {
   "cell_type": "code",
   "execution_count": 43,
   "metadata": {},
   "outputs": [
    {
     "name": "stdout",
     "output_type": "stream",
     "text": [
      "best_score: 7.8020736066398175\n",
      "best_params: {'randomforestregressor__n_estimators': 250, 'randomforestregressor__min_samples_split': 4, 'randomforestregressor__min_samples_leaf': 2, 'randomforestregressor__max_depth': 3}\n"
     ]
    }
   ],
   "source": [
    "model_rf = RandomForestRegressor(random_state=STATE)\n",
    "\n",
    "pipline_rf = make_pipeline(col_transformer, model_rf)\n",
    "\n",
    "param_grid_rf = {\n",
    "    'randomforestregressor__n_estimators': range(50, 251, 50),\n",
    "    'randomforestregressor__max_depth': range(2, 6),\n",
    "    'randomforestregressor__min_samples_split': (2, 3, 4),\n",
    "    'randomforestregressor__min_samples_leaf': (1, 2, 3, 4)\n",
    "}\n",
    "\n",
    "# получается достаточно много комбинаций гиперпараметров при переборе\n",
    "# будем использовать RandomizedSearchCV, он работает на много быстрее\n",
    "gs_rf = RandomizedSearchCV(\n",
    "    pipline_rf, \n",
    "    param_distributions=param_grid_rf, \n",
    "    scoring=smape_scorer, \n",
    "    n_jobs=-1, \n",
    "    random_state=STATE\n",
    ")\n",
    "\n",
    "gs_rf.fit(x_train, y_train)\n",
    "\n",
    "gs_rf_best_score = gs_rf.best_score_ * -1\n",
    "gs_rf_best_params = gs_rf.best_params_\n",
    "print(f'best_score: {gs_rf_best_score}')\n",
    "print(f'best_params: {gs_rf_best_params}')"
   ]
  },
  {
   "cell_type": "markdown",
   "metadata": {},
   "source": [
    "И, для сравнения моделей, используем модель, которая предсказывает медианное значение целевого признака."
   ]
  },
  {
   "cell_type": "code",
   "execution_count": 44,
   "metadata": {},
   "outputs": [
    {
     "name": "stdout",
     "output_type": "stream",
     "text": [
      "8.292846912508717\n"
     ]
    }
   ],
   "source": [
    "dr = DummyRegressor(strategy='median')\n",
    "dr.fit(x_train, y_train)\n",
    "dr_result = calculate_final_smape(y_train, dr.predict(x_train))\n",
    "print(dr_result)"
   ]
  },
  {
   "cell_type": "code",
   "execution_count": 45,
   "metadata": {},
   "outputs": [
    {
     "data": {
      "text/html": [
       "<style type=\"text/css\">\n",
       "#T_e7f03_row0_col0 {\n",
       "  background-color: coral;\n",
       "}\n",
       "#T_e7f03_row2_col0 {\n",
       "  background-color: yellowgreen;\n",
       "}\n",
       "</style>\n",
       "<table id=\"T_e7f03_\">\n",
       "  <thead>\n",
       "    <tr>\n",
       "      <th class=\"blank level0\" >&nbsp;</th>\n",
       "      <th class=\"col_heading level0 col0\" >sMAPE</th>\n",
       "    </tr>\n",
       "  </thead>\n",
       "  <tbody>\n",
       "    <tr>\n",
       "      <th id=\"T_e7f03_level0_row0\" class=\"row_heading level0 row0\" >Ridge</th>\n",
       "      <td id=\"T_e7f03_row0_col0\" class=\"data row0 col0\" >8.375161</td>\n",
       "    </tr>\n",
       "    <tr>\n",
       "      <th id=\"T_e7f03_level0_row1\" class=\"row_heading level0 row1\" >Decision Tree</th>\n",
       "      <td id=\"T_e7f03_row1_col0\" class=\"data row1 col0\" >7.965566</td>\n",
       "    </tr>\n",
       "    <tr>\n",
       "      <th id=\"T_e7f03_level0_row2\" class=\"row_heading level0 row2\" >RandomForestRegressor</th>\n",
       "      <td id=\"T_e7f03_row2_col0\" class=\"data row2 col0\" >7.802074</td>\n",
       "    </tr>\n",
       "    <tr>\n",
       "      <th id=\"T_e7f03_level0_row3\" class=\"row_heading level0 row3\" >Dummy Model</th>\n",
       "      <td id=\"T_e7f03_row3_col0\" class=\"data row3 col0\" >8.292847</td>\n",
       "    </tr>\n",
       "  </tbody>\n",
       "</table>\n"
      ],
      "text/plain": [
       "<pandas.io.formats.style.Styler at 0x1a5d4a91130>"
      ]
     },
     "execution_count": 45,
     "metadata": {},
     "output_type": "execute_result"
    }
   ],
   "source": [
    "column=['sMAPE']\n",
    "\n",
    "comparison_tabl = pd.DataFrame(index=column, columns=['Ridge', 'Decision Tree', 'RandomForestRegressor', 'Dummy Model'])\n",
    "\n",
    "comparison_tabl['Ridge'] = gs_ridge_best_score\n",
    "comparison_tabl['Decision Tree'] = gs_tree_best_score\n",
    "comparison_tabl['RandomForestRegressor'] = gs_rf_best_score\n",
    "comparison_tabl['Dummy Model'] = dr_result\n",
    "\n",
    "comparison_tabl.T.style.highlight_min(\n",
    "    color='yellowgreen',subset=column\n",
    ").highlight_null(null_color='lightgrey').highlight_max(color='coral',subset=column)"
   ]
  },
  {
   "cell_type": "markdown",
   "metadata": {},
   "source": [
    "Лучший результат показал Случайный Лес. Остается протестировать."
   ]
  },
  {
   "cell_type": "markdown",
   "metadata": {},
   "source": [
    "### Тестирование лучшей модели"
   ]
  },
  {
   "cell_type": "markdown",
   "metadata": {},
   "source": [
    "Теперь мы проведем тестирование модели, показавшей лучший результат на тренировочной выборке."
   ]
  },
  {
   "cell_type": "code",
   "execution_count": 46,
   "metadata": {},
   "outputs": [
    {
     "name": "stdout",
     "output_type": "stream",
     "text": [
      "Результат sMAPE лучшей модели: 6.782122927716452\n"
     ]
    }
   ],
   "source": [
    "best_model = gs_rf.best_estimator_\n",
    "pred_test = best_model.predict(x_test)\n",
    "result = calculate_final_smape(y_test, pred_test)\n",
    "print(f'Результат sMAPE лучшей модели: {result}')"
   ]
  },
  {
   "cell_type": "code",
   "execution_count": 47,
   "metadata": {},
   "outputs": [
    {
     "name": "stdout",
     "output_type": "stream",
     "text": [
      "Результат константной модели: 7.774625892118643\n"
     ]
    }
   ],
   "source": [
    "dr = DummyRegressor(strategy='median')\n",
    "dr.fit(x_train, y_train)\n",
    "dr_result = calculate_final_smape(y_test, dr.predict(x_test))\n",
    "print(f'Результат константной модели:', dr_result)"
   ]
  },
  {
   "cell_type": "markdown",
   "metadata": {},
   "source": [
    "Модель Случайного Леса показала неплохой результат на тестовых данных! А сравнение с константной моделью позволило оценить, что наша модель делает прогнозы лучше, чем предсказание по медианному значению."
   ]
  },
  {
   "cell_type": "markdown",
   "metadata": {},
   "source": [
    "## Вывод\n",
    "В ходе выполнения проекта была решена поставленная цель - подготовлена модель машинного обучения для предсказания коэффициента восстановления золота из золотосодержащей руды. <br>\n",
    "<br>\n",
    "В нашем распоряжении были данные с параметрами добычи и очистки. В ходе создания модели были выполонены следующие задачи: <br>\n",
    "1) Подготовка данных. Данные были очищены от пропусков, проверены на дубликаты. <br>\n",
    "2) Анализ данных. Были исследованы концентрации элементов на разных этапах технологического процесса очистки золота, распределения размеров гранул в тренировочной и тестовой выборках, суммарные концентрации веществ на разных этапах. <br>\n",
    "3) Создание функции для оценки и обучение нескольких моделей машинного обучения. В ходе работы над этим этапам были исследованы такие модели, как *ridge*, *DecisionTree* и *RandomForest*. <br>\n",
    "4) Выбор лучшей модели. Среди обученных моделей лучше всех себя показала модель *RandomForest*. Она также была протестирована на отдельной выборке и показала результат не хуже, чем на тренировочной. <br>\n",
    "<br>\n",
    "Это был нерпостой проект. В ходе его реализации приходилось разбираться в значении признаков, которых в данных достаточно много, пробовать разные способы визуализации данных для их наглядной подачи и написать функцию для расчета метрики оценки модели. <br>\n",
    "В итоге удалось достичь итогового sMAPE 6.78 % на тестовых данных."
   ]
  }
 ],
 "metadata": {
  "ExecuteTimeLog": [
   {
    "duration": 3,
    "start_time": "2023-02-20T20:01:30.400Z"
   },
   {
    "duration": 2,
    "start_time": "2023-02-20T20:01:39.389Z"
   },
   {
    "duration": 2,
    "start_time": "2023-02-20T20:01:42.989Z"
   },
   {
    "duration": 3,
    "start_time": "2023-02-20T20:01:44.624Z"
   },
   {
    "duration": 406,
    "start_time": "2023-02-20T20:03:06.454Z"
   },
   {
    "duration": 2917,
    "start_time": "2023-02-20T20:03:08.499Z"
   },
   {
    "duration": 36,
    "start_time": "2023-02-20T20:31:36.377Z"
   },
   {
    "duration": 63,
    "start_time": "2023-02-20T20:31:54.202Z"
   },
   {
    "duration": 4,
    "start_time": "2023-02-20T20:32:21.282Z"
   },
   {
    "duration": 22,
    "start_time": "2023-02-20T20:32:32.155Z"
   },
   {
    "duration": 19,
    "start_time": "2023-02-20T20:32:34.319Z"
   },
   {
    "duration": 22,
    "start_time": "2023-02-20T20:35:04.124Z"
   },
   {
    "duration": 707,
    "start_time": "2023-02-20T20:39:56.870Z"
   },
   {
    "duration": 61,
    "start_time": "2023-02-20T20:39:58.592Z"
   },
   {
    "duration": 5,
    "start_time": "2023-02-20T20:41:13.090Z"
   },
   {
    "duration": 9,
    "start_time": "2023-02-20T20:41:15.336Z"
   },
   {
    "duration": 8,
    "start_time": "2023-02-20T20:41:17.219Z"
   },
   {
    "duration": 6,
    "start_time": "2023-02-20T20:42:12.882Z"
   },
   {
    "duration": 5,
    "start_time": "2023-02-20T20:45:06.400Z"
   },
   {
    "duration": 12,
    "start_time": "2023-02-20T20:53:50.540Z"
   },
   {
    "duration": 4,
    "start_time": "2023-02-20T20:53:58.830Z"
   },
   {
    "duration": 12,
    "start_time": "2023-02-20T20:53:59.319Z"
   },
   {
    "duration": 12,
    "start_time": "2023-02-20T20:54:21.980Z"
   },
   {
    "duration": 68,
    "start_time": "2023-02-20T20:55:26.580Z"
   },
   {
    "duration": 64,
    "start_time": "2023-02-20T20:55:40.134Z"
   },
   {
    "duration": 8,
    "start_time": "2023-02-20T20:55:50.030Z"
   },
   {
    "duration": 15,
    "start_time": "2023-02-20T20:55:58.243Z"
   },
   {
    "duration": 5,
    "start_time": "2023-02-20T20:56:59.437Z"
   },
   {
    "duration": 23,
    "start_time": "2023-02-20T20:57:00.120Z"
   },
   {
    "duration": 5,
    "start_time": "2023-02-20T20:57:15.602Z"
   },
   {
    "duration": 3,
    "start_time": "2023-02-20T20:57:20.311Z"
   },
   {
    "duration": 15,
    "start_time": "2023-02-20T20:57:26.902Z"
   },
   {
    "duration": 5,
    "start_time": "2023-02-20T20:57:40.612Z"
   },
   {
    "duration": 49,
    "start_time": "2023-02-20T21:00:23.698Z"
   },
   {
    "duration": 71,
    "start_time": "2023-02-20T21:00:34.429Z"
   },
   {
    "duration": 60,
    "start_time": "2023-02-20T21:00:40.828Z"
   },
   {
    "duration": 27,
    "start_time": "2023-02-20T21:00:53.623Z"
   },
   {
    "duration": 12,
    "start_time": "2023-02-20T21:00:58.639Z"
   },
   {
    "duration": 76,
    "start_time": "2023-02-20T21:02:32.865Z"
   },
   {
    "duration": 4,
    "start_time": "2023-02-20T21:02:50.616Z"
   },
   {
    "duration": 7,
    "start_time": "2023-02-20T21:06:45.393Z"
   },
   {
    "duration": 5,
    "start_time": "2023-02-20T21:06:52.209Z"
   },
   {
    "duration": 33,
    "start_time": "2023-02-20T21:07:02.683Z"
   },
   {
    "duration": 128,
    "start_time": "2023-02-20T21:07:08.810Z"
   },
   {
    "duration": 13,
    "start_time": "2023-02-20T21:07:24.416Z"
   },
   {
    "duration": 817,
    "start_time": "2023-02-20T21:07:43.111Z"
   },
   {
    "duration": 75,
    "start_time": "2023-02-20T21:08:04.927Z"
   },
   {
    "duration": 17,
    "start_time": "2023-02-20T21:08:12.045Z"
   },
   {
    "duration": 22,
    "start_time": "2023-02-20T21:08:14.407Z"
   },
   {
    "duration": 846,
    "start_time": "2023-02-20T21:09:02.900Z"
   },
   {
    "duration": 3,
    "start_time": "2023-02-20T21:09:42.843Z"
   },
   {
    "duration": 908,
    "start_time": "2023-02-20T21:09:43.477Z"
   },
   {
    "duration": 130,
    "start_time": "2023-02-20T21:10:39.517Z"
   },
   {
    "duration": 33,
    "start_time": "2023-02-20T21:12:43.072Z"
   },
   {
    "duration": 513,
    "start_time": "2023-02-20T21:13:16.369Z"
   },
   {
    "duration": 10,
    "start_time": "2023-02-20T21:13:23.097Z"
   },
   {
    "duration": 465,
    "start_time": "2023-02-20T21:13:34.316Z"
   },
   {
    "duration": 5,
    "start_time": "2023-02-20T21:13:35.350Z"
   },
   {
    "duration": 1229,
    "start_time": "2023-02-20T21:14:09.379Z"
   },
   {
    "duration": 15,
    "start_time": "2023-02-20T21:14:25.529Z"
   },
   {
    "duration": 19,
    "start_time": "2023-02-20T21:17:02.880Z"
   },
   {
    "duration": 4,
    "start_time": "2023-02-20T21:17:16.198Z"
   },
   {
    "duration": 18,
    "start_time": "2023-02-20T21:17:32.772Z"
   },
   {
    "duration": 4,
    "start_time": "2023-02-20T21:17:33.897Z"
   },
   {
    "duration": 3,
    "start_time": "2023-02-20T21:17:47.210Z"
   },
   {
    "duration": 5,
    "start_time": "2023-02-20T21:17:47.627Z"
   },
   {
    "duration": 20,
    "start_time": "2023-02-20T21:20:14.792Z"
   },
   {
    "duration": 23,
    "start_time": "2023-02-20T21:20:29.133Z"
   },
   {
    "duration": 12,
    "start_time": "2023-02-20T21:22:24.756Z"
   },
   {
    "duration": 9,
    "start_time": "2023-02-20T21:22:38.507Z"
   },
   {
    "duration": 4,
    "start_time": "2023-02-20T21:22:56.691Z"
   },
   {
    "duration": 12,
    "start_time": "2023-02-20T21:23:19.302Z"
   },
   {
    "duration": 22,
    "start_time": "2023-02-20T21:23:29.948Z"
   },
   {
    "duration": 17,
    "start_time": "2023-02-20T21:23:40.737Z"
   },
   {
    "duration": 13,
    "start_time": "2023-02-20T21:24:02.269Z"
   },
   {
    "duration": 13,
    "start_time": "2023-02-20T21:24:06.898Z"
   },
   {
    "duration": 5,
    "start_time": "2023-02-20T21:24:11.906Z"
   },
   {
    "duration": 464,
    "start_time": "2023-02-20T21:24:28.061Z"
   },
   {
    "duration": 14,
    "start_time": "2023-02-20T21:24:29.146Z"
   },
   {
    "duration": 4,
    "start_time": "2023-02-20T21:24:30.196Z"
   },
   {
    "duration": 486,
    "start_time": "2023-02-20T21:24:35.388Z"
   },
   {
    "duration": 16,
    "start_time": "2023-02-20T21:24:37.333Z"
   },
   {
    "duration": 6,
    "start_time": "2023-02-20T21:24:41.551Z"
   },
   {
    "duration": 22,
    "start_time": "2023-02-20T21:25:06.019Z"
   },
   {
    "duration": 16,
    "start_time": "2023-02-20T21:25:20.039Z"
   },
   {
    "duration": 14,
    "start_time": "2023-02-20T21:25:53.920Z"
   },
   {
    "duration": 4,
    "start_time": "2023-02-20T21:25:59.682Z"
   },
   {
    "duration": 17,
    "start_time": "2023-02-20T21:26:16.993Z"
   },
   {
    "duration": 18,
    "start_time": "2023-02-20T21:26:30.619Z"
   },
   {
    "duration": 17,
    "start_time": "2023-02-20T21:27:03.014Z"
   },
   {
    "duration": 4,
    "start_time": "2023-02-20T21:27:03.645Z"
   },
   {
    "duration": 23,
    "start_time": "2023-02-20T21:27:30.163Z"
   },
   {
    "duration": 5,
    "start_time": "2023-02-20T21:27:31.314Z"
   },
   {
    "duration": 14,
    "start_time": "2023-02-20T21:27:44.741Z"
   },
   {
    "duration": 14,
    "start_time": "2023-02-20T21:29:03.288Z"
   },
   {
    "duration": 5,
    "start_time": "2023-02-20T21:29:03.717Z"
   },
   {
    "duration": 3,
    "start_time": "2023-02-20T21:29:53.213Z"
   },
   {
    "duration": 762,
    "start_time": "2023-02-20T21:30:05.550Z"
   },
   {
    "duration": 4,
    "start_time": "2023-02-20T21:30:08.017Z"
   },
   {
    "duration": 74,
    "start_time": "2023-02-20T21:30:09.585Z"
   },
   {
    "duration": 552,
    "start_time": "2023-02-20T21:30:26.763Z"
   },
   {
    "duration": 15,
    "start_time": "2023-02-20T21:30:28.521Z"
   },
   {
    "duration": 4,
    "start_time": "2023-02-20T21:30:29.057Z"
   },
   {
    "duration": 21,
    "start_time": "2023-02-20T21:30:36.055Z"
   },
   {
    "duration": 15,
    "start_time": "2023-02-20T21:31:01.421Z"
   },
   {
    "duration": 14,
    "start_time": "2023-02-20T21:31:09.865Z"
   },
   {
    "duration": 43,
    "start_time": "2023-02-20T21:32:48.299Z"
   },
   {
    "duration": 78,
    "start_time": "2023-02-20T21:33:08.697Z"
   },
   {
    "duration": 4,
    "start_time": "2023-02-20T21:33:12.755Z"
   },
   {
    "duration": 9,
    "start_time": "2023-02-20T21:36:57.161Z"
   },
   {
    "duration": 8,
    "start_time": "2023-02-20T21:37:22.378Z"
   },
   {
    "duration": 3,
    "start_time": "2023-02-20T21:38:12.153Z"
   },
   {
    "duration": 5,
    "start_time": "2023-02-20T21:38:16.465Z"
   },
   {
    "duration": 3,
    "start_time": "2023-02-20T21:39:47.033Z"
   },
   {
    "duration": 4,
    "start_time": "2023-02-20T21:39:52.491Z"
   },
   {
    "duration": 1362,
    "start_time": "2023-02-20T21:40:15.211Z"
   },
   {
    "duration": 1275,
    "start_time": "2023-02-20T21:40:25.172Z"
   },
   {
    "duration": 1217,
    "start_time": "2023-02-20T21:40:32.283Z"
   },
   {
    "duration": 1168,
    "start_time": "2023-02-20T21:40:43.587Z"
   },
   {
    "duration": 4,
    "start_time": "2023-02-20T21:45:01.376Z"
   },
   {
    "duration": 8,
    "start_time": "2023-02-20T21:46:10.562Z"
   },
   {
    "duration": 71,
    "start_time": "2023-02-20T21:46:16.076Z"
   },
   {
    "duration": 80,
    "start_time": "2023-02-20T21:46:21.556Z"
   },
   {
    "duration": 4,
    "start_time": "2023-02-20T21:46:32.735Z"
   },
   {
    "duration": 6,
    "start_time": "2023-02-20T21:46:47.482Z"
   },
   {
    "duration": 6,
    "start_time": "2023-02-20T21:47:12.538Z"
   },
   {
    "duration": 4,
    "start_time": "2023-02-20T21:47:24.138Z"
   },
   {
    "duration": 4,
    "start_time": "2023-02-20T21:47:24.529Z"
   },
   {
    "duration": 5,
    "start_time": "2023-02-20T21:48:02.275Z"
   },
   {
    "duration": 5,
    "start_time": "2023-02-20T21:48:53.337Z"
   },
   {
    "duration": 4,
    "start_time": "2023-02-20T21:49:03.601Z"
   },
   {
    "duration": 5,
    "start_time": "2023-02-20T21:49:09.834Z"
   },
   {
    "duration": 5,
    "start_time": "2023-02-20T21:49:14.315Z"
   },
   {
    "duration": 3,
    "start_time": "2023-02-20T21:49:26.682Z"
   },
   {
    "duration": 5,
    "start_time": "2023-02-20T21:49:32.953Z"
   },
   {
    "duration": 13,
    "start_time": "2023-02-20T21:49:37.038Z"
   },
   {
    "duration": 5,
    "start_time": "2023-02-20T21:50:05.483Z"
   },
   {
    "duration": 7,
    "start_time": "2023-02-20T21:50:08.600Z"
   },
   {
    "duration": 6,
    "start_time": "2023-02-20T21:50:10.511Z"
   },
   {
    "duration": 11,
    "start_time": "2023-02-20T21:50:21.766Z"
   },
   {
    "duration": 5,
    "start_time": "2023-02-20T21:50:48.313Z"
   },
   {
    "duration": 13,
    "start_time": "2023-02-20T21:50:55.200Z"
   },
   {
    "duration": 5,
    "start_time": "2023-02-20T21:56:14.448Z"
   },
   {
    "duration": 5,
    "start_time": "2023-02-20T21:56:29.166Z"
   },
   {
    "duration": 6,
    "start_time": "2023-02-20T22:03:10.059Z"
   },
   {
    "duration": 9,
    "start_time": "2023-02-20T22:03:26.764Z"
   },
   {
    "duration": 9,
    "start_time": "2023-02-20T22:03:41.121Z"
   },
   {
    "duration": 5,
    "start_time": "2023-02-20T22:04:04.063Z"
   },
   {
    "duration": 9,
    "start_time": "2023-02-20T22:04:04.585Z"
   },
   {
    "duration": 3,
    "start_time": "2023-02-20T22:05:52.876Z"
   },
   {
    "duration": 727,
    "start_time": "2023-02-20T22:05:58.074Z"
   },
   {
    "duration": 10,
    "start_time": "2023-02-20T22:06:03.356Z"
   },
   {
    "duration": 74,
    "start_time": "2023-02-20T22:06:23.252Z"
   },
   {
    "duration": 8,
    "start_time": "2023-02-20T22:06:31.264Z"
   },
   {
    "duration": 20,
    "start_time": "2023-02-20T22:06:34.791Z"
   },
   {
    "duration": 7,
    "start_time": "2023-02-20T22:06:59.941Z"
   },
   {
    "duration": 824,
    "start_time": "2023-02-20T22:07:05.070Z"
   },
   {
    "duration": 5,
    "start_time": "2023-02-20T22:07:05.896Z"
   },
   {
    "duration": 4,
    "start_time": "2023-02-20T22:07:06.216Z"
   },
   {
    "duration": 566,
    "start_time": "2023-02-20T22:07:06.414Z"
   },
   {
    "duration": 21,
    "start_time": "2023-02-20T22:07:06.982Z"
   },
   {
    "duration": 8,
    "start_time": "2023-02-20T22:07:11.230Z"
   },
   {
    "duration": 10,
    "start_time": "2023-02-20T22:07:12.018Z"
   },
   {
    "duration": 722,
    "start_time": "2023-02-20T22:07:15.235Z"
   },
   {
    "duration": 8,
    "start_time": "2023-02-20T22:07:21.774Z"
   },
   {
    "duration": 8,
    "start_time": "2023-02-20T22:07:23.992Z"
   },
   {
    "duration": 11,
    "start_time": "2023-02-20T22:07:24.592Z"
   },
   {
    "duration": 14,
    "start_time": "2023-02-20T22:07:36.032Z"
   },
   {
    "duration": 3,
    "start_time": "2023-02-20T22:34:50.078Z"
   },
   {
    "duration": 3,
    "start_time": "2023-02-20T22:34:50.391Z"
   },
   {
    "duration": 673,
    "start_time": "2023-02-20T22:34:51.299Z"
   },
   {
    "duration": 4,
    "start_time": "2023-02-20T22:34:52.143Z"
   },
   {
    "duration": 5,
    "start_time": "2023-02-20T22:34:52.811Z"
   },
   {
    "duration": 484,
    "start_time": "2023-02-20T22:34:53.242Z"
   },
   {
    "duration": 21,
    "start_time": "2023-02-20T22:34:53.728Z"
   },
   {
    "duration": 5,
    "start_time": "2023-02-20T22:34:56.887Z"
   },
   {
    "duration": 6,
    "start_time": "2023-02-20T22:34:58.098Z"
   },
   {
    "duration": 17,
    "start_time": "2023-02-20T22:43:57.313Z"
   },
   {
    "duration": 67,
    "start_time": "2023-02-20T22:44:08.624Z"
   },
   {
    "duration": 13,
    "start_time": "2023-02-20T22:44:12.136Z"
   },
   {
    "duration": 13,
    "start_time": "2023-02-20T22:44:27.715Z"
   },
   {
    "duration": 10,
    "start_time": "2023-02-20T22:44:34.077Z"
   },
   {
    "duration": 11,
    "start_time": "2023-02-20T22:44:37.260Z"
   },
   {
    "duration": 16,
    "start_time": "2023-02-20T22:44:45.994Z"
   },
   {
    "duration": 10,
    "start_time": "2023-02-20T22:44:48.769Z"
   },
   {
    "duration": 9,
    "start_time": "2023-02-20T22:44:51.602Z"
   },
   {
    "duration": 12,
    "start_time": "2023-02-20T22:44:55.327Z"
   },
   {
    "duration": 13,
    "start_time": "2023-02-20T22:44:59.013Z"
   },
   {
    "duration": 9,
    "start_time": "2023-02-20T22:45:08.358Z"
   },
   {
    "duration": 14,
    "start_time": "2023-02-20T22:45:12.881Z"
   },
   {
    "duration": 15,
    "start_time": "2023-02-20T22:45:19.722Z"
   },
   {
    "duration": 72,
    "start_time": "2023-02-20T22:46:03.419Z"
   },
   {
    "duration": 10,
    "start_time": "2023-02-20T22:46:10.148Z"
   },
   {
    "duration": 13,
    "start_time": "2023-02-20T22:46:25.215Z"
   },
   {
    "duration": 10,
    "start_time": "2023-02-20T22:48:17.561Z"
   },
   {
    "duration": 9,
    "start_time": "2023-02-20T22:48:27.004Z"
   },
   {
    "duration": 10,
    "start_time": "2023-02-20T22:48:35.077Z"
   },
   {
    "duration": 5,
    "start_time": "2023-02-20T22:53:24.511Z"
   },
   {
    "duration": 16,
    "start_time": "2023-02-20T22:54:14.442Z"
   },
   {
    "duration": 7,
    "start_time": "2023-02-20T22:54:39.427Z"
   },
   {
    "duration": 5,
    "start_time": "2023-02-20T22:54:50.555Z"
   },
   {
    "duration": 6,
    "start_time": "2023-02-20T22:54:56.235Z"
   },
   {
    "duration": 13,
    "start_time": "2023-02-20T22:55:13.881Z"
   },
   {
    "duration": 403,
    "start_time": "2023-02-22T10:44:50.109Z"
   },
   {
    "duration": 3,
    "start_time": "2023-02-22T10:44:51.058Z"
   },
   {
    "duration": 1832,
    "start_time": "2023-02-22T10:44:52.160Z"
   },
   {
    "duration": 2,
    "start_time": "2023-02-22T10:44:57.775Z"
   },
   {
    "duration": 3,
    "start_time": "2023-02-22T10:44:59.164Z"
   },
   {
    "duration": 474,
    "start_time": "2023-02-22T10:45:02.569Z"
   },
   {
    "duration": 15,
    "start_time": "2023-02-22T10:45:03.046Z"
   },
   {
    "duration": 3,
    "start_time": "2023-02-22T10:45:05.555Z"
   },
   {
    "duration": 10,
    "start_time": "2023-02-22T10:45:13.331Z"
   },
   {
    "duration": 8,
    "start_time": "2023-02-22T10:45:29.923Z"
   },
   {
    "duration": 398,
    "start_time": "2023-02-22T17:14:12.517Z"
   },
   {
    "duration": 3,
    "start_time": "2023-02-22T17:14:15.624Z"
   },
   {
    "duration": 2050,
    "start_time": "2023-02-22T17:14:16.594Z"
   },
   {
    "duration": 4,
    "start_time": "2023-02-22T17:14:18.646Z"
   },
   {
    "duration": 5,
    "start_time": "2023-02-22T17:14:18.652Z"
   },
   {
    "duration": 481,
    "start_time": "2023-02-22T17:14:18.659Z"
   },
   {
    "duration": 13,
    "start_time": "2023-02-22T17:14:19.142Z"
   },
   {
    "duration": 9,
    "start_time": "2023-02-22T17:14:19.157Z"
   },
   {
    "duration": 12,
    "start_time": "2023-02-22T17:14:19.168Z"
   },
   {
    "duration": 7,
    "start_time": "2023-02-22T17:14:19.182Z"
   },
   {
    "duration": 21,
    "start_time": "2023-02-22T17:14:19.191Z"
   },
   {
    "duration": 8,
    "start_time": "2023-02-22T17:19:58.950Z"
   },
   {
    "duration": 8,
    "start_time": "2023-02-22T17:20:10.882Z"
   },
   {
    "duration": 68,
    "start_time": "2023-02-22T17:20:20.269Z"
   },
   {
    "duration": 9,
    "start_time": "2023-02-22T17:20:24.389Z"
   },
   {
    "duration": 6,
    "start_time": "2023-02-22T17:20:33.189Z"
   },
   {
    "duration": 4,
    "start_time": "2023-02-22T17:20:36.815Z"
   },
   {
    "duration": 15,
    "start_time": "2023-02-22T17:22:27.367Z"
   },
   {
    "duration": 8,
    "start_time": "2023-02-22T17:22:31.967Z"
   },
   {
    "duration": 7,
    "start_time": "2023-02-22T17:22:47.077Z"
   },
   {
    "duration": 9,
    "start_time": "2023-02-22T17:23:09.586Z"
   },
   {
    "duration": 51,
    "start_time": "2023-02-22T17:26:38.097Z"
   },
   {
    "duration": 8,
    "start_time": "2023-02-22T17:26:44.006Z"
   },
   {
    "duration": 9,
    "start_time": "2023-02-22T17:26:52.706Z"
   },
   {
    "duration": 8,
    "start_time": "2023-02-22T17:26:55.826Z"
   },
   {
    "duration": 4,
    "start_time": "2023-02-22T17:27:11.846Z"
   },
   {
    "duration": 7,
    "start_time": "2023-02-22T17:28:32.777Z"
   },
   {
    "duration": 46,
    "start_time": "2023-02-22T17:28:54.957Z"
   },
   {
    "duration": 8,
    "start_time": "2023-02-22T17:29:01.108Z"
   },
   {
    "duration": 77,
    "start_time": "2023-02-22T17:29:15.557Z"
   },
   {
    "duration": 83,
    "start_time": "2023-02-22T17:29:19.254Z"
   },
   {
    "duration": 90,
    "start_time": "2023-02-22T17:29:34.556Z"
   },
   {
    "duration": 5,
    "start_time": "2023-02-22T17:32:22.814Z"
   },
   {
    "duration": 3,
    "start_time": "2023-02-22T17:48:09.360Z"
   },
   {
    "duration": 4,
    "start_time": "2023-02-22T17:48:12.527Z"
   },
   {
    "duration": 664,
    "start_time": "2023-02-22T17:48:27.107Z"
   },
   {
    "duration": 5,
    "start_time": "2023-02-22T17:48:41.256Z"
   },
   {
    "duration": 5,
    "start_time": "2023-02-22T17:49:53.289Z"
   },
   {
    "duration": 687,
    "start_time": "2023-02-22T17:51:12.377Z"
   },
   {
    "duration": 637,
    "start_time": "2023-02-22T17:51:36.808Z"
   },
   {
    "duration": 636,
    "start_time": "2023-02-22T17:51:47.464Z"
   },
   {
    "duration": 6,
    "start_time": "2023-02-22T17:51:58.747Z"
   },
   {
    "duration": 5,
    "start_time": "2023-02-22T17:52:01.528Z"
   },
   {
    "duration": 4,
    "start_time": "2023-02-22T17:53:15.161Z"
   },
   {
    "duration": 5,
    "start_time": "2023-02-22T17:53:40.860Z"
   },
   {
    "duration": 10,
    "start_time": "2023-02-22T17:55:21.688Z"
   },
   {
    "duration": 6,
    "start_time": "2023-02-22T17:55:39.017Z"
   },
   {
    "duration": 11,
    "start_time": "2023-02-22T17:56:04.007Z"
   },
   {
    "duration": 10,
    "start_time": "2023-02-22T17:56:55.337Z"
   },
   {
    "duration": 15,
    "start_time": "2023-02-22T17:57:01.455Z"
   },
   {
    "duration": 4,
    "start_time": "2023-02-22T17:58:27.018Z"
   },
   {
    "duration": 5,
    "start_time": "2023-02-22T17:58:27.277Z"
   },
   {
    "duration": 5,
    "start_time": "2023-02-22T17:58:27.577Z"
   },
   {
    "duration": 11,
    "start_time": "2023-02-22T17:58:29.488Z"
   },
   {
    "duration": 5,
    "start_time": "2023-02-22T17:58:43.487Z"
   },
   {
    "duration": 6,
    "start_time": "2023-02-22T17:58:46.527Z"
   },
   {
    "duration": 4,
    "start_time": "2023-02-22T17:59:46.008Z"
   },
   {
    "duration": 39,
    "start_time": "2023-02-22T17:59:48.888Z"
   },
   {
    "duration": 8,
    "start_time": "2023-02-22T17:59:53.236Z"
   },
   {
    "duration": 5,
    "start_time": "2023-02-22T18:00:10.187Z"
   },
   {
    "duration": 11,
    "start_time": "2023-02-22T18:00:13.328Z"
   },
   {
    "duration": 7,
    "start_time": "2023-02-22T18:00:14.678Z"
   },
   {
    "duration": 10,
    "start_time": "2023-02-22T18:00:59.465Z"
   },
   {
    "duration": 964,
    "start_time": "2023-02-22T18:01:16.587Z"
   },
   {
    "duration": 49,
    "start_time": "2023-02-22T18:01:22.665Z"
   },
   {
    "duration": 1339,
    "start_time": "2023-02-22T18:01:32.669Z"
   },
   {
    "duration": 3,
    "start_time": "2023-02-22T18:01:45.007Z"
   },
   {
    "duration": 1210,
    "start_time": "2023-02-22T18:01:49.608Z"
   },
   {
    "duration": 527,
    "start_time": "2023-02-22T18:02:06.769Z"
   },
   {
    "duration": 534,
    "start_time": "2023-02-22T18:02:27.408Z"
   },
   {
    "duration": 498,
    "start_time": "2023-02-22T18:02:51.169Z"
   },
   {
    "duration": 470,
    "start_time": "2023-02-22T18:02:54.507Z"
   },
   {
    "duration": 5,
    "start_time": "2023-02-22T18:04:26.278Z"
   },
   {
    "duration": 6,
    "start_time": "2023-02-22T18:04:26.762Z"
   },
   {
    "duration": 722,
    "start_time": "2023-02-22T18:04:27.177Z"
   },
   {
    "duration": 5,
    "start_time": "2023-02-22T18:04:32.578Z"
   },
   {
    "duration": 5,
    "start_time": "2023-02-22T18:04:33.969Z"
   },
   {
    "duration": 9,
    "start_time": "2023-02-22T18:04:34.936Z"
   },
   {
    "duration": 562,
    "start_time": "2023-02-22T18:04:37.318Z"
   },
   {
    "duration": 510,
    "start_time": "2023-02-22T18:05:50.128Z"
   },
   {
    "duration": 488,
    "start_time": "2023-02-22T18:06:14.467Z"
   },
   {
    "duration": 191,
    "start_time": "2023-02-22T18:08:41.486Z"
   },
   {
    "duration": 151,
    "start_time": "2023-02-22T18:09:15.527Z"
   },
   {
    "duration": 161,
    "start_time": "2023-02-22T18:12:04.636Z"
   },
   {
    "duration": 155,
    "start_time": "2023-02-22T18:12:11.386Z"
   },
   {
    "duration": 130,
    "start_time": "2023-02-22T18:12:16.237Z"
   },
   {
    "duration": 131,
    "start_time": "2023-02-22T18:12:28.706Z"
   },
   {
    "duration": 153,
    "start_time": "2023-02-22T18:12:38.528Z"
   },
   {
    "duration": 152,
    "start_time": "2023-02-22T18:12:43.776Z"
   },
   {
    "duration": 11,
    "start_time": "2023-02-22T18:15:16.457Z"
   },
   {
    "duration": 11,
    "start_time": "2023-02-22T18:17:36.988Z"
   },
   {
    "duration": 272,
    "start_time": "2023-02-22T18:18:38.868Z"
   },
   {
    "duration": 2,
    "start_time": "2023-02-22T18:21:19.188Z"
   },
   {
    "duration": 4,
    "start_time": "2023-02-22T18:21:40.817Z"
   },
   {
    "duration": 11,
    "start_time": "2023-02-22T18:21:47.758Z"
   },
   {
    "duration": 5,
    "start_time": "2023-02-22T18:24:41.664Z"
   },
   {
    "duration": 9,
    "start_time": "2023-02-22T18:24:48.669Z"
   },
   {
    "duration": 10,
    "start_time": "2023-02-22T18:25:30.419Z"
   },
   {
    "duration": 99,
    "start_time": "2023-02-22T18:25:41.038Z"
   },
   {
    "duration": 243,
    "start_time": "2023-02-22T18:25:49.298Z"
   },
   {
    "duration": 9,
    "start_time": "2023-02-22T18:25:53.988Z"
   },
   {
    "duration": 9,
    "start_time": "2023-02-22T18:26:34.363Z"
   },
   {
    "duration": 181,
    "start_time": "2023-02-22T18:26:37.660Z"
   },
   {
    "duration": 8,
    "start_time": "2023-02-22T18:30:11.359Z"
   },
   {
    "duration": 305,
    "start_time": "2023-02-22T18:30:23.911Z"
   },
   {
    "duration": 356,
    "start_time": "2023-02-22T18:30:36.440Z"
   },
   {
    "duration": 11,
    "start_time": "2023-02-22T18:31:34.089Z"
   },
   {
    "duration": 419,
    "start_time": "2023-02-22T18:31:37.500Z"
   },
   {
    "duration": 19,
    "start_time": "2023-02-22T18:32:13.700Z"
   },
   {
    "duration": 410,
    "start_time": "2023-02-22T18:32:56.219Z"
   },
   {
    "duration": 394,
    "start_time": "2023-02-22T18:33:28.969Z"
   },
   {
    "duration": 48,
    "start_time": "2023-02-22T18:34:02.092Z"
   },
   {
    "duration": 395,
    "start_time": "2023-02-22T18:34:06.631Z"
   },
   {
    "duration": 341,
    "start_time": "2023-02-22T18:35:12.278Z"
   },
   {
    "duration": 10,
    "start_time": "2023-02-22T18:35:39.319Z"
   },
   {
    "duration": 10,
    "start_time": "2023-02-22T18:35:50.629Z"
   },
   {
    "duration": 367,
    "start_time": "2023-02-22T18:36:00.089Z"
   },
   {
    "duration": 3,
    "start_time": "2023-02-22T18:36:23.760Z"
   },
   {
    "duration": 318,
    "start_time": "2023-02-22T18:36:30.331Z"
   },
   {
    "duration": 460,
    "start_time": "2023-02-22T18:37:16.662Z"
   },
   {
    "duration": 378,
    "start_time": "2023-02-22T18:37:34.841Z"
   },
   {
    "duration": 465,
    "start_time": "2023-02-22T18:38:03.940Z"
   },
   {
    "duration": 523,
    "start_time": "2023-02-22T18:38:19.342Z"
   },
   {
    "duration": 429,
    "start_time": "2023-02-22T18:38:25.733Z"
   },
   {
    "duration": 9,
    "start_time": "2023-02-22T18:39:09.673Z"
   },
   {
    "duration": 511,
    "start_time": "2023-02-22T18:39:21.023Z"
   },
   {
    "duration": 560,
    "start_time": "2023-02-22T18:39:54.552Z"
   },
   {
    "duration": 609,
    "start_time": "2023-02-22T18:40:00.530Z"
   },
   {
    "duration": 573,
    "start_time": "2023-02-22T18:40:09.762Z"
   },
   {
    "duration": 514,
    "start_time": "2023-02-22T18:40:15.532Z"
   },
   {
    "duration": 620,
    "start_time": "2023-02-22T18:40:49.674Z"
   },
   {
    "duration": 447,
    "start_time": "2023-02-22T18:40:58.363Z"
   },
   {
    "duration": 475,
    "start_time": "2023-02-22T18:41:01.665Z"
   },
   {
    "duration": 42,
    "start_time": "2023-02-22T18:42:32.161Z"
   },
   {
    "duration": 10,
    "start_time": "2023-02-22T18:42:52.878Z"
   },
   {
    "duration": 440,
    "start_time": "2023-02-22T18:43:49.677Z"
   },
   {
    "duration": 1189,
    "start_time": "2023-02-22T18:51:12.179Z"
   },
   {
    "duration": 3,
    "start_time": "2023-02-22T18:51:13.370Z"
   },
   {
    "duration": 4,
    "start_time": "2023-02-22T18:51:13.374Z"
   },
   {
    "duration": 676,
    "start_time": "2023-02-22T18:51:13.380Z"
   },
   {
    "duration": 3,
    "start_time": "2023-02-22T18:51:14.059Z"
   },
   {
    "duration": 5,
    "start_time": "2023-02-22T18:51:14.063Z"
   },
   {
    "duration": 490,
    "start_time": "2023-02-22T18:51:14.069Z"
   },
   {
    "duration": 14,
    "start_time": "2023-02-22T18:51:14.560Z"
   },
   {
    "duration": 7,
    "start_time": "2023-02-22T18:51:14.575Z"
   },
   {
    "duration": 9,
    "start_time": "2023-02-22T18:51:14.583Z"
   },
   {
    "duration": 7,
    "start_time": "2023-02-22T18:51:14.609Z"
   },
   {
    "duration": 5,
    "start_time": "2023-02-22T18:51:14.618Z"
   },
   {
    "duration": 11,
    "start_time": "2023-02-22T18:51:14.624Z"
   },
   {
    "duration": 4,
    "start_time": "2023-02-22T18:51:14.638Z"
   },
   {
    "duration": 14,
    "start_time": "2023-02-22T18:51:14.643Z"
   },
   {
    "duration": 7,
    "start_time": "2023-02-22T18:51:14.659Z"
   },
   {
    "duration": 46,
    "start_time": "2023-02-22T18:51:14.667Z"
   },
   {
    "duration": 105,
    "start_time": "2023-02-22T18:51:14.714Z"
   },
   {
    "duration": 6,
    "start_time": "2023-02-22T18:51:14.820Z"
   },
   {
    "duration": 6,
    "start_time": "2023-02-22T18:51:14.828Z"
   },
   {
    "duration": 6,
    "start_time": "2023-02-22T18:51:14.836Z"
   },
   {
    "duration": 6,
    "start_time": "2023-02-22T18:51:14.843Z"
   },
   {
    "duration": 5,
    "start_time": "2023-02-22T18:51:14.850Z"
   },
   {
    "duration": 65,
    "start_time": "2023-02-22T18:51:14.856Z"
   },
   {
    "duration": 11,
    "start_time": "2023-02-22T18:51:14.923Z"
   },
   {
    "duration": 550,
    "start_time": "2023-02-22T18:51:14.935Z"
   },
   {
    "duration": 175,
    "start_time": "2023-02-22T18:51:15.487Z"
   },
   {
    "duration": 165,
    "start_time": "2023-02-22T18:51:15.664Z"
   },
   {
    "duration": 4,
    "start_time": "2023-02-22T18:51:15.831Z"
   },
   {
    "duration": 18,
    "start_time": "2023-02-22T18:51:15.836Z"
   },
   {
    "duration": 10,
    "start_time": "2023-02-22T18:51:15.855Z"
   },
   {
    "duration": 468,
    "start_time": "2023-02-22T18:51:15.866Z"
   },
   {
    "duration": 582,
    "start_time": "2023-02-22T18:52:29.368Z"
   },
   {
    "duration": 644,
    "start_time": "2023-02-22T18:52:42.436Z"
   },
   {
    "duration": 720,
    "start_time": "2023-02-22T18:52:46.982Z"
   },
   {
    "duration": 567,
    "start_time": "2023-02-22T18:53:03.677Z"
   },
   {
    "duration": 406,
    "start_time": "2023-02-22T18:54:39.413Z"
   },
   {
    "duration": 472,
    "start_time": "2023-02-22T18:56:17.174Z"
   },
   {
    "duration": 8,
    "start_time": "2023-02-22T18:56:46.293Z"
   },
   {
    "duration": 9,
    "start_time": "2023-02-22T18:59:55.883Z"
   },
   {
    "duration": 5,
    "start_time": "2023-02-22T19:00:36.565Z"
   },
   {
    "duration": 15,
    "start_time": "2023-02-22T19:01:09.724Z"
   },
   {
    "duration": 9,
    "start_time": "2023-02-22T19:01:18.463Z"
   },
   {
    "duration": 9,
    "start_time": "2023-02-22T19:01:24.063Z"
   },
   {
    "duration": 9,
    "start_time": "2023-02-22T19:01:33.467Z"
   },
   {
    "duration": 8,
    "start_time": "2023-02-22T19:01:36.068Z"
   },
   {
    "duration": 9,
    "start_time": "2023-02-22T19:01:55.553Z"
   },
   {
    "duration": 9,
    "start_time": "2023-02-22T19:01:57.925Z"
   },
   {
    "duration": 4,
    "start_time": "2023-02-22T19:03:11.374Z"
   },
   {
    "duration": 5,
    "start_time": "2023-02-22T19:03:26.068Z"
   },
   {
    "duration": 9,
    "start_time": "2023-02-22T19:03:51.143Z"
   },
   {
    "duration": 179,
    "start_time": "2023-02-22T19:04:05.973Z"
   },
   {
    "duration": 110,
    "start_time": "2023-02-22T19:04:38.044Z"
   },
   {
    "duration": 1416,
    "start_time": "2023-02-22T22:24:09.375Z"
   },
   {
    "duration": 3,
    "start_time": "2023-02-22T22:24:10.793Z"
   },
   {
    "duration": 7,
    "start_time": "2023-02-22T22:24:10.798Z"
   },
   {
    "duration": 2975,
    "start_time": "2023-02-22T22:24:10.807Z"
   },
   {
    "duration": 3,
    "start_time": "2023-02-22T22:24:13.784Z"
   },
   {
    "duration": 6,
    "start_time": "2023-02-22T22:24:13.789Z"
   },
   {
    "duration": 483,
    "start_time": "2023-02-22T22:24:13.797Z"
   },
   {
    "duration": 15,
    "start_time": "2023-02-22T22:24:14.282Z"
   },
   {
    "duration": 9,
    "start_time": "2023-02-22T22:24:14.298Z"
   },
   {
    "duration": 13,
    "start_time": "2023-02-22T22:24:14.309Z"
   },
   {
    "duration": 22,
    "start_time": "2023-02-22T22:24:14.324Z"
   },
   {
    "duration": 4,
    "start_time": "2023-02-22T22:24:14.347Z"
   },
   {
    "duration": 13,
    "start_time": "2023-02-22T22:24:14.352Z"
   },
   {
    "duration": 7,
    "start_time": "2023-02-22T22:24:14.366Z"
   },
   {
    "duration": 13,
    "start_time": "2023-02-22T22:24:14.375Z"
   },
   {
    "duration": 7,
    "start_time": "2023-02-22T22:24:14.390Z"
   },
   {
    "duration": 7,
    "start_time": "2023-02-22T22:24:14.398Z"
   },
   {
    "duration": 126,
    "start_time": "2023-02-22T22:24:14.406Z"
   },
   {
    "duration": 11,
    "start_time": "2023-02-22T22:24:14.534Z"
   },
   {
    "duration": 5,
    "start_time": "2023-02-22T22:24:14.547Z"
   },
   {
    "duration": 7,
    "start_time": "2023-02-22T22:24:14.553Z"
   },
   {
    "duration": 7,
    "start_time": "2023-02-22T22:24:14.561Z"
   },
   {
    "duration": 6,
    "start_time": "2023-02-22T22:24:14.569Z"
   },
   {
    "duration": 36,
    "start_time": "2023-02-22T22:24:14.576Z"
   },
   {
    "duration": 36,
    "start_time": "2023-02-22T22:24:14.614Z"
   },
   {
    "duration": 644,
    "start_time": "2023-02-22T22:24:14.652Z"
   },
   {
    "duration": 8,
    "start_time": "2023-02-22T22:24:15.298Z"
   },
   {
    "duration": 544,
    "start_time": "2023-02-22T22:24:15.310Z"
   },
   {
    "duration": 11,
    "start_time": "2023-02-22T22:24:15.857Z"
   },
   {
    "duration": 31,
    "start_time": "2023-02-22T22:24:15.871Z"
   },
   {
    "duration": 144,
    "start_time": "2023-02-22T22:24:15.904Z"
   },
   {
    "duration": 11,
    "start_time": "2023-02-22T22:26:12.956Z"
   },
   {
    "duration": 9,
    "start_time": "2023-02-22T22:26:37.248Z"
   },
   {
    "duration": 36,
    "start_time": "2023-02-22T22:26:52.962Z"
   },
   {
    "duration": 18,
    "start_time": "2023-02-22T22:27:12.082Z"
   },
   {
    "duration": 254,
    "start_time": "2023-02-22T22:27:40.399Z"
   },
   {
    "duration": 233,
    "start_time": "2023-02-22T22:29:40.274Z"
   },
   {
    "duration": 216,
    "start_time": "2023-02-22T22:31:03.876Z"
   },
   {
    "duration": 224,
    "start_time": "2023-02-22T22:31:36.816Z"
   },
   {
    "duration": 224,
    "start_time": "2023-02-22T22:34:15.327Z"
   },
   {
    "duration": 210,
    "start_time": "2023-02-22T22:34:21.272Z"
   },
   {
    "duration": 318,
    "start_time": "2023-02-22T22:34:44.491Z"
   },
   {
    "duration": 233,
    "start_time": "2023-02-22T22:35:18.284Z"
   },
   {
    "duration": 223,
    "start_time": "2023-02-22T22:35:26.109Z"
   },
   {
    "duration": 204,
    "start_time": "2023-02-22T22:35:32.333Z"
   },
   {
    "duration": 236,
    "start_time": "2023-02-22T22:35:40.469Z"
   },
   {
    "duration": 220,
    "start_time": "2023-02-22T22:36:06.515Z"
   },
   {
    "duration": 218,
    "start_time": "2023-02-22T22:37:17.329Z"
   },
   {
    "duration": 411,
    "start_time": "2023-02-22T22:38:21.523Z"
   },
   {
    "duration": 611,
    "start_time": "2023-02-22T22:38:30.875Z"
   },
   {
    "duration": 225,
    "start_time": "2023-02-22T22:40:18.889Z"
   },
   {
    "duration": 257,
    "start_time": "2023-02-22T22:40:42.741Z"
   },
   {
    "duration": 292,
    "start_time": "2023-02-22T22:41:49.293Z"
   },
   {
    "duration": 199,
    "start_time": "2023-02-22T22:42:13.089Z"
   },
   {
    "duration": 3868,
    "start_time": "2023-02-22T22:43:56.359Z"
   },
   {
    "duration": 2732,
    "start_time": "2023-02-22T22:44:05.639Z"
   },
   {
    "duration": 1238,
    "start_time": "2023-02-22T22:44:08.374Z"
   },
   {
    "duration": 3,
    "start_time": "2023-02-22T22:44:09.614Z"
   },
   {
    "duration": 10,
    "start_time": "2023-02-22T22:44:09.619Z"
   },
   {
    "duration": 828,
    "start_time": "2023-02-22T22:44:09.633Z"
   },
   {
    "duration": 6,
    "start_time": "2023-02-22T22:44:10.466Z"
   },
   {
    "duration": 15,
    "start_time": "2023-02-22T22:44:10.474Z"
   },
   {
    "duration": 609,
    "start_time": "2023-02-22T22:44:10.492Z"
   },
   {
    "duration": 17,
    "start_time": "2023-02-22T22:44:11.103Z"
   },
   {
    "duration": 8,
    "start_time": "2023-02-22T22:44:11.122Z"
   },
   {
    "duration": 46,
    "start_time": "2023-02-22T22:44:11.132Z"
   },
   {
    "duration": 15,
    "start_time": "2023-02-22T22:44:11.182Z"
   },
   {
    "duration": 5,
    "start_time": "2023-02-22T22:44:11.199Z"
   },
   {
    "duration": 12,
    "start_time": "2023-02-22T22:44:11.208Z"
   },
   {
    "duration": 5,
    "start_time": "2023-02-22T22:44:11.222Z"
   },
   {
    "duration": 34,
    "start_time": "2023-02-22T22:44:11.228Z"
   },
   {
    "duration": 17,
    "start_time": "2023-02-22T22:44:11.264Z"
   },
   {
    "duration": 11,
    "start_time": "2023-02-22T22:44:11.283Z"
   },
   {
    "duration": 115,
    "start_time": "2023-02-22T22:44:11.296Z"
   },
   {
    "duration": 5,
    "start_time": "2023-02-22T22:44:11.413Z"
   },
   {
    "duration": 7,
    "start_time": "2023-02-22T22:44:11.419Z"
   },
   {
    "duration": 26,
    "start_time": "2023-02-22T22:44:11.428Z"
   },
   {
    "duration": 24,
    "start_time": "2023-02-22T22:44:11.457Z"
   },
   {
    "duration": 6,
    "start_time": "2023-02-22T22:44:11.483Z"
   },
   {
    "duration": 40,
    "start_time": "2023-02-22T22:44:11.490Z"
   },
   {
    "duration": 18,
    "start_time": "2023-02-22T22:44:11.532Z"
   },
   {
    "duration": 616,
    "start_time": "2023-02-22T22:44:11.554Z"
   },
   {
    "duration": 8,
    "start_time": "2023-02-22T22:44:12.172Z"
   },
   {
    "duration": 573,
    "start_time": "2023-02-22T22:44:12.182Z"
   },
   {
    "duration": 17,
    "start_time": "2023-02-22T22:44:12.758Z"
   },
   {
    "duration": 25,
    "start_time": "2023-02-22T22:44:12.777Z"
   },
   {
    "duration": 310,
    "start_time": "2023-02-22T22:44:12.804Z"
   },
   {
    "duration": 0,
    "start_time": "2023-02-22T22:44:13.116Z"
   },
   {
    "duration": 0,
    "start_time": "2023-02-22T22:44:13.117Z"
   },
   {
    "duration": 179,
    "start_time": "2023-02-22T22:45:35.654Z"
   },
   {
    "duration": 186,
    "start_time": "2023-02-22T22:45:53.356Z"
   },
   {
    "duration": 176,
    "start_time": "2023-02-22T22:46:11.334Z"
   },
   {
    "duration": 173,
    "start_time": "2023-02-22T22:47:20.003Z"
   },
   {
    "duration": 295,
    "start_time": "2023-02-22T22:47:30.104Z"
   },
   {
    "duration": 195,
    "start_time": "2023-02-22T22:47:47.309Z"
   },
   {
    "duration": 157,
    "start_time": "2023-02-22T22:48:07.274Z"
   },
   {
    "duration": 188,
    "start_time": "2023-02-22T22:48:21.403Z"
   },
   {
    "duration": 236,
    "start_time": "2023-02-22T22:48:30.506Z"
   },
   {
    "duration": 204,
    "start_time": "2023-02-22T22:48:34.095Z"
   },
   {
    "duration": 196,
    "start_time": "2023-02-22T22:48:37.089Z"
   },
   {
    "duration": 189,
    "start_time": "2023-02-22T22:48:40.156Z"
   },
   {
    "duration": 197,
    "start_time": "2023-02-22T22:48:43.399Z"
   },
   {
    "duration": 199,
    "start_time": "2023-02-22T22:48:48.609Z"
   },
   {
    "duration": 192,
    "start_time": "2023-02-22T22:48:55.555Z"
   },
   {
    "duration": 201,
    "start_time": "2023-02-22T22:48:58.403Z"
   },
   {
    "duration": 311,
    "start_time": "2023-02-22T22:49:20.781Z"
   },
   {
    "duration": 91,
    "start_time": "2023-02-22T22:49:51.000Z"
   },
   {
    "duration": 200,
    "start_time": "2023-02-22T22:49:56.815Z"
   },
   {
    "duration": 192,
    "start_time": "2023-02-22T22:50:57.171Z"
   },
   {
    "duration": 198,
    "start_time": "2023-02-22T22:51:12.541Z"
   },
   {
    "duration": 11,
    "start_time": "2023-02-22T22:57:56.208Z"
   },
   {
    "duration": 315,
    "start_time": "2023-02-22T22:58:22.466Z"
   },
   {
    "duration": 5,
    "start_time": "2023-02-22T22:58:31.788Z"
   },
   {
    "duration": 3,
    "start_time": "2023-02-22T23:05:38.621Z"
   },
   {
    "duration": 9,
    "start_time": "2023-02-22T23:06:31.265Z"
   },
   {
    "duration": 22,
    "start_time": "2023-02-22T23:11:35.469Z"
   },
   {
    "duration": 45,
    "start_time": "2023-02-22T23:12:10.127Z"
   },
   {
    "duration": 17,
    "start_time": "2023-02-22T23:12:15.511Z"
   },
   {
    "duration": 11,
    "start_time": "2023-02-22T23:12:27.614Z"
   },
   {
    "duration": 12,
    "start_time": "2023-02-22T23:12:46.309Z"
   },
   {
    "duration": 12,
    "start_time": "2023-02-22T23:14:01.176Z"
   },
   {
    "duration": 23,
    "start_time": "2023-02-22T23:16:10.773Z"
   },
   {
    "duration": 22,
    "start_time": "2023-02-22T23:16:19.469Z"
   },
   {
    "duration": 1305,
    "start_time": "2023-02-22T23:16:40.017Z"
   },
   {
    "duration": 6,
    "start_time": "2023-02-22T23:16:56.310Z"
   },
   {
    "duration": 5,
    "start_time": "2023-02-22T23:17:33.422Z"
   },
   {
    "duration": 1481,
    "start_time": "2023-02-22T23:17:33.803Z"
   },
   {
    "duration": 2,
    "start_time": "2023-02-22T23:17:35.286Z"
   },
   {
    "duration": 3,
    "start_time": "2023-02-22T23:17:35.561Z"
   },
   {
    "duration": 780,
    "start_time": "2023-02-22T23:17:36.863Z"
   },
   {
    "duration": 3,
    "start_time": "2023-02-22T23:17:38.063Z"
   },
   {
    "duration": 4,
    "start_time": "2023-02-22T23:17:39.401Z"
   },
   {
    "duration": 494,
    "start_time": "2023-02-22T23:17:41.966Z"
   },
   {
    "duration": 18,
    "start_time": "2023-02-22T23:17:43.740Z"
   },
   {
    "duration": 4,
    "start_time": "2023-02-22T23:17:45.395Z"
   },
   {
    "duration": 9,
    "start_time": "2023-02-22T23:17:58.959Z"
   },
   {
    "duration": 9,
    "start_time": "2023-02-22T23:17:59.960Z"
   },
   {
    "duration": 4,
    "start_time": "2023-02-22T23:18:03.207Z"
   },
   {
    "duration": 5,
    "start_time": "2023-02-22T23:18:25.273Z"
   },
   {
    "duration": 14,
    "start_time": "2023-02-22T23:18:33.961Z"
   },
   {
    "duration": 11,
    "start_time": "2023-02-22T23:18:34.962Z"
   },
   {
    "duration": 6,
    "start_time": "2023-02-22T23:18:41.325Z"
   },
   {
    "duration": 91,
    "start_time": "2023-02-22T23:18:45.085Z"
   },
   {
    "duration": 6,
    "start_time": "2023-02-22T23:18:49.992Z"
   },
   {
    "duration": 7,
    "start_time": "2023-02-22T23:18:50.463Z"
   },
   {
    "duration": 5,
    "start_time": "2023-02-22T23:18:51.060Z"
   },
   {
    "duration": 5,
    "start_time": "2023-02-22T23:18:51.415Z"
   },
   {
    "duration": 8,
    "start_time": "2023-02-22T23:18:51.753Z"
   },
   {
    "duration": 37,
    "start_time": "2023-02-22T23:18:52.162Z"
   },
   {
    "duration": 11,
    "start_time": "2023-02-22T23:18:56.190Z"
   },
   {
    "duration": 555,
    "start_time": "2023-02-22T23:18:56.722Z"
   },
   {
    "duration": 8,
    "start_time": "2023-02-22T23:18:59.811Z"
   },
   {
    "duration": 478,
    "start_time": "2023-02-22T23:19:00.555Z"
   },
   {
    "duration": 12,
    "start_time": "2023-02-22T23:19:01.645Z"
   },
   {
    "duration": 15,
    "start_time": "2023-02-22T23:19:02.265Z"
   },
   {
    "duration": 284,
    "start_time": "2023-02-22T23:19:03.202Z"
   },
   {
    "duration": 560,
    "start_time": "2023-02-22T23:19:04.332Z"
   },
   {
    "duration": 7,
    "start_time": "2023-02-22T23:19:25.937Z"
   },
   {
    "duration": 70,
    "start_time": "2023-02-22T23:19:32.468Z"
   },
   {
    "duration": 6,
    "start_time": "2023-02-22T23:19:33.828Z"
   },
   {
    "duration": 152,
    "start_time": "2023-02-22T23:20:03.517Z"
   },
   {
    "duration": 1494,
    "start_time": "2023-02-22T23:20:37.086Z"
   },
   {
    "duration": 2,
    "start_time": "2023-02-22T23:20:39.029Z"
   },
   {
    "duration": 3,
    "start_time": "2023-02-22T23:20:39.207Z"
   },
   {
    "duration": 755,
    "start_time": "2023-02-22T23:20:40.610Z"
   },
   {
    "duration": 8,
    "start_time": "2023-02-22T23:20:54.124Z"
   },
   {
    "duration": 6,
    "start_time": "2023-02-22T23:21:00.943Z"
   },
   {
    "duration": 4,
    "start_time": "2023-02-22T23:21:01.458Z"
   },
   {
    "duration": 582,
    "start_time": "2023-02-22T23:21:01.483Z"
   },
   {
    "duration": 13,
    "start_time": "2023-02-22T23:21:02.067Z"
   },
   {
    "duration": 10,
    "start_time": "2023-02-22T23:21:02.081Z"
   },
   {
    "duration": 27,
    "start_time": "2023-02-22T23:21:02.092Z"
   },
   {
    "duration": 22,
    "start_time": "2023-02-22T23:21:02.120Z"
   },
   {
    "duration": 16,
    "start_time": "2023-02-22T23:21:02.145Z"
   },
   {
    "duration": 34,
    "start_time": "2023-02-22T23:21:02.163Z"
   },
   {
    "duration": 32,
    "start_time": "2023-02-22T23:21:02.199Z"
   },
   {
    "duration": 16,
    "start_time": "2023-02-22T23:21:02.233Z"
   },
   {
    "duration": 26,
    "start_time": "2023-02-22T23:21:02.251Z"
   },
   {
    "duration": 202,
    "start_time": "2023-02-22T23:21:02.279Z"
   },
   {
    "duration": 5,
    "start_time": "2023-02-22T23:21:02.483Z"
   },
   {
    "duration": 15,
    "start_time": "2023-02-22T23:21:02.490Z"
   },
   {
    "duration": 26,
    "start_time": "2023-02-22T23:21:02.507Z"
   },
   {
    "duration": 5,
    "start_time": "2023-02-22T23:21:05.299Z"
   },
   {
    "duration": 6,
    "start_time": "2023-02-22T23:21:06.492Z"
   },
   {
    "duration": 38,
    "start_time": "2023-02-22T23:21:07.157Z"
   },
   {
    "duration": 18,
    "start_time": "2023-02-22T23:21:07.742Z"
   },
   {
    "duration": 544,
    "start_time": "2023-02-22T23:21:08.199Z"
   },
   {
    "duration": 10,
    "start_time": "2023-02-22T23:21:08.745Z"
   },
   {
    "duration": 558,
    "start_time": "2023-02-22T23:21:08.759Z"
   },
   {
    "duration": 9,
    "start_time": "2023-02-22T23:21:09.319Z"
   },
   {
    "duration": 16,
    "start_time": "2023-02-22T23:21:09.415Z"
   },
   {
    "duration": 280,
    "start_time": "2023-02-22T23:21:09.798Z"
   },
   {
    "duration": 4,
    "start_time": "2023-02-22T23:22:00.302Z"
   },
   {
    "duration": 140,
    "start_time": "2023-02-22T23:22:00.663Z"
   },
   {
    "duration": 1157,
    "start_time": "2023-02-22T23:22:15.699Z"
   },
   {
    "duration": 23,
    "start_time": "2023-02-22T23:22:28.365Z"
   },
   {
    "duration": 23,
    "start_time": "2023-02-22T23:23:20.869Z"
   },
   {
    "duration": 33,
    "start_time": "2023-02-22T23:23:41.565Z"
   },
   {
    "duration": 16,
    "start_time": "2023-02-22T23:24:37.614Z"
   },
   {
    "duration": 8,
    "start_time": "2023-02-22T23:25:44.539Z"
   },
   {
    "duration": 27,
    "start_time": "2023-02-22T23:27:54.187Z"
   },
   {
    "duration": 2157,
    "start_time": "2023-02-22T23:30:07.135Z"
   },
   {
    "duration": 1738,
    "start_time": "2023-02-22T23:31:45.120Z"
   },
   {
    "duration": 16,
    "start_time": "2023-02-22T23:33:47.055Z"
   },
   {
    "duration": 11,
    "start_time": "2023-02-22T23:34:08.901Z"
   },
   {
    "duration": 12,
    "start_time": "2023-02-22T23:34:42.356Z"
   },
   {
    "duration": 4,
    "start_time": "2023-02-22T23:34:54.225Z"
   },
   {
    "duration": 4,
    "start_time": "2023-02-22T23:36:03.629Z"
   },
   {
    "duration": 1471,
    "start_time": "2023-02-22T23:36:15.209Z"
   },
   {
    "duration": 24,
    "start_time": "2023-02-22T23:37:33.336Z"
   },
   {
    "duration": 25,
    "start_time": "2023-02-22T23:38:59.726Z"
   },
   {
    "duration": 1624,
    "start_time": "2023-02-22T23:40:29.275Z"
   },
   {
    "duration": 38,
    "start_time": "2023-02-22T23:44:32.639Z"
   },
   {
    "duration": 15,
    "start_time": "2023-02-22T23:45:14.904Z"
   },
   {
    "duration": 17,
    "start_time": "2023-02-22T23:45:28.561Z"
   },
   {
    "duration": 26,
    "start_time": "2023-02-22T23:45:29.997Z"
   },
   {
    "duration": 4,
    "start_time": "2023-02-22T23:48:40.256Z"
   },
   {
    "duration": 26,
    "start_time": "2023-02-22T23:48:51.604Z"
   },
   {
    "duration": 1587,
    "start_time": "2023-02-22T23:49:01.470Z"
   },
   {
    "duration": 16,
    "start_time": "2023-02-22T23:54:34.793Z"
   },
   {
    "duration": 1563,
    "start_time": "2023-02-22T23:54:36.627Z"
   },
   {
    "duration": 4,
    "start_time": "2023-02-23T00:03:34.682Z"
   },
   {
    "duration": 76,
    "start_time": "2023-02-23T00:04:36.129Z"
   },
   {
    "duration": 17,
    "start_time": "2023-02-23T00:05:08.856Z"
   },
   {
    "duration": 8,
    "start_time": "2023-02-23T00:05:11.413Z"
   },
   {
    "duration": 3,
    "start_time": "2023-02-23T00:05:18.665Z"
   },
   {
    "duration": 8,
    "start_time": "2023-02-23T00:05:24.909Z"
   },
   {
    "duration": 7,
    "start_time": "2023-02-23T00:05:31.669Z"
   },
   {
    "duration": 79,
    "start_time": "2023-02-23T00:05:41.108Z"
   },
   {
    "duration": 4,
    "start_time": "2023-02-23T00:05:45.097Z"
   },
   {
    "duration": 82,
    "start_time": "2023-02-23T00:05:54.905Z"
   },
   {
    "duration": 6,
    "start_time": "2023-02-23T00:05:59.159Z"
   },
   {
    "duration": 4,
    "start_time": "2023-02-23T00:06:03.998Z"
   },
   {
    "duration": 14,
    "start_time": "2023-02-23T00:06:33.743Z"
   },
   {
    "duration": 17,
    "start_time": "2023-02-23T00:06:38.957Z"
   },
   {
    "duration": 4,
    "start_time": "2023-02-23T00:07:00.435Z"
   },
   {
    "duration": 3,
    "start_time": "2023-02-23T00:07:00.727Z"
   },
   {
    "duration": 8,
    "start_time": "2023-02-23T00:07:00.943Z"
   },
   {
    "duration": 815,
    "start_time": "2023-02-23T00:07:01.555Z"
   },
   {
    "duration": 22,
    "start_time": "2023-02-23T00:07:09.853Z"
   },
   {
    "duration": 9,
    "start_time": "2023-02-23T00:07:50.588Z"
   },
   {
    "duration": 14,
    "start_time": "2023-02-23T00:07:52.983Z"
   },
   {
    "duration": 24,
    "start_time": "2023-02-23T00:08:00.036Z"
   },
   {
    "duration": 6,
    "start_time": "2023-02-23T00:08:01.343Z"
   },
   {
    "duration": 4,
    "start_time": "2023-02-23T00:08:01.813Z"
   },
   {
    "duration": 4,
    "start_time": "2023-02-23T00:08:19.588Z"
   },
   {
    "duration": 4,
    "start_time": "2023-02-23T00:08:20.321Z"
   },
   {
    "duration": 5,
    "start_time": "2023-02-23T00:09:02.867Z"
   },
   {
    "duration": 12,
    "start_time": "2023-02-23T00:09:08.401Z"
   },
   {
    "duration": 19,
    "start_time": "2023-02-23T00:09:33.579Z"
   },
   {
    "duration": 4,
    "start_time": "2023-02-23T12:37:51.635Z"
   },
   {
    "duration": 1530,
    "start_time": "2023-02-23T12:37:53.151Z"
   },
   {
    "duration": 2,
    "start_time": "2023-02-23T12:37:54.683Z"
   },
   {
    "duration": 14,
    "start_time": "2023-02-23T12:37:54.686Z"
   },
   {
    "duration": 1975,
    "start_time": "2023-02-23T12:37:58.928Z"
   },
   {
    "duration": 3,
    "start_time": "2023-02-23T12:38:04.719Z"
   },
   {
    "duration": 4,
    "start_time": "2023-02-23T12:38:34.848Z"
   },
   {
    "duration": 1440,
    "start_time": "2023-02-23T12:38:35.412Z"
   },
   {
    "duration": 3,
    "start_time": "2023-02-23T12:38:36.854Z"
   },
   {
    "duration": 5,
    "start_time": "2023-02-23T12:38:36.859Z"
   },
   {
    "duration": 662,
    "start_time": "2023-02-23T12:38:38.995Z"
   },
   {
    "duration": 4,
    "start_time": "2023-02-23T12:38:41.040Z"
   },
   {
    "duration": 5,
    "start_time": "2023-02-23T12:39:01.449Z"
   },
   {
    "duration": 473,
    "start_time": "2023-02-23T12:39:20.090Z"
   },
   {
    "duration": 20,
    "start_time": "2023-02-23T12:39:36.194Z"
   },
   {
    "duration": 4,
    "start_time": "2023-02-23T12:39:40.513Z"
   },
   {
    "duration": 6,
    "start_time": "2023-02-23T12:39:44.968Z"
   },
   {
    "duration": 10,
    "start_time": "2023-02-23T12:39:49.195Z"
   },
   {
    "duration": 4,
    "start_time": "2023-02-23T12:39:49.233Z"
   },
   {
    "duration": 5,
    "start_time": "2023-02-23T12:39:55.815Z"
   },
   {
    "duration": 15,
    "start_time": "2023-02-23T12:40:12.374Z"
   },
   {
    "duration": 12,
    "start_time": "2023-02-23T12:40:13.516Z"
   },
   {
    "duration": 9,
    "start_time": "2023-02-23T12:40:14.486Z"
   },
   {
    "duration": 93,
    "start_time": "2023-02-23T12:40:15.126Z"
   },
   {
    "duration": 5,
    "start_time": "2023-02-23T12:40:20.878Z"
   },
   {
    "duration": 6,
    "start_time": "2023-02-23T12:40:25.282Z"
   },
   {
    "duration": 6,
    "start_time": "2023-02-23T12:40:27.014Z"
   },
   {
    "duration": 5,
    "start_time": "2023-02-23T12:40:27.738Z"
   },
   {
    "duration": 6,
    "start_time": "2023-02-23T12:40:28.040Z"
   },
   {
    "duration": 44,
    "start_time": "2023-02-23T12:40:29.116Z"
   },
   {
    "duration": 10,
    "start_time": "2023-02-23T12:40:31.891Z"
   },
   {
    "duration": 488,
    "start_time": "2023-02-23T12:40:36.150Z"
   },
   {
    "duration": 7,
    "start_time": "2023-02-23T12:40:43.576Z"
   },
   {
    "duration": 459,
    "start_time": "2023-02-23T12:40:47.682Z"
   },
   {
    "duration": 8,
    "start_time": "2023-02-23T12:40:50.799Z"
   },
   {
    "duration": 8,
    "start_time": "2023-02-23T12:41:01.606Z"
   },
   {
    "duration": 17,
    "start_time": "2023-02-23T12:41:04.838Z"
   },
   {
    "duration": 170,
    "start_time": "2023-02-23T12:41:05.768Z"
   },
   {
    "duration": 4,
    "start_time": "2023-02-23T12:41:14.768Z"
   },
   {
    "duration": 4,
    "start_time": "2023-02-23T12:41:36.546Z"
   },
   {
    "duration": 120,
    "start_time": "2023-02-23T12:42:21.156Z"
   },
   {
    "duration": 3,
    "start_time": "2023-02-23T12:42:49.758Z"
   },
   {
    "duration": 10,
    "start_time": "2023-02-23T12:43:17.927Z"
   },
   {
    "duration": 17,
    "start_time": "2023-02-23T12:44:08.579Z"
   },
   {
    "duration": 4,
    "start_time": "2023-02-23T12:44:54.457Z"
   },
   {
    "duration": 24,
    "start_time": "2023-02-23T12:49:19.548Z"
   },
   {
    "duration": 3,
    "start_time": "2023-02-23T12:49:23.365Z"
   },
   {
    "duration": 3,
    "start_time": "2023-02-23T12:49:29.050Z"
   },
   {
    "duration": 1351,
    "start_time": "2023-02-23T12:49:46.157Z"
   },
   {
    "duration": 25,
    "start_time": "2023-02-23T12:51:03.809Z"
   },
   {
    "duration": 24,
    "start_time": "2023-02-23T12:51:15.689Z"
   },
   {
    "duration": 35,
    "start_time": "2023-02-23T12:51:30.830Z"
   },
   {
    "duration": 27,
    "start_time": "2023-02-23T12:51:42.006Z"
   },
   {
    "duration": 34,
    "start_time": "2023-02-23T12:51:51.873Z"
   },
   {
    "duration": 13,
    "start_time": "2023-02-23T12:53:31.558Z"
   },
   {
    "duration": 4,
    "start_time": "2023-02-23T12:53:50.300Z"
   },
   {
    "duration": 9,
    "start_time": "2023-02-23T12:55:42.836Z"
   },
   {
    "duration": 6,
    "start_time": "2023-02-23T12:55:57.857Z"
   },
   {
    "duration": 13,
    "start_time": "2023-02-23T12:56:03.289Z"
   },
   {
    "duration": 10,
    "start_time": "2023-02-23T12:57:49.109Z"
   },
   {
    "duration": 3,
    "start_time": "2023-02-23T12:58:09.323Z"
   },
   {
    "duration": 12,
    "start_time": "2023-02-23T12:59:09.797Z"
   },
   {
    "duration": 930,
    "start_time": "2023-02-23T12:59:20.645Z"
   },
   {
    "duration": 4,
    "start_time": "2023-02-23T13:07:34.734Z"
   },
   {
    "duration": 921,
    "start_time": "2023-02-23T13:07:41.390Z"
   },
   {
    "duration": 7,
    "start_time": "2023-02-23T13:09:09.541Z"
   },
   {
    "duration": 10,
    "start_time": "2023-02-23T13:09:22.423Z"
   },
   {
    "duration": 7,
    "start_time": "2023-02-23T13:09:29.363Z"
   },
   {
    "duration": 9,
    "start_time": "2023-02-23T13:09:35.459Z"
   },
   {
    "duration": 8,
    "start_time": "2023-02-23T13:09:42.010Z"
   },
   {
    "duration": 4,
    "start_time": "2023-02-23T13:09:49.631Z"
   },
   {
    "duration": 4,
    "start_time": "2023-02-23T13:09:57.102Z"
   },
   {
    "duration": 23,
    "start_time": "2023-02-23T13:12:38.358Z"
   },
   {
    "duration": 4,
    "start_time": "2023-02-23T13:12:39.799Z"
   },
   {
    "duration": 4,
    "start_time": "2023-02-23T13:12:43.854Z"
   },
   {
    "duration": 2,
    "start_time": "2023-02-23T13:13:00.995Z"
   },
   {
    "duration": 987,
    "start_time": "2023-02-23T13:13:04.639Z"
   },
   {
    "duration": 39,
    "start_time": "2023-02-23T14:17:58.756Z"
   },
   {
    "duration": 1016,
    "start_time": "2023-02-23T14:18:16.650Z"
   },
   {
    "duration": 35,
    "start_time": "2023-02-23T14:18:24.367Z"
   },
   {
    "duration": 35,
    "start_time": "2023-02-23T14:18:39.636Z"
   },
   {
    "duration": 37,
    "start_time": "2023-02-23T14:18:51.862Z"
   },
   {
    "duration": 39,
    "start_time": "2023-02-23T14:19:05.316Z"
   },
   {
    "duration": 928,
    "start_time": "2023-02-23T14:19:18.399Z"
   },
   {
    "duration": 5,
    "start_time": "2023-02-23T14:19:56.393Z"
   },
   {
    "duration": 1036,
    "start_time": "2023-02-23T14:20:04.329Z"
   },
   {
    "duration": 4,
    "start_time": "2023-02-23T14:20:19.168Z"
   },
   {
    "duration": 961,
    "start_time": "2023-02-23T14:20:25.208Z"
   },
   {
    "duration": 25,
    "start_time": "2023-02-23T14:23:49.224Z"
   },
   {
    "duration": 1004,
    "start_time": "2023-02-23T14:24:04.688Z"
   },
   {
    "duration": 3,
    "start_time": "2023-02-23T14:28:10.038Z"
   },
   {
    "duration": 14,
    "start_time": "2023-02-23T14:30:16.567Z"
   },
   {
    "duration": 11,
    "start_time": "2023-02-23T14:30:37.248Z"
   },
   {
    "duration": 83385,
    "start_time": "2023-02-23T14:30:52.098Z"
   },
   {
    "duration": 39,
    "start_time": "2023-02-23T14:33:02.688Z"
   },
   {
    "duration": 4,
    "start_time": "2023-02-23T14:33:07.328Z"
   },
   {
    "duration": 3,
    "start_time": "2023-02-23T14:33:08.547Z"
   },
   {
    "duration": 3,
    "start_time": "2023-02-23T14:33:14.964Z"
   },
   {
    "duration": 48,
    "start_time": "2023-02-23T14:33:23.938Z"
   },
   {
    "duration": 7,
    "start_time": "2023-02-23T14:33:51.252Z"
   },
   {
    "duration": 44,
    "start_time": "2023-02-23T14:33:55.393Z"
   },
   {
    "duration": 40,
    "start_time": "2023-02-23T14:34:23.684Z"
   },
   {
    "duration": 5,
    "start_time": "2023-02-23T14:34:25.624Z"
   },
   {
    "duration": 4,
    "start_time": "2023-02-23T14:34:27.418Z"
   },
   {
    "duration": 3,
    "start_time": "2023-02-23T14:34:33.518Z"
   },
   {
    "duration": 42,
    "start_time": "2023-02-23T14:34:36.204Z"
   },
   {
    "duration": 213,
    "start_time": "2023-02-23T14:34:51.928Z"
   },
   {
    "duration": 1416512,
    "start_time": "2023-02-23T14:35:06.300Z"
   },
   {
    "duration": 3,
    "start_time": "2023-02-23T15:00:49.053Z"
   },
   {
    "duration": 5,
    "start_time": "2023-02-23T15:02:28.216Z"
   },
   {
    "duration": 2,
    "start_time": "2023-02-23T15:02:43.323Z"
   },
   {
    "duration": 26,
    "start_time": "2023-02-23T15:04:32.578Z"
   },
   {
    "duration": 4,
    "start_time": "2023-02-23T15:04:49.883Z"
   },
   {
    "duration": 4,
    "start_time": "2023-02-23T15:04:52.742Z"
   },
   {
    "duration": 3,
    "start_time": "2023-02-23T15:05:02.433Z"
   },
   {
    "duration": 3,
    "start_time": "2023-02-23T15:05:03.853Z"
   },
   {
    "duration": 19955,
    "start_time": "2023-02-23T15:05:30.671Z"
   },
   {
    "duration": 1557720,
    "start_time": "2023-02-23T15:07:12.341Z"
   },
   {
    "duration": 1842,
    "start_time": "2023-02-23T22:34:18.800Z"
   },
   {
    "duration": 11,
    "start_time": "2023-02-23T22:34:20.645Z"
   },
   {
    "duration": 24,
    "start_time": "2023-02-23T22:34:20.666Z"
   },
   {
    "duration": 1642,
    "start_time": "2023-02-23T22:35:41.073Z"
   },
   {
    "duration": 2,
    "start_time": "2023-02-23T22:35:42.717Z"
   },
   {
    "duration": 6,
    "start_time": "2023-02-23T22:35:42.721Z"
   },
   {
    "duration": 4012,
    "start_time": "2023-02-23T22:35:44.905Z"
   },
   {
    "duration": 4,
    "start_time": "2023-02-23T22:35:49.933Z"
   },
   {
    "duration": 6,
    "start_time": "2023-02-23T22:35:51.217Z"
   },
   {
    "duration": 600,
    "start_time": "2023-02-23T22:35:52.084Z"
   },
   {
    "duration": 14,
    "start_time": "2023-02-23T22:35:55.702Z"
   },
   {
    "duration": 4,
    "start_time": "2023-02-23T22:35:58.001Z"
   },
   {
    "duration": 7,
    "start_time": "2023-02-23T22:36:04.932Z"
   },
   {
    "duration": 12,
    "start_time": "2023-02-23T22:36:09.269Z"
   },
   {
    "duration": 5,
    "start_time": "2023-02-23T22:36:11.981Z"
   },
   {
    "duration": 18,
    "start_time": "2023-02-23T22:36:15.356Z"
   },
   {
    "duration": 15,
    "start_time": "2023-02-23T22:36:16.533Z"
   },
   {
    "duration": 15,
    "start_time": "2023-02-23T22:36:17.369Z"
   },
   {
    "duration": 17,
    "start_time": "2023-02-23T22:36:17.837Z"
   },
   {
    "duration": 96,
    "start_time": "2023-02-23T22:36:18.360Z"
   },
   {
    "duration": 4,
    "start_time": "2023-02-23T22:36:21.382Z"
   },
   {
    "duration": 5,
    "start_time": "2023-02-23T22:36:24.623Z"
   },
   {
    "duration": 6,
    "start_time": "2023-02-23T22:36:24.921Z"
   },
   {
    "duration": 5,
    "start_time": "2023-02-23T22:36:25.272Z"
   },
   {
    "duration": 12,
    "start_time": "2023-02-23T22:36:25.473Z"
   },
   {
    "duration": 36,
    "start_time": "2023-02-23T22:36:25.675Z"
   },
   {
    "duration": 11,
    "start_time": "2023-02-23T22:36:25.873Z"
   },
   {
    "duration": 597,
    "start_time": "2023-02-23T22:36:26.279Z"
   },
   {
    "duration": 10,
    "start_time": "2023-02-23T22:36:28.568Z"
   },
   {
    "duration": 577,
    "start_time": "2023-02-23T22:36:28.797Z"
   },
   {
    "duration": 9,
    "start_time": "2023-02-23T22:36:29.379Z"
   },
   {
    "duration": 19,
    "start_time": "2023-02-23T22:36:29.390Z"
   },
   {
    "duration": 283,
    "start_time": "2023-02-23T22:36:29.873Z"
   },
   {
    "duration": 14,
    "start_time": "2023-02-23T22:36:34.644Z"
   },
   {
    "duration": 11,
    "start_time": "2023-02-23T22:36:42.621Z"
   },
   {
    "duration": 10,
    "start_time": "2023-02-23T22:36:43.565Z"
   },
   {
    "duration": 48,
    "start_time": "2023-02-23T22:36:44.628Z"
   },
   {
    "duration": 4,
    "start_time": "2023-02-23T22:36:45.378Z"
   },
   {
    "duration": 15,
    "start_time": "2023-02-23T22:36:45.648Z"
   },
   {
    "duration": 3,
    "start_time": "2023-02-23T22:36:54.111Z"
   },
   {
    "duration": 3,
    "start_time": "2023-02-23T22:36:54.988Z"
   },
   {
    "duration": 9,
    "start_time": "2023-02-23T22:37:56.164Z"
   },
   {
    "duration": 829693,
    "start_time": "2023-02-23T22:41:55.974Z"
   },
   {
    "duration": 4,
    "start_time": "2023-02-23T22:55:45.669Z"
   },
   {
    "duration": 4,
    "start_time": "2023-02-23T22:56:49.168Z"
   },
   {
    "duration": 1907,
    "start_time": "2023-02-23T22:58:37.169Z"
   },
   {
    "duration": 39,
    "start_time": "2023-02-23T22:59:59.175Z"
   },
   {
    "duration": 1812,
    "start_time": "2023-02-23T23:00:44.990Z"
   },
   {
    "duration": 57,
    "start_time": "2023-02-23T23:00:55.301Z"
   },
   {
    "duration": 30,
    "start_time": "2023-02-23T23:02:47.962Z"
   },
   {
    "duration": 51,
    "start_time": "2023-02-23T23:04:18.043Z"
   },
   {
    "duration": 68,
    "start_time": "2023-02-23T23:04:31.681Z"
   },
   {
    "duration": 36,
    "start_time": "2023-02-23T23:06:08.225Z"
   },
   {
    "duration": 9,
    "start_time": "2023-02-23T23:06:29.796Z"
   },
   {
    "duration": 75,
    "start_time": "2023-02-23T23:08:50.900Z"
   },
   {
    "duration": 564,
    "start_time": "2023-02-23T23:08:56.980Z"
   },
   {
    "duration": 1893,
    "start_time": "2023-02-23T23:09:32.116Z"
   },
   {
    "duration": 1519,
    "start_time": "2023-02-23T23:09:53.572Z"
   },
   {
    "duration": 7370,
    "start_time": "2023-02-23T23:10:29.915Z"
   },
   {
    "duration": 2599,
    "start_time": "2023-02-23T23:10:42.638Z"
   },
   {
    "duration": 1470,
    "start_time": "2023-02-23T23:10:48.872Z"
   },
   {
    "duration": 7,
    "start_time": "2023-02-23T23:10:53.370Z"
   },
   {
    "duration": 872,
    "start_time": "2023-02-23T23:10:54.523Z"
   },
   {
    "duration": 4,
    "start_time": "2023-02-23T23:10:55.398Z"
   },
   {
    "duration": 14,
    "start_time": "2023-02-23T23:10:55.404Z"
   },
   {
    "duration": 685,
    "start_time": "2023-02-23T23:10:55.420Z"
   },
   {
    "duration": 16,
    "start_time": "2023-02-23T23:10:56.107Z"
   },
   {
    "duration": 25,
    "start_time": "2023-02-23T23:10:56.125Z"
   },
   {
    "duration": 43,
    "start_time": "2023-02-23T23:10:56.153Z"
   },
   {
    "duration": 9,
    "start_time": "2023-02-23T23:10:56.198Z"
   },
   {
    "duration": 4,
    "start_time": "2023-02-23T23:10:56.209Z"
   },
   {
    "duration": 16,
    "start_time": "2023-02-23T23:10:57.647Z"
   },
   {
    "duration": 23,
    "start_time": "2023-02-23T23:10:57.863Z"
   },
   {
    "duration": 13,
    "start_time": "2023-02-23T23:10:58.074Z"
   },
   {
    "duration": 10,
    "start_time": "2023-02-23T23:10:58.272Z"
   },
   {
    "duration": 98,
    "start_time": "2023-02-23T23:10:58.447Z"
   },
   {
    "duration": 6,
    "start_time": "2023-02-23T23:10:59.113Z"
   },
   {
    "duration": 7,
    "start_time": "2023-02-23T23:10:59.274Z"
   },
   {
    "duration": 6,
    "start_time": "2023-02-23T23:10:59.419Z"
   },
   {
    "duration": 5,
    "start_time": "2023-02-23T23:10:59.617Z"
   },
   {
    "duration": 5,
    "start_time": "2023-02-23T23:10:59.787Z"
   },
   {
    "duration": 57,
    "start_time": "2023-02-23T23:10:59.958Z"
   },
   {
    "duration": 17,
    "start_time": "2023-02-23T23:11:00.169Z"
   },
   {
    "duration": 583,
    "start_time": "2023-02-23T23:11:00.602Z"
   },
   {
    "duration": 7,
    "start_time": "2023-02-23T23:11:01.188Z"
   },
   {
    "duration": 568,
    "start_time": "2023-02-23T23:11:01.258Z"
   },
   {
    "duration": 20,
    "start_time": "2023-02-23T23:11:01.971Z"
   },
   {
    "duration": 38,
    "start_time": "2023-02-23T23:11:02.719Z"
   },
   {
    "duration": 254,
    "start_time": "2023-02-23T23:11:03.139Z"
   },
   {
    "duration": 76,
    "start_time": "2023-02-23T23:11:05.172Z"
   },
   {
    "duration": 5,
    "start_time": "2023-02-23T23:11:05.307Z"
   },
   {
    "duration": 13,
    "start_time": "2023-02-23T23:11:06.328Z"
   },
   {
    "duration": 3,
    "start_time": "2023-02-23T23:11:07.177Z"
   },
   {
    "duration": 30,
    "start_time": "2023-02-23T23:11:07.487Z"
   },
   {
    "duration": 4,
    "start_time": "2023-02-23T23:11:08.285Z"
   },
   {
    "duration": 6,
    "start_time": "2023-02-23T23:11:09.144Z"
   },
   {
    "duration": 4,
    "start_time": "2023-02-23T23:11:09.670Z"
   },
   {
    "duration": 4,
    "start_time": "2023-02-23T23:11:10.013Z"
   },
   {
    "duration": 722,
    "start_time": "2023-02-23T23:11:13.416Z"
   },
   {
    "duration": 8,
    "start_time": "2023-02-23T23:15:27.483Z"
   },
   {
    "duration": 140951,
    "start_time": "2023-02-23T23:16:55.711Z"
   },
   {
    "duration": 2760,
    "start_time": "2023-02-23T23:20:08.303Z"
   },
   {
    "duration": 1647,
    "start_time": "2023-02-23T23:20:11.070Z"
   },
   {
    "duration": 3,
    "start_time": "2023-02-23T23:20:12.719Z"
   },
   {
    "duration": 12,
    "start_time": "2023-02-23T23:20:12.724Z"
   },
   {
    "duration": 1073,
    "start_time": "2023-02-23T23:20:12.739Z"
   },
   {
    "duration": 3,
    "start_time": "2023-02-23T23:20:13.814Z"
   },
   {
    "duration": 6,
    "start_time": "2023-02-23T23:20:13.819Z"
   },
   {
    "duration": 576,
    "start_time": "2023-02-23T23:20:13.827Z"
   },
   {
    "duration": 15,
    "start_time": "2023-02-23T23:20:14.404Z"
   },
   {
    "duration": 4,
    "start_time": "2023-02-23T23:20:14.421Z"
   },
   {
    "duration": 39,
    "start_time": "2023-02-23T23:20:14.428Z"
   },
   {
    "duration": 23,
    "start_time": "2023-02-23T23:20:14.470Z"
   },
   {
    "duration": 5,
    "start_time": "2023-02-23T23:20:14.495Z"
   },
   {
    "duration": 4,
    "start_time": "2023-02-23T23:20:14.503Z"
   },
   {
    "duration": 17,
    "start_time": "2023-02-23T23:20:14.509Z"
   },
   {
    "duration": 9,
    "start_time": "2023-02-23T23:20:14.528Z"
   },
   {
    "duration": 15,
    "start_time": "2023-02-23T23:20:14.538Z"
   },
   {
    "duration": 129,
    "start_time": "2023-02-23T23:20:14.554Z"
   },
   {
    "duration": 5,
    "start_time": "2023-02-23T23:20:14.685Z"
   },
   {
    "duration": 7,
    "start_time": "2023-02-23T23:20:14.693Z"
   },
   {
    "duration": 8,
    "start_time": "2023-02-23T23:20:14.701Z"
   },
   {
    "duration": 7,
    "start_time": "2023-02-23T23:20:14.711Z"
   },
   {
    "duration": 32,
    "start_time": "2023-02-23T23:20:14.720Z"
   },
   {
    "duration": 40,
    "start_time": "2023-02-23T23:20:14.759Z"
   },
   {
    "duration": 9,
    "start_time": "2023-02-23T23:20:14.801Z"
   },
   {
    "duration": 554,
    "start_time": "2023-02-23T23:20:14.812Z"
   },
   {
    "duration": 11,
    "start_time": "2023-02-23T23:20:15.368Z"
   },
   {
    "duration": 580,
    "start_time": "2023-02-23T23:20:15.381Z"
   },
   {
    "duration": 13,
    "start_time": "2023-02-23T23:20:15.963Z"
   },
   {
    "duration": 29,
    "start_time": "2023-02-23T23:20:15.977Z"
   },
   {
    "duration": 234,
    "start_time": "2023-02-23T23:20:16.008Z"
   },
   {
    "duration": 114,
    "start_time": "2023-02-23T23:20:16.244Z"
   },
   {
    "duration": 0,
    "start_time": "2023-02-23T23:20:16.364Z"
   },
   {
    "duration": 0,
    "start_time": "2023-02-23T23:20:16.368Z"
   },
   {
    "duration": 0,
    "start_time": "2023-02-23T23:20:16.371Z"
   },
   {
    "duration": 0,
    "start_time": "2023-02-23T23:20:16.374Z"
   },
   {
    "duration": 0,
    "start_time": "2023-02-23T23:20:16.376Z"
   },
   {
    "duration": 0,
    "start_time": "2023-02-23T23:20:16.382Z"
   },
   {
    "duration": 0,
    "start_time": "2023-02-23T23:20:16.383Z"
   },
   {
    "duration": 0,
    "start_time": "2023-02-23T23:20:16.385Z"
   },
   {
    "duration": 0,
    "start_time": "2023-02-23T23:20:16.387Z"
   },
   {
    "duration": 0,
    "start_time": "2023-02-23T23:20:16.388Z"
   },
   {
    "duration": 0,
    "start_time": "2023-02-23T23:20:16.389Z"
   },
   {
    "duration": 6,
    "start_time": "2023-02-23T23:21:12.818Z"
   },
   {
    "duration": 16,
    "start_time": "2023-02-23T23:21:13.064Z"
   },
   {
    "duration": 4,
    "start_time": "2023-02-23T23:21:13.283Z"
   },
   {
    "duration": 38,
    "start_time": "2023-02-23T23:21:13.473Z"
   },
   {
    "duration": 3,
    "start_time": "2023-02-23T23:21:13.637Z"
   },
   {
    "duration": 3,
    "start_time": "2023-02-23T23:21:13.816Z"
   },
   {
    "duration": 3,
    "start_time": "2023-02-23T23:21:14.017Z"
   },
   {
    "duration": 138,
    "start_time": "2023-02-23T23:21:14.381Z"
   },
   {
    "duration": 14,
    "start_time": "2023-02-23T23:21:14.567Z"
   },
   {
    "duration": 11,
    "start_time": "2023-02-23T23:21:14.728Z"
   },
   {
    "duration": 3,
    "start_time": "2023-02-23T23:21:25.905Z"
   },
   {
    "duration": 123768,
    "start_time": "2023-02-23T23:21:55.672Z"
   },
   {
    "duration": 16607,
    "start_time": "2023-02-23T23:23:59.445Z"
   },
   {
    "duration": 27,
    "start_time": "2023-02-23T23:24:16.058Z"
   },
   {
    "duration": 359256,
    "start_time": "2023-02-23T23:26:26.984Z"
   },
   {
    "duration": 1657767,
    "start_time": "2023-02-23T23:32:26.241Z"
   },
   {
    "duration": 10,
    "start_time": "2023-02-24T00:01:33.573Z"
   },
   {
    "duration": 20680,
    "start_time": "2023-02-24T00:01:55.741Z"
   },
   {
    "duration": 3,
    "start_time": "2023-02-24T00:06:08.914Z"
   },
   {
    "duration": 118,
    "start_time": "2023-02-24T00:06:39.022Z"
   },
   {
    "duration": 93,
    "start_time": "2023-02-24T00:08:08.219Z"
   },
   {
    "duration": 17,
    "start_time": "2023-02-24T00:08:21.002Z"
   },
   {
    "duration": 364411,
    "start_time": "2023-02-24T00:11:22.745Z"
   },
   {
    "duration": 0,
    "start_time": "2023-02-25T12:09:46.477Z"
   },
   {
    "duration": 10,
    "start_time": "2023-02-25T12:10:14.497Z"
   },
   {
    "duration": 19185,
    "start_time": "2023-02-25T12:10:43.932Z"
   },
   {
    "duration": 8551,
    "start_time": "2023-02-25T17:13:15.949Z"
   },
   {
    "duration": 1560,
    "start_time": "2023-02-25T17:13:24.503Z"
   },
   {
    "duration": 6,
    "start_time": "2023-02-25T17:13:26.065Z"
   },
   {
    "duration": 12,
    "start_time": "2023-02-25T17:13:26.075Z"
   },
   {
    "duration": 3078,
    "start_time": "2023-02-25T17:13:26.237Z"
   },
   {
    "duration": 699,
    "start_time": "2023-02-25T17:13:47.860Z"
   },
   {
    "duration": 4,
    "start_time": "2023-02-25T17:13:59.962Z"
   },
   {
    "duration": 109,
    "start_time": "2023-02-25T17:18:09.552Z"
   },
   {
    "duration": 3,
    "start_time": "2023-02-25T17:18:14.371Z"
   },
   {
    "duration": 3,
    "start_time": "2023-02-25T17:18:15.363Z"
   },
   {
    "duration": 529,
    "start_time": "2023-02-25T17:18:15.802Z"
   },
   {
    "duration": 14,
    "start_time": "2023-02-25T17:18:16.332Z"
   },
   {
    "duration": 4,
    "start_time": "2023-02-25T17:24:37.641Z"
   },
   {
    "duration": 3,
    "start_time": "2023-02-25T17:24:57.194Z"
   },
   {
    "duration": 78,
    "start_time": "2023-02-25T17:28:31.164Z"
   },
   {
    "duration": 75,
    "start_time": "2023-02-25T17:31:42.792Z"
   },
   {
    "duration": 13,
    "start_time": "2023-02-25T17:31:46.433Z"
   },
   {
    "duration": 70,
    "start_time": "2023-02-25T17:32:02.072Z"
   },
   {
    "duration": 19,
    "start_time": "2023-02-25T17:32:05.191Z"
   },
   {
    "duration": 86,
    "start_time": "2023-02-25T17:32:11.322Z"
   },
   {
    "duration": 8,
    "start_time": "2023-02-25T17:32:22.253Z"
   },
   {
    "duration": 67,
    "start_time": "2023-02-25T17:32:28.363Z"
   },
   {
    "duration": 97,
    "start_time": "2023-02-25T17:32:31.513Z"
   },
   {
    "duration": 7,
    "start_time": "2023-02-25T17:34:25.310Z"
   },
   {
    "duration": 13,
    "start_time": "2023-02-25T17:34:48.093Z"
   },
   {
    "duration": 9,
    "start_time": "2023-02-25T17:34:54.965Z"
   },
   {
    "duration": 10,
    "start_time": "2023-02-25T17:36:08.717Z"
   },
   {
    "duration": 9,
    "start_time": "2023-02-25T17:36:16.248Z"
   },
   {
    "duration": 5,
    "start_time": "2023-02-25T17:37:45.890Z"
   },
   {
    "duration": 9,
    "start_time": "2023-02-25T17:39:07.979Z"
   },
   {
    "duration": 12,
    "start_time": "2023-02-25T17:39:14.165Z"
   },
   {
    "duration": 119,
    "start_time": "2023-02-25T17:48:53.054Z"
   },
   {
    "duration": 20,
    "start_time": "2023-02-25T17:50:28.858Z"
   },
   {
    "duration": 6,
    "start_time": "2023-02-25T17:50:47.148Z"
   },
   {
    "duration": 10,
    "start_time": "2023-02-25T17:50:50.858Z"
   },
   {
    "duration": 7,
    "start_time": "2023-02-25T17:50:52.783Z"
   },
   {
    "duration": 7,
    "start_time": "2023-02-25T17:51:00.019Z"
   },
   {
    "duration": 23,
    "start_time": "2023-02-25T17:51:51.962Z"
   },
   {
    "duration": 13,
    "start_time": "2023-02-25T17:52:02.659Z"
   },
   {
    "duration": 11,
    "start_time": "2023-02-25T17:52:21.244Z"
   },
   {
    "duration": 12,
    "start_time": "2023-02-25T17:52:31.088Z"
   },
   {
    "duration": 13,
    "start_time": "2023-02-25T17:52:34.844Z"
   },
   {
    "duration": 5,
    "start_time": "2023-02-25T17:52:47.209Z"
   },
   {
    "duration": 9,
    "start_time": "2023-02-25T17:53:25.868Z"
   },
   {
    "duration": 10,
    "start_time": "2023-02-25T17:54:13.993Z"
   },
   {
    "duration": 141,
    "start_time": "2023-02-25T17:55:08.729Z"
   },
   {
    "duration": 5,
    "start_time": "2023-02-25T17:56:15.838Z"
   },
   {
    "duration": 4,
    "start_time": "2023-02-25T17:56:19.569Z"
   },
   {
    "duration": 4,
    "start_time": "2023-02-25T17:56:19.898Z"
   },
   {
    "duration": 5,
    "start_time": "2023-02-25T17:56:20.249Z"
   },
   {
    "duration": 36,
    "start_time": "2023-02-25T17:56:21.208Z"
   },
   {
    "duration": 8,
    "start_time": "2023-02-25T17:56:22.908Z"
   },
   {
    "duration": 557,
    "start_time": "2023-02-25T17:56:26.242Z"
   },
   {
    "duration": 7,
    "start_time": "2023-02-25T19:52:54.086Z"
   },
   {
    "duration": 583,
    "start_time": "2023-02-25T19:52:57.164Z"
   },
   {
    "duration": 10,
    "start_time": "2023-02-25T19:57:01.356Z"
   },
   {
    "duration": 16,
    "start_time": "2023-02-25T19:57:17.043Z"
   },
   {
    "duration": 9,
    "start_time": "2023-02-25T19:57:17.593Z"
   },
   {
    "duration": 257,
    "start_time": "2023-02-25T19:57:18.515Z"
   },
   {
    "duration": 7,
    "start_time": "2023-02-25T19:57:23.648Z"
   },
   {
    "duration": 17,
    "start_time": "2023-02-25T19:58:15.844Z"
   },
   {
    "duration": 13,
    "start_time": "2023-02-25T19:58:27.005Z"
   },
   {
    "duration": 2,
    "start_time": "2023-02-25T20:05:44.960Z"
   },
   {
    "duration": 3,
    "start_time": "2023-02-25T20:05:46.965Z"
   },
   {
    "duration": 13,
    "start_time": "2023-02-25T20:05:51.375Z"
   },
   {
    "duration": 3,
    "start_time": "2023-02-25T20:06:48.074Z"
   },
   {
    "duration": 5,
    "start_time": "2023-02-25T20:06:50.674Z"
   },
   {
    "duration": 5,
    "start_time": "2023-02-25T20:08:11.295Z"
   },
   {
    "duration": 8,
    "start_time": "2023-02-25T20:08:14.905Z"
   },
   {
    "duration": 96,
    "start_time": "2023-02-25T20:08:17.296Z"
   },
   {
    "duration": 3,
    "start_time": "2023-02-25T20:08:54.964Z"
   },
   {
    "duration": 3,
    "start_time": "2023-02-25T20:08:57.551Z"
   },
   {
    "duration": 90,
    "start_time": "2023-02-25T20:09:47.595Z"
   },
   {
    "duration": 1175,
    "start_time": "2023-02-25T20:09:55.356Z"
   },
   {
    "duration": 10,
    "start_time": "2023-02-25T20:10:09.815Z"
   },
   {
    "duration": 78,
    "start_time": "2023-02-25T20:10:18.451Z"
   },
   {
    "duration": 63,
    "start_time": "2023-02-25T20:10:23.359Z"
   },
   {
    "duration": 17,
    "start_time": "2023-02-25T20:11:09.851Z"
   },
   {
    "duration": 14,
    "start_time": "2023-02-25T20:11:22.794Z"
   },
   {
    "duration": 1134,
    "start_time": "2023-02-25T20:12:21.914Z"
   },
   {
    "duration": 1930,
    "start_time": "2023-02-25T20:12:29.094Z"
   },
   {
    "duration": 1932,
    "start_time": "2023-02-25T20:14:00.857Z"
   },
   {
    "duration": 1759,
    "start_time": "2023-02-25T20:14:16.995Z"
   },
   {
    "duration": 1804,
    "start_time": "2023-02-25T20:14:26.746Z"
   },
   {
    "duration": 1786,
    "start_time": "2023-02-25T20:14:32.413Z"
   },
   {
    "duration": 1853,
    "start_time": "2023-02-25T20:15:37.158Z"
   },
   {
    "duration": 1952,
    "start_time": "2023-02-25T20:15:55.794Z"
   },
   {
    "duration": 39,
    "start_time": "2023-02-25T20:17:27.274Z"
   },
   {
    "duration": 1799,
    "start_time": "2023-02-25T20:17:32.054Z"
   },
   {
    "duration": 18,
    "start_time": "2023-02-25T20:19:04.017Z"
   },
   {
    "duration": 6,
    "start_time": "2023-02-25T20:20:32.487Z"
   },
   {
    "duration": 10,
    "start_time": "2023-02-25T20:21:07.177Z"
   },
   {
    "duration": 7,
    "start_time": "2023-02-25T20:21:13.348Z"
   },
   {
    "duration": 7,
    "start_time": "2023-02-25T20:21:17.817Z"
   },
   {
    "duration": 4,
    "start_time": "2023-02-25T20:22:03.881Z"
   },
   {
    "duration": 6,
    "start_time": "2023-02-25T20:23:06.402Z"
   },
   {
    "duration": 9,
    "start_time": "2023-02-25T20:23:09.209Z"
   },
   {
    "duration": 9,
    "start_time": "2023-02-25T20:23:35.378Z"
   },
   {
    "duration": 11,
    "start_time": "2023-02-25T20:23:50.617Z"
   },
   {
    "duration": 8,
    "start_time": "2023-02-25T20:23:53.919Z"
   },
   {
    "duration": 5,
    "start_time": "2023-02-25T20:23:57.977Z"
   },
   {
    "duration": 1090,
    "start_time": "2023-02-25T20:24:11.289Z"
   },
   {
    "duration": 43,
    "start_time": "2023-02-25T20:24:52.071Z"
   },
   {
    "duration": 15,
    "start_time": "2023-02-25T20:25:37.952Z"
   },
   {
    "duration": 18,
    "start_time": "2023-02-25T20:26:37.600Z"
   },
   {
    "duration": 10,
    "start_time": "2023-02-25T20:27:03.069Z"
   },
   {
    "duration": 40,
    "start_time": "2023-02-25T20:27:08.008Z"
   },
   {
    "duration": 22,
    "start_time": "2023-02-25T20:28:07.057Z"
   },
   {
    "duration": 14,
    "start_time": "2023-02-25T20:28:59.409Z"
   },
   {
    "duration": 4,
    "start_time": "2023-02-25T20:29:01.479Z"
   },
   {
    "duration": 5,
    "start_time": "2023-02-25T20:29:08.188Z"
   },
   {
    "duration": 4,
    "start_time": "2023-02-25T20:29:16.099Z"
   },
   {
    "duration": 23535,
    "start_time": "2023-02-25T20:29:21.369Z"
   },
   {
    "duration": 94407,
    "start_time": "2023-02-25T20:30:30.266Z"
   },
   {
    "duration": 944874,
    "start_time": "2023-02-25T20:32:52.556Z"
   },
   {
    "duration": 11,
    "start_time": "2023-02-25T20:54:06.631Z"
   },
   {
    "duration": 13,
    "start_time": "2023-02-25T20:54:26.200Z"
   },
   {
    "duration": 17,
    "start_time": "2023-02-25T20:54:50.904Z"
   },
   {
    "duration": 2519,
    "start_time": "2023-02-25T20:55:20.941Z"
   },
   {
    "duration": 20,
    "start_time": "2023-02-25T20:55:46.948Z"
   },
   {
    "duration": 2667,
    "start_time": "2023-02-25T20:56:54.982Z"
   },
   {
    "duration": 2558,
    "start_time": "2023-02-25T20:57:11.999Z"
   },
   {
    "duration": 2567,
    "start_time": "2023-02-25T20:57:42.197Z"
   },
   {
    "duration": 2543,
    "start_time": "2023-02-25T20:58:17.455Z"
   },
   {
    "duration": 10,
    "start_time": "2023-02-25T20:58:29.177Z"
   },
   {
    "duration": 2581,
    "start_time": "2023-02-25T20:59:15.746Z"
   },
   {
    "duration": 5,
    "start_time": "2023-02-25T20:59:21.698Z"
   },
   {
    "duration": 5,
    "start_time": "2023-02-25T20:59:26.456Z"
   },
   {
    "duration": 3,
    "start_time": "2023-02-25T20:59:33.544Z"
   },
   {
    "duration": 12,
    "start_time": "2023-02-25T20:59:41.440Z"
   },
   {
    "duration": 40,
    "start_time": "2023-02-25T20:59:46.497Z"
   },
   {
    "duration": 7,
    "start_time": "2023-02-25T21:00:05.966Z"
   },
   {
    "duration": 3,
    "start_time": "2023-02-25T21:00:08.616Z"
   },
   {
    "duration": 2638,
    "start_time": "2023-02-25T21:00:42.642Z"
   },
   {
    "duration": 2752,
    "start_time": "2023-02-25T21:00:49.048Z"
   },
   {
    "duration": 11,
    "start_time": "2023-02-25T21:32:01.988Z"
   },
   {
    "duration": 74,
    "start_time": "2023-02-25T21:32:04.868Z"
   },
   {
    "duration": 4,
    "start_time": "2023-02-25T21:53:12.381Z"
   },
   {
    "duration": 4,
    "start_time": "2023-02-25T21:53:28.431Z"
   },
   {
    "duration": 13,
    "start_time": "2023-02-25T21:55:13.869Z"
   },
   {
    "duration": 7,
    "start_time": "2023-02-25T21:55:24.126Z"
   },
   {
    "duration": 8,
    "start_time": "2023-02-25T21:55:50.841Z"
   },
   {
    "duration": 8,
    "start_time": "2023-02-25T21:55:55.959Z"
   },
   {
    "duration": 8,
    "start_time": "2023-02-25T21:56:10.859Z"
   },
   {
    "duration": 9,
    "start_time": "2023-02-25T21:56:15.659Z"
   },
   {
    "duration": 11,
    "start_time": "2023-02-25T21:58:15.525Z"
   },
   {
    "duration": 9,
    "start_time": "2023-02-25T21:59:51.698Z"
   },
   {
    "duration": 2583,
    "start_time": "2023-02-25T21:59:55.900Z"
   },
   {
    "duration": 10,
    "start_time": "2023-02-25T22:00:00.449Z"
   },
   {
    "duration": 2073,
    "start_time": "2023-02-25T22:00:09.729Z"
   },
   {
    "duration": 1252,
    "start_time": "2023-02-25T22:00:11.804Z"
   },
   {
    "duration": 3,
    "start_time": "2023-02-25T22:00:13.058Z"
   },
   {
    "duration": 6,
    "start_time": "2023-02-25T22:00:13.063Z"
   },
   {
    "duration": 729,
    "start_time": "2023-02-25T22:00:13.071Z"
   },
   {
    "duration": 5,
    "start_time": "2023-02-25T22:00:13.802Z"
   },
   {
    "duration": 13,
    "start_time": "2023-02-25T22:00:13.809Z"
   },
   {
    "duration": 8,
    "start_time": "2023-02-25T22:00:13.824Z"
   },
   {
    "duration": 481,
    "start_time": "2023-02-25T22:00:13.833Z"
   },
   {
    "duration": 14,
    "start_time": "2023-02-25T22:00:14.317Z"
   },
   {
    "duration": 13,
    "start_time": "2023-02-25T22:00:14.332Z"
   },
   {
    "duration": 10,
    "start_time": "2023-02-25T22:00:14.346Z"
   },
   {
    "duration": 12,
    "start_time": "2023-02-25T22:00:14.357Z"
   },
   {
    "duration": 24,
    "start_time": "2023-02-25T22:00:14.371Z"
   },
   {
    "duration": 12,
    "start_time": "2023-02-25T22:00:14.396Z"
   },
   {
    "duration": 5,
    "start_time": "2023-02-25T22:00:14.409Z"
   },
   {
    "duration": 13,
    "start_time": "2023-02-25T22:00:14.416Z"
   },
   {
    "duration": 15,
    "start_time": "2023-02-25T22:00:14.431Z"
   },
   {
    "duration": 48,
    "start_time": "2023-02-25T22:00:14.448Z"
   },
   {
    "duration": 7,
    "start_time": "2023-02-25T22:00:14.498Z"
   },
   {
    "duration": 160,
    "start_time": "2023-02-25T22:00:14.507Z"
   },
   {
    "duration": 5,
    "start_time": "2023-02-25T22:00:14.669Z"
   },
   {
    "duration": 9,
    "start_time": "2023-02-25T22:00:14.676Z"
   },
   {
    "duration": 8,
    "start_time": "2023-02-25T22:00:14.686Z"
   },
   {
    "duration": 10,
    "start_time": "2023-02-25T22:00:14.695Z"
   },
   {
    "duration": 35,
    "start_time": "2023-02-25T22:00:14.707Z"
   },
   {
    "duration": 18,
    "start_time": "2023-02-25T22:00:14.744Z"
   },
   {
    "duration": 557,
    "start_time": "2023-02-25T22:00:14.766Z"
   },
   {
    "duration": 6,
    "start_time": "2023-02-25T22:00:15.325Z"
   },
   {
    "duration": 528,
    "start_time": "2023-02-25T22:00:15.333Z"
   },
   {
    "duration": 16,
    "start_time": "2023-02-25T22:00:15.863Z"
   },
   {
    "duration": 121,
    "start_time": "2023-02-25T22:00:15.881Z"
   },
   {
    "duration": 0,
    "start_time": "2023-02-25T22:00:16.004Z"
   },
   {
    "duration": 0,
    "start_time": "2023-02-25T22:00:16.005Z"
   },
   {
    "duration": 0,
    "start_time": "2023-02-25T22:00:16.006Z"
   },
   {
    "duration": 0,
    "start_time": "2023-02-25T22:00:16.007Z"
   },
   {
    "duration": 0,
    "start_time": "2023-02-25T22:00:16.008Z"
   },
   {
    "duration": 0,
    "start_time": "2023-02-25T22:00:16.010Z"
   },
   {
    "duration": 0,
    "start_time": "2023-02-25T22:00:16.011Z"
   },
   {
    "duration": 0,
    "start_time": "2023-02-25T22:00:16.013Z"
   },
   {
    "duration": 0,
    "start_time": "2023-02-25T22:00:16.014Z"
   },
   {
    "duration": 0,
    "start_time": "2023-02-25T22:00:16.015Z"
   },
   {
    "duration": 0,
    "start_time": "2023-02-25T22:00:16.016Z"
   },
   {
    "duration": 0,
    "start_time": "2023-02-25T22:00:16.017Z"
   },
   {
    "duration": 0,
    "start_time": "2023-02-25T22:00:16.018Z"
   },
   {
    "duration": 0,
    "start_time": "2023-02-25T22:00:16.019Z"
   },
   {
    "duration": 0,
    "start_time": "2023-02-25T22:00:16.021Z"
   },
   {
    "duration": 0,
    "start_time": "2023-02-25T22:00:16.022Z"
   },
   {
    "duration": 0,
    "start_time": "2023-02-25T22:00:16.023Z"
   },
   {
    "duration": 0,
    "start_time": "2023-02-25T22:00:16.024Z"
   },
   {
    "duration": 2099,
    "start_time": "2023-02-25T22:00:40.367Z"
   },
   {
    "duration": 1474,
    "start_time": "2023-02-25T22:00:42.469Z"
   },
   {
    "duration": 4,
    "start_time": "2023-02-25T22:00:43.945Z"
   },
   {
    "duration": 7,
    "start_time": "2023-02-25T22:00:43.951Z"
   },
   {
    "duration": 720,
    "start_time": "2023-02-25T22:00:43.960Z"
   },
   {
    "duration": 3,
    "start_time": "2023-02-25T22:00:44.682Z"
   },
   {
    "duration": 9,
    "start_time": "2023-02-25T22:00:44.692Z"
   },
   {
    "duration": 7,
    "start_time": "2023-02-25T22:00:44.704Z"
   },
   {
    "duration": 500,
    "start_time": "2023-02-25T22:00:44.713Z"
   },
   {
    "duration": 18,
    "start_time": "2023-02-25T22:00:45.218Z"
   },
   {
    "duration": 8,
    "start_time": "2023-02-25T22:00:45.240Z"
   },
   {
    "duration": 15,
    "start_time": "2023-02-25T22:00:45.250Z"
   },
   {
    "duration": 29,
    "start_time": "2023-02-25T22:00:45.266Z"
   },
   {
    "duration": 9,
    "start_time": "2023-02-25T22:00:45.297Z"
   },
   {
    "duration": 24,
    "start_time": "2023-02-25T22:00:45.308Z"
   },
   {
    "duration": 11,
    "start_time": "2023-02-25T22:00:45.333Z"
   },
   {
    "duration": 19,
    "start_time": "2023-02-25T22:00:45.345Z"
   },
   {
    "duration": 26,
    "start_time": "2023-02-25T22:00:45.366Z"
   },
   {
    "duration": 8,
    "start_time": "2023-02-25T22:00:45.394Z"
   },
   {
    "duration": 7,
    "start_time": "2023-02-25T22:00:45.404Z"
   },
   {
    "duration": 164,
    "start_time": "2023-02-25T22:00:45.412Z"
   },
   {
    "duration": 13,
    "start_time": "2023-02-25T22:00:45.578Z"
   },
   {
    "duration": 7,
    "start_time": "2023-02-25T22:00:45.594Z"
   },
   {
    "duration": 12,
    "start_time": "2023-02-25T22:00:45.603Z"
   },
   {
    "duration": 8,
    "start_time": "2023-02-25T22:00:45.617Z"
   },
   {
    "duration": 35,
    "start_time": "2023-02-25T22:00:45.627Z"
   },
   {
    "duration": 29,
    "start_time": "2023-02-25T22:00:45.664Z"
   },
   {
    "duration": 569,
    "start_time": "2023-02-25T22:00:45.696Z"
   },
   {
    "duration": 6,
    "start_time": "2023-02-25T22:00:46.266Z"
   },
   {
    "duration": 506,
    "start_time": "2023-02-25T22:00:46.274Z"
   },
   {
    "duration": 20,
    "start_time": "2023-02-25T22:00:46.782Z"
   },
   {
    "duration": 187,
    "start_time": "2023-02-25T22:00:46.804Z"
   },
   {
    "duration": 9,
    "start_time": "2023-02-25T22:00:46.993Z"
   },
   {
    "duration": 1845,
    "start_time": "2023-02-25T22:00:47.004Z"
   },
   {
    "duration": 47,
    "start_time": "2023-02-25T22:00:48.851Z"
   },
   {
    "duration": 20,
    "start_time": "2023-02-25T22:00:48.900Z"
   },
   {
    "duration": 5,
    "start_time": "2023-02-25T22:00:48.922Z"
   },
   {
    "duration": 42,
    "start_time": "2023-02-25T22:00:48.929Z"
   },
   {
    "duration": 5,
    "start_time": "2023-02-25T22:00:48.992Z"
   },
   {
    "duration": 19,
    "start_time": "2023-02-25T22:00:48.999Z"
   },
   {
    "duration": 34,
    "start_time": "2023-02-25T22:00:49.020Z"
   },
   {
    "duration": 8,
    "start_time": "2023-02-25T22:00:49.056Z"
   },
   {
    "duration": 6,
    "start_time": "2023-02-25T22:00:49.065Z"
   },
   {
    "duration": 24534,
    "start_time": "2023-02-25T22:00:49.072Z"
   },
   {
    "duration": 97302,
    "start_time": "2023-02-25T22:01:13.608Z"
   },
   {
    "duration": 954215,
    "start_time": "2023-02-25T22:02:50.913Z"
   },
   {
    "duration": 9,
    "start_time": "2023-02-25T22:18:45.130Z"
   },
   {
    "duration": 2661,
    "start_time": "2023-02-25T22:18:45.144Z"
   },
   {
    "duration": 8,
    "start_time": "2023-02-25T22:18:47.807Z"
   },
   {
    "duration": 7306,
    "start_time": "2023-02-25T22:19:35.806Z"
   },
   {
    "duration": 10,
    "start_time": "2023-02-25T22:20:47.325Z"
   },
   {
    "duration": 10,
    "start_time": "2023-02-25T22:21:34.205Z"
   },
   {
    "duration": 14,
    "start_time": "2023-02-25T22:27:04.842Z"
   },
   {
    "duration": 7395,
    "start_time": "2023-02-25T22:27:31.141Z"
   },
   {
    "duration": 7367,
    "start_time": "2023-02-25T22:27:41.591Z"
   }
  ],
  "kernelspec": {
   "display_name": "Python 3 (ipykernel)",
   "language": "python",
   "name": "python3"
  },
  "language_info": {
   "codemirror_mode": {
    "name": "ipython",
    "version": 3
   },
   "file_extension": ".py",
   "mimetype": "text/x-python",
   "name": "python",
   "nbconvert_exporter": "python",
   "pygments_lexer": "ipython3",
   "version": "3.9.7"
  },
  "toc": {
   "base_numbering": 1,
   "nav_menu": {},
   "number_sections": true,
   "sideBar": true,
   "skip_h1_title": true,
   "title_cell": "Содержание",
   "title_sidebar": "Contents",
   "toc_cell": true,
   "toc_position": {
    "height": "calc(100% - 180px)",
    "left": "10px",
    "top": "150px",
    "width": "284px"
   },
   "toc_section_display": true,
   "toc_window_display": true
  }
 },
 "nbformat": 4,
 "nbformat_minor": 2
}
